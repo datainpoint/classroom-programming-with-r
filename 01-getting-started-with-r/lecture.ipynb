{
 "cells": [
  {
   "cell_type": "markdown",
   "metadata": {
    "slideshow": {
     "slide_type": "slide"
    }
   },
   "source": [
    "# R 程式設計\n",
    "\n",
    "> 起步走\n",
    "\n",
    "[數據交點](https://www.datainpoint.com) | 郭耀仁 <yaojenkuo@datainpoint.com>"
   ]
  },
  {
   "cell_type": "markdown",
   "metadata": {
    "slideshow": {
     "slide_type": "subslide"
    }
   },
   "source": [
    "> The way R works is pretty straightforward, you apply functions to objects.\n",
    ">\n",
    "> [Greg Martin](https://www.youtube.com/user/drgregmartin)"
   ]
  },
  {
   "cell_type": "markdown",
   "metadata": {
    "slideshow": {
     "slide_type": "slide"
    }
   },
   "source": [
    "## 關於 R"
   ]
  },
  {
   "cell_type": "markdown",
   "metadata": {
    "slideshow": {
     "slide_type": "subslide"
    }
   },
   "source": [
    "## R 是一個專注在資料科學的程式語言\n",
    "\n",
    "- 由紐西蘭奧克蘭大學的 Ross Ihaka 和 Robert Gentleman 所設計\n",
    "- 由 [R 核心團隊](https://www.r-project.org/)維護"
   ]
  },
  {
   "cell_type": "markdown",
   "metadata": {
    "slideshow": {
     "slide_type": "subslide"
    }
   },
   "source": [
    "## R 與其他專注在資料科學的程式語言（Matlab、SAS、Julia 等）相對比較\n",
    "\n",
    "- 與 Matlab, SAS 相較: 開源授權\n",
    "- 與 Julia 相較: 廣大開發者、使用者社群\n",
    "- [TIOBE Index](https://www.tiobe.com/tiobe-index/)\n",
    "- [StackOverflow Trends](https://insights.stackoverflow.com/trends?tags=r%2Cmatlab%2Csas%2Cjulia)"
   ]
  },
  {
   "cell_type": "markdown",
   "metadata": {
    "slideshow": {
     "slide_type": "subslide"
    }
   },
   "source": [
    "## R 與其他泛用的程式語言（Python、Java、C/C++ 等）相對比較\n",
    "\n",
    "- 內建的向量化運算特性\n",
    "- 以「函數」（Function）作為主體\n",
    "- 不需要學習類別（Class），因此學習路線比較短"
   ]
  },
  {
   "cell_type": "markdown",
   "metadata": {
    "slideshow": {
     "slide_type": "slide"
    }
   },
   "source": [
    "## 開發環境"
   ]
  },
  {
   "cell_type": "markdown",
   "metadata": {
    "slideshow": {
     "slide_type": "subslide"
    }
   },
   "source": [
    "## 使用 R 與 RStudio 的組合\n",
    "\n",
    "- R 直譯器（R Interpreter）\n",
    "- RStudio 整合開發環境（Integrated Development Environment, IDE）"
   ]
  },
  {
   "cell_type": "markdown",
   "metadata": {
    "slideshow": {
     "slide_type": "subslide"
    }
   },
   "source": [
    "## 下載 R 直譯器\n",
    "\n",
    "<https://cran.r-project.org/> "
   ]
  },
  {
   "cell_type": "markdown",
   "metadata": {
    "slideshow": {
     "slide_type": "subslide"
    }
   },
   "source": [
    "## 安裝過程可以勾選不要安裝 32 位元檔案\n",
    "\n",
    "![](https://i.imgur.com/A5OwsnX.png)"
   ]
  },
  {
   "cell_type": "markdown",
   "metadata": {
    "slideshow": {
     "slide_type": "subslide"
    }
   },
   "source": [
    "## 下載 RStudio 整合開發環境\n",
    "\n",
    "<https://www.rstudio.com/products/rstudio/download>"
   ]
  },
  {
   "cell_type": "markdown",
   "metadata": {
    "slideshow": {
     "slide_type": "slide"
    }
   },
   "source": [
    "## 執行第一個 R 程式"
   ]
  },
  {
   "cell_type": "markdown",
   "metadata": {
    "slideshow": {
     "slide_type": "subslide"
    }
   },
   "source": [
    "## 在螢幕上顯示出 \"Hello, World!\"\n",
    "\n",
    "在電腦螢幕顯示 \"Hello, World!\"（哈囉，世界！）字串的電腦程式，用作示範一個程式語言如何運作，同時亦可以用來確認一個程式語言的編譯器、程式開發環境及運行環境是否已經安裝妥當。"
   ]
  },
  {
   "cell_type": "markdown",
   "metadata": {
    "slideshow": {
     "slide_type": "subslide"
    }
   },
   "source": [
    "## 使用 RStudio 進行 \n",
    "\n",
    "- 開啟「RStudio」\n",
    "- 新增「R Script」檔案\n",
    "- 在 Untitled1.R 中寫下 `\"Hello, World!\"`（必須加上雙引號）\n",
    "- 將程式碼反白並且點選執行（Run）"
   ]
  },
  {
   "cell_type": "code",
   "execution_count": 1,
   "metadata": {},
   "outputs": [
    {
     "data": {
      "text/html": [
       "'Hello, World!'"
      ],
      "text/latex": [
       "'Hello, World!'"
      ],
      "text/markdown": [
       "'Hello, World!'"
      ],
      "text/plain": [
       "[1] \"Hello, World!\""
      ]
     },
     "metadata": {},
     "output_type": "display_data"
    }
   ],
   "source": [
    "\"Hello, World!\""
   ]
  },
  {
   "cell_type": "markdown",
   "metadata": {
    "slideshow": {
     "slide_type": "slide"
    }
   },
   "source": [
    "## 關於 RStudio 的介面"
   ]
  },
  {
   "cell_type": "markdown",
   "metadata": {
    "slideshow": {
     "slide_type": "subslide"
    }
   },
   "source": [
    "## 四個區塊\n",
    "\n",
    "- Script：程式編輯區\n",
    "- Console：R 互動命令列\n",
    "- Environment：顯示物件、資料與函式\n",
    "- 多功能頁籤"
   ]
  },
  {
   "cell_type": "markdown",
   "metadata": {
    "slideshow": {
     "slide_type": "subslide"
    }
   },
   "source": [
    "## R 互動命令列技巧\n",
    "\n",
    "- 使用 `Ctrl + L` 清空畫面\n",
    "- 使用上與下顯示執行過的指令"
   ]
  },
  {
   "cell_type": "markdown",
   "metadata": {
    "slideshow": {
     "slide_type": "subslide"
    }
   },
   "source": [
    "## 當 Console 一直出現 `+` 該怎麼辦？\n",
    "\n",
    "- 因為 R 還在期待未完的輸入，例如：**應該**成雙出現的 `\"\"`, `''`, `()`, `[]` 或 `{}` ...etc.\n",
    "- 按 `esc` 跳出來！"
   ]
  },
  {
   "cell_type": "markdown",
   "metadata": {
    "slideshow": {
     "slide_type": "subslide"
    }
   },
   "source": [
    "## 更換一個喜歡的 RStudio 佈景主題\n",
    "\n",
    "- 點選「Tools」\n",
    "- 點選「Global Options」\n",
    "- 點選「Appearance」\n",
    "- 挑選「Editor theme」"
   ]
  }
 ],
 "metadata": {
  "celltoolbar": "Slideshow",
  "kernelspec": {
   "display_name": "R",
   "language": "R",
   "name": "ir403"
  },
  "language_info": {
   "codemirror_mode": "r",
   "file_extension": ".r",
   "mimetype": "text/x-r-source",
   "name": "R",
   "pygments_lexer": "r",
   "version": "4.0.3"
  }
 },
 "nbformat": 4,
 "nbformat_minor": 2
}
