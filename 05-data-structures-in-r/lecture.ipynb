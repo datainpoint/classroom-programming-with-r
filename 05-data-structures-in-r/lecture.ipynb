{
 "cells": [
  {
   "cell_type": "markdown",
   "metadata": {
    "slideshow": {
     "slide_type": "slide"
    }
   },
   "source": [
    "# R 程式設計\n",
    "\n",
    "> 資料結構\n",
    "\n",
    "[數據交點](https://www.datainpoint.com/) | 郭耀仁 <yaojenkuo@datainpoint.com>"
   ]
  },
  {
   "cell_type": "markdown",
   "metadata": {
    "slideshow": {
     "slide_type": "subslide"
    }
   },
   "source": [
    "> R’s base data structures can be organized by their dimensionality and whether they’re homogeneous or heterogeneous.\n",
    ">\n",
    "> Hadley Wickham"
   ]
  },
  {
   "cell_type": "markdown",
   "metadata": {
    "slideshow": {
     "slide_type": "subslide"
    }
   },
   "source": [
    "||同質|異質|\n",
    "|:--:|:--|:--|\n",
    "|一維|`vector`|`list`|\n",
    "|二維|`matrix`|`data.frame`|\n",
    "|n維|`array`||"
   ]
  },
  {
   "cell_type": "markdown",
   "metadata": {
    "slideshow": {
     "slide_type": "slide"
    }
   },
   "source": [
    "# `list`"
   ]
  },
  {
   "cell_type": "markdown",
   "metadata": {
    "slideshow": {
     "slide_type": "subslide"
    }
   },
   "source": [
    "## `list` 在 R 中的定位\n",
    "\n",
    "- 未命名的 `list`（unnamed list）用來儲存不同類型的向量\n",
    "- 命名的 `list`（named list）用來儲存 `KEY-VALUE` 組合的資料\n",
    "- 支援 `$` 作為索引"
   ]
  },
  {
   "cell_type": "markdown",
   "metadata": {
    "slideshow": {
     "slide_type": "subslide"
    }
   },
   "source": [
    "## 使用 `list()` 函數創建 `list`"
   ]
  },
  {
   "cell_type": "code",
   "execution_count": 1,
   "metadata": {
    "slideshow": {
     "slide_type": "-"
    }
   },
   "outputs": [
    {
     "data": {
      "text/html": [
       "'list'"
      ],
      "text/latex": [
       "'list'"
      ],
      "text/markdown": [
       "'list'"
      ],
      "text/plain": [
       "[1] \"list\""
      ]
     },
     "metadata": {},
     "output_type": "display_data"
    }
   ],
   "source": [
    "endgame <- list(\n",
    "  \"Avengers: Endgame\",\n",
    "  2019,\n",
    "  8.4,\n",
    "  c(\"Action\", \"Adventure\", \"Sci-Fi\")\n",
    ")\n",
    "class(endgame)"
   ]
  },
  {
   "cell_type": "markdown",
   "metadata": {
    "slideshow": {
     "slide_type": "subslide"
    }
   },
   "source": [
    "## 檢視外觀"
   ]
  },
  {
   "cell_type": "code",
   "execution_count": 2,
   "metadata": {},
   "outputs": [
    {
     "data": {
      "text/html": [
       "<ol>\n",
       "\t<li>'Avengers: Endgame'</li>\n",
       "\t<li>2019</li>\n",
       "\t<li>8.4</li>\n",
       "\t<li><style>\n",
       ".list-inline {list-style: none; margin:0; padding: 0}\n",
       ".list-inline>li {display: inline-block}\n",
       ".list-inline>li:not(:last-child)::after {content: \"\\00b7\"; padding: 0 .5ex}\n",
       "</style>\n",
       "<ol class=list-inline><li>'Action'</li><li>'Adventure'</li><li>'Sci-Fi'</li></ol>\n",
       "</li>\n",
       "</ol>\n"
      ],
      "text/latex": [
       "\\begin{enumerate}\n",
       "\\item 'Avengers: Endgame'\n",
       "\\item 2019\n",
       "\\item 8.4\n",
       "\\item \\begin{enumerate*}\n",
       "\\item 'Action'\n",
       "\\item 'Adventure'\n",
       "\\item 'Sci-Fi'\n",
       "\\end{enumerate*}\n",
       "\n",
       "\\end{enumerate}\n"
      ],
      "text/markdown": [
       "1. 'Avengers: Endgame'\n",
       "2. 2019\n",
       "3. 8.4\n",
       "4. 1. 'Action'\n",
       "2. 'Adventure'\n",
       "3. 'Sci-Fi'\n",
       "\n",
       "\n",
       "\n",
       "\n",
       "\n"
      ],
      "text/plain": [
       "[[1]]\n",
       "[1] \"Avengers: Endgame\"\n",
       "\n",
       "[[2]]\n",
       "[1] 2019\n",
       "\n",
       "[[3]]\n",
       "[1] 8.4\n",
       "\n",
       "[[4]]\n",
       "[1] \"Action\"    \"Adventure\" \"Sci-Fi\"   \n"
      ]
     },
     "metadata": {},
     "output_type": "display_data"
    }
   ],
   "source": [
    "endgame"
   ]
  },
  {
   "cell_type": "markdown",
   "metadata": {
    "slideshow": {
     "slide_type": "subslide"
    }
   },
   "source": [
    "## 使用 `[[INDEX]]` 索引 `list`"
   ]
  },
  {
   "cell_type": "code",
   "execution_count": 3,
   "metadata": {},
   "outputs": [
    {
     "data": {
      "text/html": [
       "'Avengers: Endgame'"
      ],
      "text/latex": [
       "'Avengers: Endgame'"
      ],
      "text/markdown": [
       "'Avengers: Endgame'"
      ],
      "text/plain": [
       "[1] \"Avengers: Endgame\""
      ]
     },
     "metadata": {},
     "output_type": "display_data"
    },
    {
     "data": {
      "text/html": [
       "2019"
      ],
      "text/latex": [
       "2019"
      ],
      "text/markdown": [
       "2019"
      ],
      "text/plain": [
       "[1] 2019"
      ]
     },
     "metadata": {},
     "output_type": "display_data"
    },
    {
     "data": {
      "text/html": [
       "8.4"
      ],
      "text/latex": [
       "8.4"
      ],
      "text/markdown": [
       "8.4"
      ],
      "text/plain": [
       "[1] 8.4"
      ]
     },
     "metadata": {},
     "output_type": "display_data"
    },
    {
     "data": {
      "text/html": [
       "<style>\n",
       ".list-inline {list-style: none; margin:0; padding: 0}\n",
       ".list-inline>li {display: inline-block}\n",
       ".list-inline>li:not(:last-child)::after {content: \"\\00b7\"; padding: 0 .5ex}\n",
       "</style>\n",
       "<ol class=list-inline><li>'Action'</li><li>'Adventure'</li><li>'Sci-Fi'</li></ol>\n"
      ],
      "text/latex": [
       "\\begin{enumerate*}\n",
       "\\item 'Action'\n",
       "\\item 'Adventure'\n",
       "\\item 'Sci-Fi'\n",
       "\\end{enumerate*}\n"
      ],
      "text/markdown": [
       "1. 'Action'\n",
       "2. 'Adventure'\n",
       "3. 'Sci-Fi'\n",
       "\n",
       "\n"
      ],
      "text/plain": [
       "[1] \"Action\"    \"Adventure\" \"Sci-Fi\"   "
      ]
     },
     "metadata": {},
     "output_type": "display_data"
    }
   ],
   "source": [
    "endgame[[1]]\n",
    "endgame[[2]]\n",
    "endgame[[3]]\n",
    "endgame[[4]]"
   ]
  },
  {
   "cell_type": "markdown",
   "metadata": {
    "slideshow": {
     "slide_type": "subslide"
    }
   },
   "source": [
    "## 命名的 `list`（named list）"
   ]
  },
  {
   "cell_type": "code",
   "execution_count": 4,
   "metadata": {},
   "outputs": [
    {
     "data": {
      "text/html": [
       "'list'"
      ],
      "text/latex": [
       "'list'"
      ],
      "text/markdown": [
       "'list'"
      ],
      "text/plain": [
       "[1] \"list\""
      ]
     },
     "metadata": {},
     "output_type": "display_data"
    },
    {
     "data": {
      "text/html": [
       "<dl>\n",
       "\t<dt>$movieTitle</dt>\n",
       "\t\t<dd>'Avengers: Endgame'</dd>\n",
       "\t<dt>$releaseYear</dt>\n",
       "\t\t<dd>2019</dd>\n",
       "\t<dt>$rating</dt>\n",
       "\t\t<dd>8.4</dd>\n",
       "\t<dt>$genre</dt>\n",
       "\t\t<dd><style>\n",
       ".list-inline {list-style: none; margin:0; padding: 0}\n",
       ".list-inline>li {display: inline-block}\n",
       ".list-inline>li:not(:last-child)::after {content: \"\\00b7\"; padding: 0 .5ex}\n",
       "</style>\n",
       "<ol class=list-inline><li>'Action'</li><li>'Adventure'</li><li>'Sci-Fi'</li></ol>\n",
       "</dd>\n",
       "</dl>\n"
      ],
      "text/latex": [
       "\\begin{description}\n",
       "\\item[\\$movieTitle] 'Avengers: Endgame'\n",
       "\\item[\\$releaseYear] 2019\n",
       "\\item[\\$rating] 8.4\n",
       "\\item[\\$genre] \\begin{enumerate*}\n",
       "\\item 'Action'\n",
       "\\item 'Adventure'\n",
       "\\item 'Sci-Fi'\n",
       "\\end{enumerate*}\n",
       "\n",
       "\\end{description}\n"
      ],
      "text/markdown": [
       "$movieTitle\n",
       ":   'Avengers: Endgame'\n",
       "$releaseYear\n",
       ":   2019\n",
       "$rating\n",
       ":   8.4\n",
       "$genre\n",
       ":   1. 'Action'\n",
       "2. 'Adventure'\n",
       "3. 'Sci-Fi'\n",
       "\n",
       "\n",
       "\n",
       "\n",
       "\n"
      ],
      "text/plain": [
       "$movieTitle\n",
       "[1] \"Avengers: Endgame\"\n",
       "\n",
       "$releaseYear\n",
       "[1] 2019\n",
       "\n",
       "$rating\n",
       "[1] 8.4\n",
       "\n",
       "$genre\n",
       "[1] \"Action\"    \"Adventure\" \"Sci-Fi\"   \n"
      ]
     },
     "metadata": {},
     "output_type": "display_data"
    }
   ],
   "source": [
    "endgame <- list(\n",
    "  movieTitle = \"Avengers: Endgame\",\n",
    "  releaseYear = 2019,\n",
    "  rating = 8.4,\n",
    "  genre = c(\"Action\", \"Adventure\", \"Sci-Fi\")\n",
    ")\n",
    "class(endgame)\n",
    "endgame"
   ]
  },
  {
   "cell_type": "markdown",
   "metadata": {
    "slideshow": {
     "slide_type": "subslide"
    }
   },
   "source": [
    "## 使用 [[\"KEY\"]] 來索引 `list`"
   ]
  },
  {
   "cell_type": "code",
   "execution_count": 5,
   "metadata": {},
   "outputs": [
    {
     "data": {
      "text/html": [
       "'Avengers: Endgame'"
      ],
      "text/latex": [
       "'Avengers: Endgame'"
      ],
      "text/markdown": [
       "'Avengers: Endgame'"
      ],
      "text/plain": [
       "[1] \"Avengers: Endgame\""
      ]
     },
     "metadata": {},
     "output_type": "display_data"
    },
    {
     "data": {
      "text/html": [
       "2019"
      ],
      "text/latex": [
       "2019"
      ],
      "text/markdown": [
       "2019"
      ],
      "text/plain": [
       "[1] 2019"
      ]
     },
     "metadata": {},
     "output_type": "display_data"
    },
    {
     "data": {
      "text/html": [
       "8.4"
      ],
      "text/latex": [
       "8.4"
      ],
      "text/markdown": [
       "8.4"
      ],
      "text/plain": [
       "[1] 8.4"
      ]
     },
     "metadata": {},
     "output_type": "display_data"
    },
    {
     "data": {
      "text/html": [
       "<style>\n",
       ".list-inline {list-style: none; margin:0; padding: 0}\n",
       ".list-inline>li {display: inline-block}\n",
       ".list-inline>li:not(:last-child)::after {content: \"\\00b7\"; padding: 0 .5ex}\n",
       "</style>\n",
       "<ol class=list-inline><li>'Action'</li><li>'Adventure'</li><li>'Sci-Fi'</li></ol>\n"
      ],
      "text/latex": [
       "\\begin{enumerate*}\n",
       "\\item 'Action'\n",
       "\\item 'Adventure'\n",
       "\\item 'Sci-Fi'\n",
       "\\end{enumerate*}\n"
      ],
      "text/markdown": [
       "1. 'Action'\n",
       "2. 'Adventure'\n",
       "3. 'Sci-Fi'\n",
       "\n",
       "\n"
      ],
      "text/plain": [
       "[1] \"Action\"    \"Adventure\" \"Sci-Fi\"   "
      ]
     },
     "metadata": {},
     "output_type": "display_data"
    }
   ],
   "source": [
    "endgame[[\"movieTitle\"]]\n",
    "endgame[[\"releaseYear\"]]\n",
    "endgame[[\"rating\"]]\n",
    "endgame[[\"genre\"]]"
   ]
  },
  {
   "cell_type": "markdown",
   "metadata": {
    "slideshow": {
     "slide_type": "subslide"
    }
   },
   "source": [
    "## 亦可以使用 `$KEY` 來索引 `list`"
   ]
  },
  {
   "cell_type": "code",
   "execution_count": 6,
   "metadata": {},
   "outputs": [
    {
     "data": {
      "text/html": [
       "'Avengers: Endgame'"
      ],
      "text/latex": [
       "'Avengers: Endgame'"
      ],
      "text/markdown": [
       "'Avengers: Endgame'"
      ],
      "text/plain": [
       "[1] \"Avengers: Endgame\""
      ]
     },
     "metadata": {},
     "output_type": "display_data"
    },
    {
     "data": {
      "text/html": [
       "2019"
      ],
      "text/latex": [
       "2019"
      ],
      "text/markdown": [
       "2019"
      ],
      "text/plain": [
       "[1] 2019"
      ]
     },
     "metadata": {},
     "output_type": "display_data"
    },
    {
     "data": {
      "text/html": [
       "8.4"
      ],
      "text/latex": [
       "8.4"
      ],
      "text/markdown": [
       "8.4"
      ],
      "text/plain": [
       "[1] 8.4"
      ]
     },
     "metadata": {},
     "output_type": "display_data"
    },
    {
     "data": {
      "text/html": [
       "<style>\n",
       ".list-inline {list-style: none; margin:0; padding: 0}\n",
       ".list-inline>li {display: inline-block}\n",
       ".list-inline>li:not(:last-child)::after {content: \"\\00b7\"; padding: 0 .5ex}\n",
       "</style>\n",
       "<ol class=list-inline><li>'Action'</li><li>'Adventure'</li><li>'Sci-Fi'</li></ol>\n"
      ],
      "text/latex": [
       "\\begin{enumerate*}\n",
       "\\item 'Action'\n",
       "\\item 'Adventure'\n",
       "\\item 'Sci-Fi'\n",
       "\\end{enumerate*}\n"
      ],
      "text/markdown": [
       "1. 'Action'\n",
       "2. 'Adventure'\n",
       "3. 'Sci-Fi'\n",
       "\n",
       "\n"
      ],
      "text/plain": [
       "[1] \"Action\"    \"Adventure\" \"Sci-Fi\"   "
      ]
     },
     "metadata": {},
     "output_type": "display_data"
    }
   ],
   "source": [
    "endgame$movieTitle\n",
    "endgame$releaseYear\n",
    "endgame$rating\n",
    "endgame$genre"
   ]
  },
  {
   "cell_type": "markdown",
   "metadata": {
    "slideshow": {
     "slide_type": "subslide"
    }
   },
   "source": [
    "## 獲取 `list` 中的 `KEYS`"
   ]
  },
  {
   "cell_type": "code",
   "execution_count": 7,
   "metadata": {},
   "outputs": [
    {
     "data": {
      "text/html": [
       "<style>\n",
       ".list-inline {list-style: none; margin:0; padding: 0}\n",
       ".list-inline>li {display: inline-block}\n",
       ".list-inline>li:not(:last-child)::after {content: \"\\00b7\"; padding: 0 .5ex}\n",
       "</style>\n",
       "<ol class=list-inline><li>'movieTitle'</li><li>'releaseYear'</li><li>'rating'</li><li>'genre'</li></ol>\n"
      ],
      "text/latex": [
       "\\begin{enumerate*}\n",
       "\\item 'movieTitle'\n",
       "\\item 'releaseYear'\n",
       "\\item 'rating'\n",
       "\\item 'genre'\n",
       "\\end{enumerate*}\n"
      ],
      "text/markdown": [
       "1. 'movieTitle'\n",
       "2. 'releaseYear'\n",
       "3. 'rating'\n",
       "4. 'genre'\n",
       "\n",
       "\n"
      ],
      "text/plain": [
       "[1] \"movieTitle\"  \"releaseYear\" \"rating\"      \"genre\"      "
      ]
     },
     "metadata": {},
     "output_type": "display_data"
    }
   ],
   "source": [
    "names(endgame)"
   ]
  },
  {
   "cell_type": "markdown",
   "metadata": {
    "slideshow": {
     "slide_type": "subslide"
    }
   },
   "source": [
    "## `list` 中的每個向量都維持本來的 class"
   ]
  },
  {
   "cell_type": "code",
   "execution_count": 8,
   "metadata": {},
   "outputs": [
    {
     "data": {
      "text/html": [
       "'character'"
      ],
      "text/latex": [
       "'character'"
      ],
      "text/markdown": [
       "'character'"
      ],
      "text/plain": [
       "[1] \"character\""
      ]
     },
     "metadata": {},
     "output_type": "display_data"
    },
    {
     "data": {
      "text/html": [
       "'numeric'"
      ],
      "text/latex": [
       "'numeric'"
      ],
      "text/markdown": [
       "'numeric'"
      ],
      "text/plain": [
       "[1] \"numeric\""
      ]
     },
     "metadata": {},
     "output_type": "display_data"
    },
    {
     "data": {
      "text/html": [
       "'numeric'"
      ],
      "text/latex": [
       "'numeric'"
      ],
      "text/markdown": [
       "'numeric'"
      ],
      "text/plain": [
       "[1] \"numeric\""
      ]
     },
     "metadata": {},
     "output_type": "display_data"
    },
    {
     "data": {
      "text/html": [
       "'character'"
      ],
      "text/latex": [
       "'character'"
      ],
      "text/markdown": [
       "'character'"
      ],
      "text/plain": [
       "[1] \"character\""
      ]
     },
     "metadata": {},
     "output_type": "display_data"
    }
   ],
   "source": [
    "class(endgame$movieTitle)\n",
    "class(endgame$releaseYear)\n",
    "class(endgame$rating)\n",
    "class(endgame$genre)"
   ]
  },
  {
   "cell_type": "markdown",
   "metadata": {
    "slideshow": {
     "slide_type": "subslide"
    }
   },
   "source": [
    "## 加入 `list` 中 `KEY-VALUE`"
   ]
  },
  {
   "cell_type": "code",
   "execution_count": 9,
   "metadata": {},
   "outputs": [
    {
     "data": {
      "text/html": [
       "<dl>\n",
       "\t<dt>$movieTitle</dt>\n",
       "\t\t<dd>'Avengers: Endgame'</dd>\n",
       "\t<dt>$releaseYear</dt>\n",
       "\t\t<dd>2019</dd>\n",
       "\t<dt>$rating</dt>\n",
       "\t\t<dd>8.4</dd>\n",
       "\t<dt>$genre</dt>\n",
       "\t\t<dd><style>\n",
       ".list-inline {list-style: none; margin:0; padding: 0}\n",
       ".list-inline>li {display: inline-block}\n",
       ".list-inline>li:not(:last-child)::after {content: \"\\00b7\"; padding: 0 .5ex}\n",
       "</style>\n",
       "<ol class=list-inline><li>'Action'</li><li>'Adventure'</li><li>'Sci-Fi'</li></ol>\n",
       "</dd>\n",
       "\t<dt>$movieTime</dt>\n",
       "\t\t<dd>181</dd>\n",
       "</dl>\n"
      ],
      "text/latex": [
       "\\begin{description}\n",
       "\\item[\\$movieTitle] 'Avengers: Endgame'\n",
       "\\item[\\$releaseYear] 2019\n",
       "\\item[\\$rating] 8.4\n",
       "\\item[\\$genre] \\begin{enumerate*}\n",
       "\\item 'Action'\n",
       "\\item 'Adventure'\n",
       "\\item 'Sci-Fi'\n",
       "\\end{enumerate*}\n",
       "\n",
       "\\item[\\$movieTime] 181\n",
       "\\end{description}\n"
      ],
      "text/markdown": [
       "$movieTitle\n",
       ":   'Avengers: Endgame'\n",
       "$releaseYear\n",
       ":   2019\n",
       "$rating\n",
       ":   8.4\n",
       "$genre\n",
       ":   1. 'Action'\n",
       "2. 'Adventure'\n",
       "3. 'Sci-Fi'\n",
       "\n",
       "\n",
       "\n",
       "$movieTime\n",
       ":   181\n",
       "\n",
       "\n"
      ],
      "text/plain": [
       "$movieTitle\n",
       "[1] \"Avengers: Endgame\"\n",
       "\n",
       "$releaseYear\n",
       "[1] 2019\n",
       "\n",
       "$rating\n",
       "[1] 8.4\n",
       "\n",
       "$genre\n",
       "[1] \"Action\"    \"Adventure\" \"Sci-Fi\"   \n",
       "\n",
       "$movieTime\n",
       "[1] 181\n"
      ]
     },
     "metadata": {},
     "output_type": "display_data"
    }
   ],
   "source": [
    "endgame[[\"movieTime\"]] <- 181\n",
    "endgame"
   ]
  },
  {
   "cell_type": "markdown",
   "metadata": {
    "slideshow": {
     "slide_type": "subslide"
    }
   },
   "source": [
    "## 更新 `list` 中 `VALUE`"
   ]
  },
  {
   "cell_type": "code",
   "execution_count": 10,
   "metadata": {},
   "outputs": [
    {
     "data": {
      "text/html": [
       "<dl>\n",
       "\t<dt>$movieTitle</dt>\n",
       "\t\t<dd>'Avengers: Endgame'</dd>\n",
       "\t<dt>$releaseYear</dt>\n",
       "\t\t<dd>2019</dd>\n",
       "\t<dt>$rating</dt>\n",
       "\t\t<dd>8.4</dd>\n",
       "\t<dt>$genre</dt>\n",
       "\t\t<dd><style>\n",
       ".list-inline {list-style: none; margin:0; padding: 0}\n",
       ".list-inline>li {display: inline-block}\n",
       ".list-inline>li:not(:last-child)::after {content: \"\\00b7\"; padding: 0 .5ex}\n",
       "</style>\n",
       "<ol class=list-inline><li>'Action'</li><li>'Adventure'</li><li>'Sci-Fi'</li></ol>\n",
       "</dd>\n",
       "\t<dt>$movieTime</dt>\n",
       "\t\t<dd>'3h 1min'</dd>\n",
       "</dl>\n"
      ],
      "text/latex": [
       "\\begin{description}\n",
       "\\item[\\$movieTitle] 'Avengers: Endgame'\n",
       "\\item[\\$releaseYear] 2019\n",
       "\\item[\\$rating] 8.4\n",
       "\\item[\\$genre] \\begin{enumerate*}\n",
       "\\item 'Action'\n",
       "\\item 'Adventure'\n",
       "\\item 'Sci-Fi'\n",
       "\\end{enumerate*}\n",
       "\n",
       "\\item[\\$movieTime] '3h 1min'\n",
       "\\end{description}\n"
      ],
      "text/markdown": [
       "$movieTitle\n",
       ":   'Avengers: Endgame'\n",
       "$releaseYear\n",
       ":   2019\n",
       "$rating\n",
       ":   8.4\n",
       "$genre\n",
       ":   1. 'Action'\n",
       "2. 'Adventure'\n",
       "3. 'Sci-Fi'\n",
       "\n",
       "\n",
       "\n",
       "$movieTime\n",
       ":   '3h 1min'\n",
       "\n",
       "\n"
      ],
      "text/plain": [
       "$movieTitle\n",
       "[1] \"Avengers: Endgame\"\n",
       "\n",
       "$releaseYear\n",
       "[1] 2019\n",
       "\n",
       "$rating\n",
       "[1] 8.4\n",
       "\n",
       "$genre\n",
       "[1] \"Action\"    \"Adventure\" \"Sci-Fi\"   \n",
       "\n",
       "$movieTime\n",
       "[1] \"3h 1min\"\n"
      ]
     },
     "metadata": {},
     "output_type": "display_data"
    }
   ],
   "source": [
    "endgame[[\"movieTime\"]] <- \"3h 1min\"\n",
    "endgame"
   ]
  },
  {
   "cell_type": "markdown",
   "metadata": {
    "slideshow": {
     "slide_type": "subslide"
    }
   },
   "source": [
    "## 刪除 `list` 中 `KEY-VALUE`"
   ]
  },
  {
   "cell_type": "code",
   "execution_count": 11,
   "metadata": {},
   "outputs": [
    {
     "data": {
      "text/html": [
       "<dl>\n",
       "\t<dt>$movieTitle</dt>\n",
       "\t\t<dd>'Avengers: Endgame'</dd>\n",
       "\t<dt>$releaseYear</dt>\n",
       "\t\t<dd>2019</dd>\n",
       "\t<dt>$rating</dt>\n",
       "\t\t<dd>8.4</dd>\n",
       "\t<dt>$genre</dt>\n",
       "\t\t<dd><style>\n",
       ".list-inline {list-style: none; margin:0; padding: 0}\n",
       ".list-inline>li {display: inline-block}\n",
       ".list-inline>li:not(:last-child)::after {content: \"\\00b7\"; padding: 0 .5ex}\n",
       "</style>\n",
       "<ol class=list-inline><li>'Action'</li><li>'Adventure'</li><li>'Sci-Fi'</li></ol>\n",
       "</dd>\n",
       "</dl>\n"
      ],
      "text/latex": [
       "\\begin{description}\n",
       "\\item[\\$movieTitle] 'Avengers: Endgame'\n",
       "\\item[\\$releaseYear] 2019\n",
       "\\item[\\$rating] 8.4\n",
       "\\item[\\$genre] \\begin{enumerate*}\n",
       "\\item 'Action'\n",
       "\\item 'Adventure'\n",
       "\\item 'Sci-Fi'\n",
       "\\end{enumerate*}\n",
       "\n",
       "\\end{description}\n"
      ],
      "text/markdown": [
       "$movieTitle\n",
       ":   'Avengers: Endgame'\n",
       "$releaseYear\n",
       ":   2019\n",
       "$rating\n",
       ":   8.4\n",
       "$genre\n",
       ":   1. 'Action'\n",
       "2. 'Adventure'\n",
       "3. 'Sci-Fi'\n",
       "\n",
       "\n",
       "\n",
       "\n",
       "\n"
      ],
      "text/plain": [
       "$movieTitle\n",
       "[1] \"Avengers: Endgame\"\n",
       "\n",
       "$releaseYear\n",
       "[1] 2019\n",
       "\n",
       "$rating\n",
       "[1] 8.4\n",
       "\n",
       "$genre\n",
       "[1] \"Action\"    \"Adventure\" \"Sci-Fi\"   \n"
      ]
     },
     "metadata": {},
     "output_type": "display_data"
    }
   ],
   "source": [
    "endgame[[\"movieTime\"]] <- NULL\n",
    "endgame"
   ]
  },
  {
   "cell_type": "markdown",
   "metadata": {
    "slideshow": {
     "slide_type": "slide"
    }
   },
   "source": [
    "# `factor`"
   ]
  },
  {
   "cell_type": "markdown",
   "metadata": {
    "slideshow": {
     "slide_type": "subslide"
    }
   },
   "source": [
    "## `factor` 在 R 中的定位\n",
    "\n",
    "- 特殊的文字向量\n",
    "- 獨一的文字值會以 **Levels** 紀錄\n",
    "- 每個獨一的文字值會以一個整數編碼，支援有序文字\n",
    "- 預設的文字變數類型"
   ]
  },
  {
   "cell_type": "markdown",
   "metadata": {
    "slideshow": {
     "slide_type": "subslide"
    }
   },
   "source": [
    "## 使用 `factor()` 函數創建"
   ]
  },
  {
   "cell_type": "code",
   "execution_count": 12,
   "metadata": {},
   "outputs": [
    {
     "data": {
      "text/html": [
       "'character'"
      ],
      "text/latex": [
       "'character'"
      ],
      "text/markdown": [
       "'character'"
      ],
      "text/plain": [
       "[1] \"character\""
      ]
     },
     "metadata": {},
     "output_type": "display_data"
    },
    {
     "data": {
      "text/html": [
       "'factor'"
      ],
      "text/latex": [
       "'factor'"
      ],
      "text/markdown": [
       "'factor'"
      ],
      "text/plain": [
       "[1] \"factor\""
      ]
     },
     "metadata": {},
     "output_type": "display_data"
    }
   ],
   "source": [
    "avengers <- c(\"The Avengers\", \"Avengers: Age of Ultron\", \"Avengers: Infinity War\", \"Avengers: Endgame\")\n",
    "class(avengers)\n",
    "avengers <- factor(avengers)\n",
    "class(avengers)"
   ]
  },
  {
   "cell_type": "markdown",
   "metadata": {
    "slideshow": {
     "slide_type": "subslide"
    }
   },
   "source": [
    "## 獨一的文字值以 Levels 編碼"
   ]
  },
  {
   "cell_type": "code",
   "execution_count": 13,
   "metadata": {},
   "outputs": [
    {
     "data": {
      "text/html": [
       "<style>\n",
       ".list-inline {list-style: none; margin:0; padding: 0}\n",
       ".list-inline>li {display: inline-block}\n",
       ".list-inline>li:not(:last-child)::after {content: \"\\00b7\"; padding: 0 .5ex}\n",
       "</style>\n",
       "<ol class=list-inline><li>red</li><li>green</li><li>blue</li><li>blue</li><li>green</li><li>green</li></ol>\n",
       "\n",
       "<details>\n",
       "\t<summary style=display:list-item;cursor:pointer>\n",
       "\t\t<strong>Levels</strong>:\n",
       "\t</summary>\n",
       "\t<style>\n",
       "\t.list-inline {list-style: none; margin:0; padding: 0}\n",
       "\t.list-inline>li {display: inline-block}\n",
       "\t.list-inline>li:not(:last-child)::after {content: \"\\00b7\"; padding: 0 .5ex}\n",
       "\t</style>\n",
       "\t<ol class=list-inline><li>'blue'</li><li>'green'</li><li>'red'</li></ol>\n",
       "</details>"
      ],
      "text/latex": [
       "\\begin{enumerate*}\n",
       "\\item red\n",
       "\\item green\n",
       "\\item blue\n",
       "\\item blue\n",
       "\\item green\n",
       "\\item green\n",
       "\\end{enumerate*}\n",
       "\n",
       "\\emph{Levels}: \\begin{enumerate*}\n",
       "\\item 'blue'\n",
       "\\item 'green'\n",
       "\\item 'red'\n",
       "\\end{enumerate*}\n"
      ],
      "text/markdown": [
       "1. red\n",
       "2. green\n",
       "3. blue\n",
       "4. blue\n",
       "5. green\n",
       "6. green\n",
       "\n",
       "\n",
       "\n",
       "**Levels**: 1. 'blue'\n",
       "2. 'green'\n",
       "3. 'red'\n",
       "\n",
       "\n"
      ],
      "text/plain": [
       "[1] red   green blue  blue  green green\n",
       "Levels: blue green red"
      ]
     },
     "metadata": {},
     "output_type": "display_data"
    }
   ],
   "source": [
    "rgbs <- factor(c(\"red\", \"green\", \"blue\", \"blue\", \"green\", \"green\"))\n",
    "rgbs"
   ]
  },
  {
   "cell_type": "markdown",
   "metadata": {
    "slideshow": {
     "slide_type": "subslide"
    }
   },
   "source": [
    "## `factor` 支援有序文字"
   ]
  },
  {
   "cell_type": "code",
   "execution_count": 14,
   "metadata": {},
   "outputs": [
    {
     "data": {
      "text/html": [
       "<style>\n",
       ".list-inline {list-style: none; margin:0; padding: 0}\n",
       ".list-inline>li {display: inline-block}\n",
       ".list-inline>li:not(:last-child)::after {content: \"\\00b7\"; padding: 0 .5ex}\n",
       "</style>\n",
       "<ol class=list-inline><li>freezing</li><li>cold</li><li>cool</li><li>warm</li><li>hot</li></ol>\n",
       "\n",
       "<details>\n",
       "\t<summary style=display:list-item;cursor:pointer>\n",
       "\t\t<strong>Levels</strong>:\n",
       "\t</summary>\n",
       "\t<style>\n",
       "\t.list-inline {list-style: none; margin:0; padding: 0}\n",
       "\t.list-inline>li {display: inline-block}\n",
       "\t.list-inline>li:not(:last-child)::after {content: \"\\00b7\"; padding: 0 .5ex}\n",
       "\t</style>\n",
       "\t<ol class=list-inline><li>'cold'</li><li>'cool'</li><li>'freezing'</li><li>'hot'</li><li>'warm'</li></ol>\n",
       "</details>"
      ],
      "text/latex": [
       "\\begin{enumerate*}\n",
       "\\item freezing\n",
       "\\item cold\n",
       "\\item cool\n",
       "\\item warm\n",
       "\\item hot\n",
       "\\end{enumerate*}\n",
       "\n",
       "\\emph{Levels}: \\begin{enumerate*}\n",
       "\\item 'cold'\n",
       "\\item 'cool'\n",
       "\\item 'freezing'\n",
       "\\item 'hot'\n",
       "\\item 'warm'\n",
       "\\end{enumerate*}\n"
      ],
      "text/markdown": [
       "1. freezing\n",
       "2. cold\n",
       "3. cool\n",
       "4. warm\n",
       "5. hot\n",
       "\n",
       "\n",
       "\n",
       "**Levels**: 1. 'cold'\n",
       "2. 'cool'\n",
       "3. 'freezing'\n",
       "4. 'hot'\n",
       "5. 'warm'\n",
       "\n",
       "\n"
      ],
      "text/plain": [
       "[1] freezing cold     cool     warm     hot     \n",
       "Levels: cold < cool < freezing < hot < warm"
      ]
     },
     "metadata": {},
     "output_type": "display_data"
    },
    {
     "data": {
      "text/html": [
       "TRUE"
      ],
      "text/latex": [
       "TRUE"
      ],
      "text/markdown": [
       "TRUE"
      ],
      "text/plain": [
       "[1] TRUE"
      ]
     },
     "metadata": {},
     "output_type": "display_data"
    }
   ],
   "source": [
    "temperatures <- factor(c(\"freezing\", \"cold\", \"cool\", \"warm\", \"hot\"), ordered = TRUE)\n",
    "temperatures\n",
    "temperatures[1] > temperatures[3]"
   ]
  },
  {
   "cell_type": "markdown",
   "metadata": {
    "slideshow": {
     "slide_type": "subslide"
    }
   },
   "source": [
    "## 調整 `factor` 的順序"
   ]
  },
  {
   "cell_type": "code",
   "execution_count": 15,
   "metadata": {},
   "outputs": [
    {
     "data": {
      "text/html": [
       "<style>\n",
       ".list-inline {list-style: none; margin:0; padding: 0}\n",
       ".list-inline>li {display: inline-block}\n",
       ".list-inline>li:not(:last-child)::after {content: \"\\00b7\"; padding: 0 .5ex}\n",
       "</style>\n",
       "<ol class=list-inline><li>freezing</li><li>cold</li><li>cool</li><li>warm</li><li>hot</li></ol>\n",
       "\n",
       "<details>\n",
       "\t<summary style=display:list-item;cursor:pointer>\n",
       "\t\t<strong>Levels</strong>:\n",
       "\t</summary>\n",
       "\t<style>\n",
       "\t.list-inline {list-style: none; margin:0; padding: 0}\n",
       "\t.list-inline>li {display: inline-block}\n",
       "\t.list-inline>li:not(:last-child)::after {content: \"\\00b7\"; padding: 0 .5ex}\n",
       "\t</style>\n",
       "\t<ol class=list-inline><li>'freezing'</li><li>'cold'</li><li>'cool'</li><li>'warm'</li><li>'hot'</li></ol>\n",
       "</details>"
      ],
      "text/latex": [
       "\\begin{enumerate*}\n",
       "\\item freezing\n",
       "\\item cold\n",
       "\\item cool\n",
       "\\item warm\n",
       "\\item hot\n",
       "\\end{enumerate*}\n",
       "\n",
       "\\emph{Levels}: \\begin{enumerate*}\n",
       "\\item 'freezing'\n",
       "\\item 'cold'\n",
       "\\item 'cool'\n",
       "\\item 'warm'\n",
       "\\item 'hot'\n",
       "\\end{enumerate*}\n"
      ],
      "text/markdown": [
       "1. freezing\n",
       "2. cold\n",
       "3. cool\n",
       "4. warm\n",
       "5. hot\n",
       "\n",
       "\n",
       "\n",
       "**Levels**: 1. 'freezing'\n",
       "2. 'cold'\n",
       "3. 'cool'\n",
       "4. 'warm'\n",
       "5. 'hot'\n",
       "\n",
       "\n"
      ],
      "text/plain": [
       "[1] freezing cold     cool     warm     hot     \n",
       "Levels: freezing < cold < cool < warm < hot"
      ]
     },
     "metadata": {},
     "output_type": "display_data"
    }
   ],
   "source": [
    "temperatures <- factor(c(\"freezing\", \"cold\", \"cool\", \"warm\", \"hot\"),\n",
    "                       ordered = TRUE,\n",
    "                       levels = c(\"freezing\", \"cold\", \"cool\", \"warm\", \"hot\"))\n",
    "temperatures"
   ]
  },
  {
   "cell_type": "markdown",
   "metadata": {
    "slideshow": {
     "slide_type": "subslide"
    }
   },
   "source": [
    "## 每個獨一的文字值會以一個整數編碼"
   ]
  },
  {
   "cell_type": "code",
   "execution_count": 16,
   "metadata": {},
   "outputs": [
    {
     "name": "stderr",
     "output_type": "stream",
     "text": [
      "Warning message in eval(expr, envir, enclos):\n",
      "“NAs introduced by coercion”\n"
     ]
    },
    {
     "data": {
      "text/html": [
       "<style>\n",
       ".list-inline {list-style: none; margin:0; padding: 0}\n",
       ".list-inline>li {display: inline-block}\n",
       ".list-inline>li:not(:last-child)::after {content: \"\\00b7\"; padding: 0 .5ex}\n",
       "</style>\n",
       "<ol class=list-inline><li>&lt;NA&gt;</li><li>&lt;NA&gt;</li><li>&lt;NA&gt;</li><li>&lt;NA&gt;</li><li>&lt;NA&gt;</li></ol>\n"
      ],
      "text/latex": [
       "\\begin{enumerate*}\n",
       "\\item <NA>\n",
       "\\item <NA>\n",
       "\\item <NA>\n",
       "\\item <NA>\n",
       "\\item <NA>\n",
       "\\end{enumerate*}\n"
      ],
      "text/markdown": [
       "1. &lt;NA&gt;\n",
       "2. &lt;NA&gt;\n",
       "3. &lt;NA&gt;\n",
       "4. &lt;NA&gt;\n",
       "5. &lt;NA&gt;\n",
       "\n",
       "\n"
      ],
      "text/plain": [
       "[1] NA NA NA NA NA"
      ]
     },
     "metadata": {},
     "output_type": "display_data"
    },
    {
     "data": {
      "text/html": [
       "<style>\n",
       ".list-inline {list-style: none; margin:0; padding: 0}\n",
       ".list-inline>li {display: inline-block}\n",
       ".list-inline>li:not(:last-child)::after {content: \"\\00b7\"; padding: 0 .5ex}\n",
       "</style>\n",
       "<ol class=list-inline><li>3</li><li>1</li><li>2</li><li>5</li><li>4</li></ol>\n"
      ],
      "text/latex": [
       "\\begin{enumerate*}\n",
       "\\item 3\n",
       "\\item 1\n",
       "\\item 2\n",
       "\\item 5\n",
       "\\item 4\n",
       "\\end{enumerate*}\n"
      ],
      "text/markdown": [
       "1. 3\n",
       "2. 1\n",
       "3. 2\n",
       "4. 5\n",
       "5. 4\n",
       "\n",
       "\n"
      ],
      "text/plain": [
       "[1] 3 1 2 5 4"
      ]
     },
     "metadata": {},
     "output_type": "display_data"
    }
   ],
   "source": [
    "temperatures <- c(\"freezing\", \"cold\", \"cool\", \"warm\", \"hot\")\n",
    "as.numeric(temperatures) # Warning\n",
    "temperatures <- factor(c(\"freezing\", \"cold\", \"cool\", \"warm\", \"hot\"))\n",
    "as.numeric(temperatures)"
   ]
  },
  {
   "cell_type": "markdown",
   "metadata": {
    "slideshow": {
     "slide_type": "subslide"
    }
   },
   "source": [
    "## `factor` 有時難以掌控"
   ]
  },
  {
   "cell_type": "code",
   "execution_count": 17,
   "metadata": {},
   "outputs": [
    {
     "data": {
      "text/html": [
       "<style>\n",
       ".list-inline {list-style: none; margin:0; padding: 0}\n",
       ".list-inline>li {display: inline-block}\n",
       ".list-inline>li:not(:last-child)::after {content: \"\\00b7\"; padding: 0 .5ex}\n",
       "</style>\n",
       "<ol class=list-inline><li>'3'</li><li>'1'</li><li>'2'</li><li>'Avengers: Endgame'</li></ol>\n"
      ],
      "text/latex": [
       "\\begin{enumerate*}\n",
       "\\item '3'\n",
       "\\item '1'\n",
       "\\item '2'\n",
       "\\item 'Avengers: Endgame'\n",
       "\\end{enumerate*}\n"
      ],
      "text/markdown": [
       "1. '3'\n",
       "2. '1'\n",
       "3. '2'\n",
       "4. 'Avengers: Endgame'\n",
       "\n",
       "\n"
      ],
      "text/plain": [
       "[1] \"3\"                 \"1\"                 \"2\"                \n",
       "[4] \"Avengers: Endgame\""
      ]
     },
     "metadata": {},
     "output_type": "display_data"
    }
   ],
   "source": [
    "avengers <- factor(c(\"The Avengers\", \"Avengers: Age of Ultron\", \"Avengers: Infinity War\"))\n",
    "avengers <- c(avengers, \"Avengers: Endgame\")\n",
    "avengers"
   ]
  },
  {
   "cell_type": "markdown",
   "metadata": {
    "slideshow": {
     "slide_type": "subslide"
    }
   },
   "source": [
    "## R 使用者為何會需要使用 `factor` 儲存文字\n",
    "\n",
    "- `factor` 具有整數的編碼\n",
    "- 讓資料成為 `modeling-ready` 的狀態"
   ]
  },
  {
   "cell_type": "markdown",
   "metadata": {
    "slideshow": {
     "slide_type": "slide"
    }
   },
   "source": [
    "# `data.frame`"
   ]
  },
  {
   "cell_type": "markdown",
   "metadata": {
    "slideshow": {
     "slide_type": "subslide"
    }
   },
   "source": [
    "## `data.frame` 在 R 中的定位\n",
    "\n",
    "- 處理表格資料的首選\n",
    "- 多數資料科學家處理的資料是表格形式\n",
    "- 具有兩個維度，`m x n`（列 x 欄）\n",
    "- 列常被稱為觀測值、欄常被稱為變數\n",
    "- 每個欄都是一個向量，具有個別的 class\n",
    "- 支援 `$` 作為取出單一欄的索引方式"
   ]
  },
  {
   "cell_type": "markdown",
   "metadata": {
    "slideshow": {
     "slide_type": "subslide"
    }
   },
   "source": [
    "## 使用 `data.frame()` 函數創建資料框"
   ]
  },
  {
   "cell_type": "code",
   "execution_count": 18,
   "metadata": {},
   "outputs": [],
   "source": [
    "avengers <- c(\"The Avengers\", \"Avengers: Age of Ultron\", \"Avengers: Infinity War\", \"Avengers: Endgame\")\n",
    "ratings <- c(8.0, 7.3, 8.4, 8.4)\n",
    "release_year <- c(2012, 2015, 2018, 2019)\n",
    "is_good <- ratings >= 8\n",
    "avengers_df <- data.frame(title = avengers, rating = ratings, release_year, is_good)"
   ]
  },
  {
   "cell_type": "code",
   "execution_count": 19,
   "metadata": {
    "slideshow": {
     "slide_type": "subslide"
    }
   },
   "outputs": [
    {
     "data": {
      "text/html": [
       "<table>\n",
       "<caption>A data.frame: 4 × 4</caption>\n",
       "<thead>\n",
       "\t<tr><th scope=col>title</th><th scope=col>rating</th><th scope=col>release_year</th><th scope=col>is_good</th></tr>\n",
       "\t<tr><th scope=col>&lt;chr&gt;</th><th scope=col>&lt;dbl&gt;</th><th scope=col>&lt;dbl&gt;</th><th scope=col>&lt;lgl&gt;</th></tr>\n",
       "</thead>\n",
       "<tbody>\n",
       "\t<tr><td>The Avengers           </td><td>8.0</td><td>2012</td><td> TRUE</td></tr>\n",
       "\t<tr><td>Avengers: Age of Ultron</td><td>7.3</td><td>2015</td><td>FALSE</td></tr>\n",
       "\t<tr><td>Avengers: Infinity War </td><td>8.4</td><td>2018</td><td> TRUE</td></tr>\n",
       "\t<tr><td>Avengers: Endgame      </td><td>8.4</td><td>2019</td><td> TRUE</td></tr>\n",
       "</tbody>\n",
       "</table>\n"
      ],
      "text/latex": [
       "A data.frame: 4 × 4\n",
       "\\begin{tabular}{llll}\n",
       " title & rating & release\\_year & is\\_good\\\\\n",
       " <chr> & <dbl> & <dbl> & <lgl>\\\\\n",
       "\\hline\n",
       "\t The Avengers            & 8.0 & 2012 &  TRUE\\\\\n",
       "\t Avengers: Age of Ultron & 7.3 & 2015 & FALSE\\\\\n",
       "\t Avengers: Infinity War  & 8.4 & 2018 &  TRUE\\\\\n",
       "\t Avengers: Endgame       & 8.4 & 2019 &  TRUE\\\\\n",
       "\\end{tabular}\n"
      ],
      "text/markdown": [
       "\n",
       "A data.frame: 4 × 4\n",
       "\n",
       "| title &lt;chr&gt; | rating &lt;dbl&gt; | release_year &lt;dbl&gt; | is_good &lt;lgl&gt; |\n",
       "|---|---|---|---|\n",
       "| The Avengers            | 8.0 | 2012 |  TRUE |\n",
       "| Avengers: Age of Ultron | 7.3 | 2015 | FALSE |\n",
       "| Avengers: Infinity War  | 8.4 | 2018 |  TRUE |\n",
       "| Avengers: Endgame       | 8.4 | 2019 |  TRUE |\n",
       "\n"
      ],
      "text/plain": [
       "  title                   rating release_year is_good\n",
       "1 The Avengers            8.0    2012          TRUE  \n",
       "2 Avengers: Age of Ultron 7.3    2015         FALSE  \n",
       "3 Avengers: Infinity War  8.4    2018          TRUE  \n",
       "4 Avengers: Endgame       8.4    2019          TRUE  "
      ]
     },
     "metadata": {},
     "output_type": "display_data"
    }
   ],
   "source": [
    "avengers_df"
   ]
  },
  {
   "cell_type": "markdown",
   "metadata": {
    "slideshow": {
     "slide_type": "subslide"
    }
   },
   "source": [
    "## 在 R 4.0 之前的版本，文字向量預設以 `factor` 型態儲存"
   ]
  },
  {
   "cell_type": "code",
   "execution_count": 20,
   "metadata": {},
   "outputs": [
    {
     "name": "stdout",
     "output_type": "stream",
     "text": [
      "'data.frame':\t4 obs. of  4 variables:\n",
      " $ title       : chr  \"The Avengers\" \"Avengers: Age of Ultron\" \"Avengers: Infinity War\" \"Avengers: Endgame\"\n",
      " $ rating      : num  8 7.3 8.4 8.4\n",
      " $ release_year: num  2012 2015 2018 2019\n",
      " $ is_good     : logi  TRUE FALSE TRUE TRUE\n"
     ]
    }
   ],
   "source": [
    "#?str\n",
    "str(avengers_df)"
   ]
  },
  {
   "cell_type": "markdown",
   "metadata": {
    "slideshow": {
     "slide_type": "subslide"
    }
   },
   "source": [
    "## 加入參數 `stringsAsFactors = FALSE` 可以調整為文字向量"
   ]
  },
  {
   "cell_type": "code",
   "execution_count": 21,
   "metadata": {},
   "outputs": [
    {
     "name": "stdout",
     "output_type": "stream",
     "text": [
      "'data.frame':\t4 obs. of  4 variables:\n",
      " $ title       : chr  \"The Avengers\" \"Avengers: Age of Ultron\" \"Avengers: Infinity War\" \"Avengers: Endgame\"\n",
      " $ rating      : num  8 7.3 8.4 8.4\n",
      " $ release_year: num  2012 2015 2018 2019\n",
      " $ is_good     : logi  TRUE FALSE TRUE TRUE\n"
     ]
    }
   ],
   "source": [
    "avengers_df <- data.frame(title = avengers, rating = ratings, release_year, is_good, stringsAsFactors = FALSE)\n",
    "str(avengers_df)"
   ]
  },
  {
   "cell_type": "markdown",
   "metadata": {
    "slideshow": {
     "slide_type": "subslide"
    }
   },
   "source": [
    "## 常見用來觀察 `data.frame` 的函數\n",
    "\n",
    "- `View()`：顯示漂亮的資料框外觀\n",
    "- `head(n)`：顯示前 n 列\n",
    "- `tail(n)`：顯示後 n 列\n",
    "- `summary()`：顯示描述性統計\n",
    "- `str()`：顯示結構\n",
    "- `dim()`：顯示維度\n",
    "- `nrow()`：顯示列數\n",
    "- `ncol()`：顯示欄數"
   ]
  },
  {
   "cell_type": "markdown",
   "metadata": {
    "slideshow": {
     "slide_type": "subslide"
    }
   },
   "source": [
    "## 從資料框中選出欄位成為一個向量"
   ]
  },
  {
   "cell_type": "code",
   "execution_count": 22,
   "metadata": {},
   "outputs": [
    {
     "data": {
      "text/html": [
       "<style>\n",
       ".list-inline {list-style: none; margin:0; padding: 0}\n",
       ".list-inline>li {display: inline-block}\n",
       ".list-inline>li:not(:last-child)::after {content: \"\\00b7\"; padding: 0 .5ex}\n",
       "</style>\n",
       "<ol class=list-inline><li>'The Avengers'</li><li>'Avengers: Age of Ultron'</li><li>'Avengers: Infinity War'</li><li>'Avengers: Endgame'</li></ol>\n"
      ],
      "text/latex": [
       "\\begin{enumerate*}\n",
       "\\item 'The Avengers'\n",
       "\\item 'Avengers: Age of Ultron'\n",
       "\\item 'Avengers: Infinity War'\n",
       "\\item 'Avengers: Endgame'\n",
       "\\end{enumerate*}\n"
      ],
      "text/markdown": [
       "1. 'The Avengers'\n",
       "2. 'Avengers: Age of Ultron'\n",
       "3. 'Avengers: Infinity War'\n",
       "4. 'Avengers: Endgame'\n",
       "\n",
       "\n"
      ],
      "text/plain": [
       "[1] \"The Avengers\"            \"Avengers: Age of Ultron\"\n",
       "[3] \"Avengers: Infinity War\"  \"Avengers: Endgame\"      "
      ]
     },
     "metadata": {},
     "output_type": "display_data"
    },
    {
     "data": {
      "text/html": [
       "<style>\n",
       ".list-inline {list-style: none; margin:0; padding: 0}\n",
       ".list-inline>li {display: inline-block}\n",
       ".list-inline>li:not(:last-child)::after {content: \"\\00b7\"; padding: 0 .5ex}\n",
       "</style>\n",
       "<ol class=list-inline><li>'The Avengers'</li><li>'Avengers: Age of Ultron'</li><li>'Avengers: Infinity War'</li><li>'Avengers: Endgame'</li></ol>\n"
      ],
      "text/latex": [
       "\\begin{enumerate*}\n",
       "\\item 'The Avengers'\n",
       "\\item 'Avengers: Age of Ultron'\n",
       "\\item 'Avengers: Infinity War'\n",
       "\\item 'Avengers: Endgame'\n",
       "\\end{enumerate*}\n"
      ],
      "text/markdown": [
       "1. 'The Avengers'\n",
       "2. 'Avengers: Age of Ultron'\n",
       "3. 'Avengers: Infinity War'\n",
       "4. 'Avengers: Endgame'\n",
       "\n",
       "\n"
      ],
      "text/plain": [
       "[1] \"The Avengers\"            \"Avengers: Age of Ultron\"\n",
       "[3] \"Avengers: Infinity War\"  \"Avengers: Endgame\"      "
      ]
     },
     "metadata": {},
     "output_type": "display_data"
    },
    {
     "data": {
      "text/html": [
       "<style>\n",
       ".list-inline {list-style: none; margin:0; padding: 0}\n",
       ".list-inline>li {display: inline-block}\n",
       ".list-inline>li:not(:last-child)::after {content: \"\\00b7\"; padding: 0 .5ex}\n",
       "</style>\n",
       "<ol class=list-inline><li>'The Avengers'</li><li>'Avengers: Age of Ultron'</li><li>'Avengers: Infinity War'</li><li>'Avengers: Endgame'</li></ol>\n"
      ],
      "text/latex": [
       "\\begin{enumerate*}\n",
       "\\item 'The Avengers'\n",
       "\\item 'Avengers: Age of Ultron'\n",
       "\\item 'Avengers: Infinity War'\n",
       "\\item 'Avengers: Endgame'\n",
       "\\end{enumerate*}\n"
      ],
      "text/markdown": [
       "1. 'The Avengers'\n",
       "2. 'Avengers: Age of Ultron'\n",
       "3. 'Avengers: Infinity War'\n",
       "4. 'Avengers: Endgame'\n",
       "\n",
       "\n"
      ],
      "text/plain": [
       "[1] \"The Avengers\"            \"Avengers: Age of Ultron\"\n",
       "[3] \"Avengers: Infinity War\"  \"Avengers: Endgame\"      "
      ]
     },
     "metadata": {},
     "output_type": "display_data"
    }
   ],
   "source": [
    "avengers_df[[\"title\"]]\n",
    "avengers_df[, \"title\"]\n",
    "avengers_df[, 1]"
   ]
  },
  {
   "cell_type": "markdown",
   "metadata": {
    "slideshow": {
     "slide_type": "subslide"
    }
   },
   "source": [
    "## 或者使用 `$`"
   ]
  },
  {
   "cell_type": "code",
   "execution_count": 23,
   "metadata": {},
   "outputs": [
    {
     "data": {
      "text/html": [
       "<style>\n",
       ".list-inline {list-style: none; margin:0; padding: 0}\n",
       ".list-inline>li {display: inline-block}\n",
       ".list-inline>li:not(:last-child)::after {content: \"\\00b7\"; padding: 0 .5ex}\n",
       "</style>\n",
       "<ol class=list-inline><li>'The Avengers'</li><li>'Avengers: Age of Ultron'</li><li>'Avengers: Infinity War'</li><li>'Avengers: Endgame'</li></ol>\n"
      ],
      "text/latex": [
       "\\begin{enumerate*}\n",
       "\\item 'The Avengers'\n",
       "\\item 'Avengers: Age of Ultron'\n",
       "\\item 'Avengers: Infinity War'\n",
       "\\item 'Avengers: Endgame'\n",
       "\\end{enumerate*}\n"
      ],
      "text/markdown": [
       "1. 'The Avengers'\n",
       "2. 'Avengers: Age of Ultron'\n",
       "3. 'Avengers: Infinity War'\n",
       "4. 'Avengers: Endgame'\n",
       "\n",
       "\n"
      ],
      "text/plain": [
       "[1] \"The Avengers\"            \"Avengers: Age of Ultron\"\n",
       "[3] \"Avengers: Infinity War\"  \"Avengers: Endgame\"      "
      ]
     },
     "metadata": {},
     "output_type": "display_data"
    }
   ],
   "source": [
    "avengers_df$title"
   ]
  },
  {
   "cell_type": "markdown",
   "metadata": {
    "slideshow": {
     "slide_type": "subslide"
    }
   },
   "source": [
    "## 篩選觀測值：指定列數"
   ]
  },
  {
   "cell_type": "code",
   "execution_count": 24,
   "metadata": {},
   "outputs": [
    {
     "data": {
      "text/html": [
       "<table>\n",
       "<caption>A data.frame: 3 × 4</caption>\n",
       "<thead>\n",
       "\t<tr><th></th><th scope=col>title</th><th scope=col>rating</th><th scope=col>release_year</th><th scope=col>is_good</th></tr>\n",
       "\t<tr><th></th><th scope=col>&lt;chr&gt;</th><th scope=col>&lt;dbl&gt;</th><th scope=col>&lt;dbl&gt;</th><th scope=col>&lt;lgl&gt;</th></tr>\n",
       "</thead>\n",
       "<tbody>\n",
       "\t<tr><th scope=row>1</th><td>The Avengers          </td><td>8.0</td><td>2012</td><td>TRUE</td></tr>\n",
       "\t<tr><th scope=row>3</th><td>Avengers: Infinity War</td><td>8.4</td><td>2018</td><td>TRUE</td></tr>\n",
       "\t<tr><th scope=row>4</th><td>Avengers: Endgame     </td><td>8.4</td><td>2019</td><td>TRUE</td></tr>\n",
       "</tbody>\n",
       "</table>\n"
      ],
      "text/latex": [
       "A data.frame: 3 × 4\n",
       "\\begin{tabular}{r|llll}\n",
       "  & title & rating & release\\_year & is\\_good\\\\\n",
       "  & <chr> & <dbl> & <dbl> & <lgl>\\\\\n",
       "\\hline\n",
       "\t1 & The Avengers           & 8.0 & 2012 & TRUE\\\\\n",
       "\t3 & Avengers: Infinity War & 8.4 & 2018 & TRUE\\\\\n",
       "\t4 & Avengers: Endgame      & 8.4 & 2019 & TRUE\\\\\n",
       "\\end{tabular}\n"
      ],
      "text/markdown": [
       "\n",
       "A data.frame: 3 × 4\n",
       "\n",
       "| <!--/--> | title &lt;chr&gt; | rating &lt;dbl&gt; | release_year &lt;dbl&gt; | is_good &lt;lgl&gt; |\n",
       "|---|---|---|---|---|\n",
       "| 1 | The Avengers           | 8.0 | 2012 | TRUE |\n",
       "| 3 | Avengers: Infinity War | 8.4 | 2018 | TRUE |\n",
       "| 4 | Avengers: Endgame      | 8.4 | 2019 | TRUE |\n",
       "\n"
      ],
      "text/plain": [
       "  title                  rating release_year is_good\n",
       "1 The Avengers           8.0    2012         TRUE   \n",
       "3 Avengers: Infinity War 8.4    2018         TRUE   \n",
       "4 Avengers: Endgame      8.4    2019         TRUE   "
      ]
     },
     "metadata": {},
     "output_type": "display_data"
    }
   ],
   "source": [
    "avengers_df[c(1, 3, 4), ]"
   ]
  },
  {
   "cell_type": "markdown",
   "metadata": {
    "slideshow": {
     "slide_type": "subslide"
    }
   },
   "source": [
    "## 篩選觀測值：使用邏輯值向量"
   ]
  },
  {
   "cell_type": "code",
   "execution_count": 25,
   "metadata": {},
   "outputs": [
    {
     "data": {
      "text/html": [
       "<table>\n",
       "<caption>A data.frame: 2 × 4</caption>\n",
       "<thead>\n",
       "\t<tr><th></th><th scope=col>title</th><th scope=col>rating</th><th scope=col>release_year</th><th scope=col>is_good</th></tr>\n",
       "\t<tr><th></th><th scope=col>&lt;chr&gt;</th><th scope=col>&lt;dbl&gt;</th><th scope=col>&lt;dbl&gt;</th><th scope=col>&lt;lgl&gt;</th></tr>\n",
       "</thead>\n",
       "<tbody>\n",
       "\t<tr><th scope=row>3</th><td>Avengers: Infinity War</td><td>8.4</td><td>2018</td><td>TRUE</td></tr>\n",
       "\t<tr><th scope=row>4</th><td>Avengers: Endgame     </td><td>8.4</td><td>2019</td><td>TRUE</td></tr>\n",
       "</tbody>\n",
       "</table>\n"
      ],
      "text/latex": [
       "A data.frame: 2 × 4\n",
       "\\begin{tabular}{r|llll}\n",
       "  & title & rating & release\\_year & is\\_good\\\\\n",
       "  & <chr> & <dbl> & <dbl> & <lgl>\\\\\n",
       "\\hline\n",
       "\t3 & Avengers: Infinity War & 8.4 & 2018 & TRUE\\\\\n",
       "\t4 & Avengers: Endgame      & 8.4 & 2019 & TRUE\\\\\n",
       "\\end{tabular}\n"
      ],
      "text/markdown": [
       "\n",
       "A data.frame: 2 × 4\n",
       "\n",
       "| <!--/--> | title &lt;chr&gt; | rating &lt;dbl&gt; | release_year &lt;dbl&gt; | is_good &lt;lgl&gt; |\n",
       "|---|---|---|---|---|\n",
       "| 3 | Avengers: Infinity War | 8.4 | 2018 | TRUE |\n",
       "| 4 | Avengers: Endgame      | 8.4 | 2019 | TRUE |\n",
       "\n"
      ],
      "text/plain": [
       "  title                  rating release_year is_good\n",
       "3 Avengers: Infinity War 8.4    2018         TRUE   \n",
       "4 Avengers: Endgame      8.4    2019         TRUE   "
      ]
     },
     "metadata": {},
     "output_type": "display_data"
    }
   ],
   "source": [
    "avengers_df[c(FALSE, FALSE, TRUE, TRUE), ]"
   ]
  },
  {
   "cell_type": "markdown",
   "metadata": {
    "slideshow": {
     "slide_type": "subslide"
    }
   },
   "source": [
    "## 利用邏輯運算符產生邏輯值向量"
   ]
  },
  {
   "cell_type": "code",
   "execution_count": 26,
   "metadata": {},
   "outputs": [
    {
     "data": {
      "text/html": [
       "<style>\n",
       ".list-inline {list-style: none; margin:0; padding: 0}\n",
       ".list-inline>li {display: inline-block}\n",
       ".list-inline>li:not(:last-child)::after {content: \"\\00b7\"; padding: 0 .5ex}\n",
       "</style>\n",
       "<ol class=list-inline><li>FALSE</li><li>FALSE</li><li>TRUE</li><li>TRUE</li></ol>\n"
      ],
      "text/latex": [
       "\\begin{enumerate*}\n",
       "\\item FALSE\n",
       "\\item FALSE\n",
       "\\item TRUE\n",
       "\\item TRUE\n",
       "\\end{enumerate*}\n"
      ],
      "text/markdown": [
       "1. FALSE\n",
       "2. FALSE\n",
       "3. TRUE\n",
       "4. TRUE\n",
       "\n",
       "\n"
      ],
      "text/plain": [
       "[1] FALSE FALSE  TRUE  TRUE"
      ]
     },
     "metadata": {},
     "output_type": "display_data"
    },
    {
     "data": {
      "text/html": [
       "<table>\n",
       "<caption>A data.frame: 2 × 4</caption>\n",
       "<thead>\n",
       "\t<tr><th></th><th scope=col>title</th><th scope=col>rating</th><th scope=col>release_year</th><th scope=col>is_good</th></tr>\n",
       "\t<tr><th></th><th scope=col>&lt;chr&gt;</th><th scope=col>&lt;dbl&gt;</th><th scope=col>&lt;dbl&gt;</th><th scope=col>&lt;lgl&gt;</th></tr>\n",
       "</thead>\n",
       "<tbody>\n",
       "\t<tr><th scope=row>3</th><td>Avengers: Infinity War</td><td>8.4</td><td>2018</td><td>TRUE</td></tr>\n",
       "\t<tr><th scope=row>4</th><td>Avengers: Endgame     </td><td>8.4</td><td>2019</td><td>TRUE</td></tr>\n",
       "</tbody>\n",
       "</table>\n"
      ],
      "text/latex": [
       "A data.frame: 2 × 4\n",
       "\\begin{tabular}{r|llll}\n",
       "  & title & rating & release\\_year & is\\_good\\\\\n",
       "  & <chr> & <dbl> & <dbl> & <lgl>\\\\\n",
       "\\hline\n",
       "\t3 & Avengers: Infinity War & 8.4 & 2018 & TRUE\\\\\n",
       "\t4 & Avengers: Endgame      & 8.4 & 2019 & TRUE\\\\\n",
       "\\end{tabular}\n"
      ],
      "text/markdown": [
       "\n",
       "A data.frame: 2 × 4\n",
       "\n",
       "| <!--/--> | title &lt;chr&gt; | rating &lt;dbl&gt; | release_year &lt;dbl&gt; | is_good &lt;lgl&gt; |\n",
       "|---|---|---|---|---|\n",
       "| 3 | Avengers: Infinity War | 8.4 | 2018 | TRUE |\n",
       "| 4 | Avengers: Endgame      | 8.4 | 2019 | TRUE |\n",
       "\n"
      ],
      "text/plain": [
       "  title                  rating release_year is_good\n",
       "3 Avengers: Infinity War 8.4    2018         TRUE   \n",
       "4 Avengers: Endgame      8.4    2019         TRUE   "
      ]
     },
     "metadata": {},
     "output_type": "display_data"
    }
   ],
   "source": [
    "avengers_df$release_year >= 2018\n",
    "avengers_df[avengers_df$release_year >= 2018, ] # putting logical vector as row index"
   ]
  }
 ],
 "metadata": {
  "celltoolbar": "Slideshow",
  "kernelspec": {
   "display_name": "R",
   "language": "R",
   "name": "ir403"
  },
  "language_info": {
   "codemirror_mode": "r",
   "file_extension": ".r",
   "mimetype": "text/x-r-source",
   "name": "R",
   "pygments_lexer": "r",
   "version": "4.0.3"
  }
 },
 "nbformat": 4,
 "nbformat_minor": 2
}
