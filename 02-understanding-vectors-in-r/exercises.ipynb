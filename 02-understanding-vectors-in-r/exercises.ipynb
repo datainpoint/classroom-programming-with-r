{
 "cells": [
  {
   "cell_type": "markdown",
   "metadata": {
    "deletable": false,
    "editable": false
   },
   "source": [
    "# R 程式設計\n",
    "\n",
    "> 認識向量\n",
    "\n",
    "[數據交點](https://www.datainpoint.com/) | 郭耀仁 <yaojenkuo@datainpoint.com>"
   ]
  },
  {
   "cell_type": "markdown",
   "metadata": {},
   "source": [
    "## 自訂一個函數 `add` 能夠回傳兩數相加的結果。\n",
    "\n",
    "- 預期輸入：兩個數值向量\n",
    "- 預期輸出：一個數值向量"
   ]
  },
  {
   "cell_type": "code",
   "execution_count": 1,
   "metadata": {},
   "outputs": [],
   "source": [
    "add <- function(a, b) {\n",
    "    # add(5, 6)\n",
    "    # 11\n",
    "    # add(6, 7)\n",
    "    # 13\n",
    "    # add(4, 7)\n",
    "    # 11\n",
    "    ### BEGIN SOLUTION\n",
    "    \n",
    "    ### END SOLUTION\n",
    "}"
   ]
  },
  {
   "cell_type": "markdown",
   "metadata": {},
   "source": [
    "## 自訂一個函數 `multiply` 能夠回傳兩數相乘的結果。\n",
    "\n",
    "- 預期輸入：兩個數值向量\n",
    "- 預期輸出：一個數值向量"
   ]
  },
  {
   "cell_type": "code",
   "execution_count": 2,
   "metadata": {},
   "outputs": [],
   "source": [
    "multiply <- function(a, b) {\n",
    "    # multiply(5, 6)\n",
    "    # 30\n",
    "    # multiply(6, 7)\n",
    "    # 42\n",
    "    # multiply(4, 7)\n",
    "    # 28\n",
    "    ### BEGIN SOLUTION\n",
    "    \n",
    "    ### END SOLUTION\n",
    "}"
   ]
  },
  {
   "cell_type": "markdown",
   "metadata": {},
   "source": [
    "## 自訂一個函數 `celsius_to_fahrenheit` 能夠將攝氏溫度轉換為華氏溫度。\n",
    "\n",
    "\\begin{equation}\n",
    "Fahrenheit_{(°F)} = Celsius_{(°C)} \\times \\frac{9}{5} + 32\n",
    "\\end{equation}\n",
    "\n",
    "- 預期輸入：一個數值向量\n",
    "- 預期輸出：一個數值向量"
   ]
  },
  {
   "cell_type": "code",
   "execution_count": 3,
   "metadata": {},
   "outputs": [],
   "source": [
    "celsius_to_fahrenheit <- function(d) {\n",
    "    # celsius_to_fahrenheit(0)\n",
    "    # 32\n",
    "    # celsius_to_fahrenheit(100)\n",
    "    # 212\n",
    "    ### BEGIN SOLUTION\n",
    "    \n",
    "    ### END SOLUTION\n",
    "}"
   ]
  },
  {
   "cell_type": "markdown",
   "metadata": {},
   "source": [
    "## 自訂一個函數 `fahrenheit_to_celsius` 能夠將華氏溫度轉換為攝氏溫度。\n",
    "\n",
    "\\begin{equation}\n",
    "Celsius_{(°C)} =  (Fahrenheit_{(°F)} - 32) \\times \\frac{5}{9}\n",
    "\\end{equation}\n",
    "\n",
    "- 預期輸入：一個數值向量\n",
    "- 預期輸出：一個數值向量"
   ]
  },
  {
   "cell_type": "code",
   "execution_count": 4,
   "metadata": {},
   "outputs": [],
   "source": [
    "fahrenheit_to_celsius <- function(d) {\n",
    "    # fahrenheit_to_celsius(32)\n",
    "    # 0\n",
    "    # fahrenheit_to_celsius(212)\n",
    "    # 100\n",
    "    ### BEGIN SOLUTION\n",
    "    \n",
    "    ### END SOLUTION\n",
    "}"
   ]
  },
  {
   "cell_type": "markdown",
   "metadata": {},
   "source": [
    "## 自訂一個函數 `say_hello_to_anyone` 對任何輸入的人名說哈囉。\n",
    "\n",
    "- 預期輸入：一個文字向量\n",
    "- 預期輸出：一個文字向量"
   ]
  },
  {
   "cell_type": "code",
   "execution_count": 5,
   "metadata": {},
   "outputs": [],
   "source": [
    "say_hello_to_anyone <- function(anyone) {\n",
    "    # say_hello_to_anyone(\"World\")\n",
    "    # \"Hello, World!\"\n",
    "    # say_hello_to_anyone(\"John Doe\")\n",
    "    # \"Hello, John Doe!\"\n",
    "    # say_hello_to_anyone(\"Luke Skywalker\")\n",
    "    # \"Hello, Luke Skywalker!\"\n",
    "    ### BEGIN SOLUTION\n",
    "    \n",
    "    ### END SOLUTION\n",
    "}"
   ]
  },
  {
   "cell_type": "markdown",
   "metadata": {},
   "source": [
    "## 自訂一個函數 `is_positive` 判斷輸入的數值是否大於等於零。\n",
    "\n",
    "- 預期輸入：一個數值向量\n",
    "- 預期輸出：一個邏輯值向量"
   ]
  },
  {
   "cell_type": "code",
   "execution_count": 6,
   "metadata": {},
   "outputs": [],
   "source": [
    "is_positive <- function(x) {\n",
    "    # is_positive(5566)\n",
    "    # TRUE\n",
    "    # is_positive(0)\n",
    "    # TRUE\n",
    "    # is_positive(-56)\n",
    "    # FALSE\n",
    "    ### BEGIN SOLUTION\n",
    "    \n",
    "    ### END SOLUTION\n",
    "}"
   ]
  },
  {
   "cell_type": "markdown",
   "metadata": {},
   "source": [
    "## 自訂一個函數 `is_even` 判斷輸入的數值是否為偶數。\n",
    "\n",
    "- 預期輸入：一個數值向量\n",
    "- 預期輸出：一個邏輯值向量"
   ]
  },
  {
   "cell_type": "code",
   "execution_count": 7,
   "metadata": {},
   "outputs": [],
   "source": [
    "is_even <- function(x) {\n",
    "    # is_even(0)\n",
    "    # TRUE\n",
    "    # is_even(2)\n",
    "    # TRUE\n",
    "    # is_even(3)\n",
    "    # FALSE\n",
    "    # is_even(5)\n",
    "    # FALSE\n",
    "    ### BEGIN SOLUTION\n",
    "    \n",
    "    ### END SOLUTION\n",
    "}"
   ]
  },
  {
   "cell_type": "markdown",
   "metadata": {
    "deletable": false,
    "editable": false
   },
   "source": [
    "## 執行測試\n",
    "\n",
    "Kernel -> Restart & Run All."
   ]
  },
  {
   "cell_type": "code",
   "execution_count": 8,
   "metadata": {
    "deletable": false,
    "editable": false
   },
   "outputs": [
    {
     "name": "stdout",
     "output_type": "stream",
     "text": [
      "── \u001b[1m\u001b[38;5;214mFailure\u001b[39m (<text>:5:9): test_add\u001b[22m ────────────────────────────────────────────\n",
      "add(5, 6) not equal to 11.\n",
      "target is NULL, current is numeric\n",
      "\n",
      "── \u001b[1m\u001b[38;5;214mFailure\u001b[39m (<text>:6:9): test_add\u001b[22m ────────────────────────────────────────────\n",
      "add(6, 7) not equal to 13.\n",
      "target is NULL, current is numeric\n",
      "\n",
      "── \u001b[1m\u001b[38;5;214mFailure\u001b[39m (<text>:7:9): test_add\u001b[22m ────────────────────────────────────────────\n",
      "add(4, 7) not equal to 11.\n",
      "target is NULL, current is numeric\n",
      "\n",
      "── \u001b[1m\u001b[38;5;214mFailure\u001b[39m (<text>:14:9): test_multiply\u001b[22m ──────────────────────────────────────\n",
      "multiply(5, 6) not equal to 30.\n",
      "target is NULL, current is numeric\n",
      "\n",
      "── \u001b[1m\u001b[38;5;214mFailure\u001b[39m (<text>:15:9): test_multiply\u001b[22m ──────────────────────────────────────\n",
      "multiply(6, 7) not equal to 42.\n",
      "target is NULL, current is numeric\n",
      "\n",
      "── \u001b[1m\u001b[38;5;214mFailure\u001b[39m (<text>:16:9): test_multiply\u001b[22m ──────────────────────────────────────\n",
      "multiply(4, 7) not equal to 28.\n",
      "target is NULL, current is numeric\n",
      "\n",
      "── \u001b[1m\u001b[38;5;214mFailure\u001b[39m (<text>:23:9): test_celsius_to_fahrenheit\u001b[22m ─────────────────────────\n",
      "celsius_to_fahrenheit(0) not equal to 32.\n",
      "target is NULL, current is numeric\n",
      "\n",
      "── \u001b[1m\u001b[38;5;214mFailure\u001b[39m (<text>:24:9): test_celsius_to_fahrenheit\u001b[22m ─────────────────────────\n",
      "celsius_to_fahrenheit(100) not equal to 212.\n",
      "target is NULL, current is numeric\n",
      "\n",
      "── \u001b[1m\u001b[38;5;214mFailure\u001b[39m (<text>:31:9): test_fahrenheit_to_celsius\u001b[22m ─────────────────────────\n",
      "fahrenheit_to_celsius(32) not equal to 0.\n",
      "target is NULL, current is numeric\n",
      "\n",
      "── \u001b[1m\u001b[38;5;214mFailure\u001b[39m (<text>:32:9): test_fahrenheit_to_celsius\u001b[22m ─────────────────────────\n",
      "fahrenheit_to_celsius(212) not equal to 100.\n",
      "target is NULL, current is numeric\n",
      "\n",
      "── \u001b[1m\u001b[38;5;214mFailure\u001b[39m (<text>:39:9): test_say_hello_to_anyone\u001b[22m ───────────────────────────\n",
      "say_hello_to_anyone(\"World\") not equal to \"Hello, World!\".\n",
      "target is NULL, current is character\n",
      "\n",
      "── \u001b[1m\u001b[38;5;214mFailure\u001b[39m (<text>:40:9): test_say_hello_to_anyone\u001b[22m ───────────────────────────\n",
      "say_hello_to_anyone(\"John Doe\") not equal to \"Hello, John Doe!\".\n",
      "target is NULL, current is character\n",
      "\n",
      "── \u001b[1m\u001b[38;5;214mFailure\u001b[39m (<text>:41:9): test_say_hello_to_anyone\u001b[22m ───────────────────────────\n",
      "say_hello_to_anyone(\"Luke Skywalker\") not equal to \"Hello, Luke Skywalker!\".\n",
      "target is NULL, current is character\n",
      "\n",
      "── \u001b[1m\u001b[38;5;214mFailure\u001b[39m (<text>:48:9): test_is_positive\u001b[22m ───────────────────────────────────\n",
      "is_positive(5566) not equal to TRUE.\n",
      "target is NULL, current is logical\n",
      "\n",
      "── \u001b[1m\u001b[38;5;214mFailure\u001b[39m (<text>:49:9): test_is_positive\u001b[22m ───────────────────────────────────\n",
      "is_positive(0) not equal to TRUE.\n",
      "target is NULL, current is logical\n",
      "\n",
      "── \u001b[1m\u001b[38;5;214mFailure\u001b[39m (<text>:50:9): test_is_positive\u001b[22m ───────────────────────────────────\n",
      "is_positive(-56) not equal to FALSE.\n",
      "target is NULL, current is logical\n",
      "\n",
      "── \u001b[1m\u001b[38;5;214mFailure\u001b[39m (<text>:57:9): test_is_even\u001b[22m ───────────────────────────────────────\n",
      "is_even(0) not equal to TRUE.\n",
      "target is NULL, current is logical\n",
      "\n",
      "── \u001b[1m\u001b[38;5;214mFailure\u001b[39m (<text>:58:9): test_is_even\u001b[22m ───────────────────────────────────────\n",
      "is_even(2) not equal to TRUE.\n",
      "target is NULL, current is logical\n",
      "\n",
      "── \u001b[1m\u001b[38;5;214mFailure\u001b[39m (<text>:59:9): test_is_even\u001b[22m ───────────────────────────────────────\n",
      "is_even(3) not equal to FALSE.\n",
      "target is NULL, current is logical\n",
      "\n",
      "── \u001b[1m\u001b[38;5;214mFailure\u001b[39m (<text>:60:9): test_is_even\u001b[22m ───────────────────────────────────────\n",
      "is_even(5) not equal to FALSE.\n",
      "target is NULL, current is logical\n",
      "\n"
     ]
    }
   ],
   "source": [
    "library(testthat)\n",
    "\n",
    "test_add <- tryCatch({\n",
    "    test_that(\"test_add\", {\n",
    "        expect_equal(add(5, 6), 11)\n",
    "        expect_equal(add(6, 7), 13)\n",
    "        expect_equal(add(4, 7), 11)\n",
    "    })\n",
    "    }, error = function(e) {\n",
    "        FALSE\n",
    "})\n",
    "test_multiply <- tryCatch({\n",
    "    test_that(\"test_multiply\", {\n",
    "        expect_equal(multiply(5, 6), 30)\n",
    "        expect_equal(multiply(6, 7), 42)\n",
    "        expect_equal(multiply(4, 7), 28)\n",
    "    })\n",
    "    }, error = function(e) {\n",
    "        FALSE\n",
    "})\n",
    "test_celsius_to_fahrenheit <- tryCatch({\n",
    "    test_that(\"test_celsius_to_fahrenheit\", {\n",
    "        expect_equal(celsius_to_fahrenheit(0), 32)\n",
    "        expect_equal(celsius_to_fahrenheit(100), 212)\n",
    "    })\n",
    "    }, error = function(e) {\n",
    "        FALSE\n",
    "})\n",
    "test_fahrenheit_to_celsius <- tryCatch({\n",
    "    test_that(\"test_fahrenheit_to_celsius\", {\n",
    "        expect_equal(fahrenheit_to_celsius(32), 0)\n",
    "        expect_equal(fahrenheit_to_celsius(212), 100)\n",
    "    })\n",
    "    }, error = function(e) {\n",
    "        FALSE\n",
    "})\n",
    "test_say_hello_to_anyone <- tryCatch({\n",
    "    test_that(\"test_say_hello_to_anyone\", {\n",
    "        expect_equal(say_hello_to_anyone(\"World\"), \"Hello, World!\")\n",
    "        expect_equal(say_hello_to_anyone(\"John Doe\"), \"Hello, John Doe!\")\n",
    "        expect_equal(say_hello_to_anyone(\"Luke Skywalker\"), \"Hello, Luke Skywalker!\")\n",
    "    })\n",
    "    }, error = function(e) {\n",
    "        FALSE\n",
    "})\n",
    "test_is_positive <- tryCatch({\n",
    "    test_that(\"test_is_positive\", {\n",
    "        expect_equal(is_positive(5566), TRUE)\n",
    "        expect_equal(is_positive(0), TRUE)\n",
    "        expect_equal(is_positive(-56), FALSE)\n",
    "    })\n",
    "    }, error = function(e) {\n",
    "        FALSE\n",
    "})\n",
    "test_is_even <- tryCatch({\n",
    "    test_that(\"test_is_even\", {\n",
    "        expect_equal(is_even(0), TRUE)\n",
    "        expect_equal(is_even(2), TRUE)\n",
    "        expect_equal(is_even(3), FALSE)\n",
    "        expect_equal(is_even(5), FALSE)\n",
    "    })\n",
    "    }, error = function(e) {\n",
    "        FALSE\n",
    "})"
   ]
  },
  {
   "cell_type": "code",
   "execution_count": 9,
   "metadata": {
    "deletable": false,
    "editable": false
   },
   "outputs": [
    {
     "data": {
      "text/html": [
       "'在 7 題中，您總共答對了 0 題。'"
      ],
      "text/latex": [
       "'在 7 題中，您總共答對了 0 題。'"
      ],
      "text/markdown": [
       "'在 7 題中，您總共答對了 0 題。'"
      ],
      "text/plain": [
       "[1] \"在 7 題中，您總共答對了 0 題。\""
      ]
     },
     "metadata": {},
     "output_type": "display_data"
    }
   ],
   "source": [
    "all_tests <- c(test_add, test_multiply, test_celsius_to_fahrenheit, test_fahrenheit_to_celsius, test_say_hello_to_anyone, test_is_positive, test_is_even)\n",
    "passed_tests <- sum(all_tests)\n",
    "sprintf(\"在 %s 題中，您總共答對了 %s 題。\", length(all_tests), passed_tests)"
   ]
  }
 ],
 "metadata": {
  "kernelspec": {
   "display_name": "R",
   "language": "R",
   "name": "ir403"
  },
  "language_info": {
   "codemirror_mode": "r",
   "file_extension": ".r",
   "mimetype": "text/x-r-source",
   "name": "R",
   "pygments_lexer": "r",
   "version": "4.0.3"
  }
 },
 "nbformat": 4,
 "nbformat_minor": 4
}
