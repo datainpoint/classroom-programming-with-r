{
 "cells": [
  {
   "cell_type": "markdown",
   "metadata": {
    "deletable": false,
    "editable": false
   },
   "source": [
    "# R 程式設計\n",
    "\n",
    "> 操作向量\n",
    "\n",
    "[數據交點](https://www.datainpoint.com/) | 郭耀仁 <yaojenkuo@datainpoint.com>"
   ]
  },
  {
   "cell_type": "markdown",
   "metadata": {},
   "source": [
    "## 自訂一個函數 `one_to_hundred` 能夠回傳一個長度為 100 的數值向量，含有 1 到 100 的整數。\n",
    "\n",
    "- 預期輸入：無\n",
    "- 預期輸出：一個長度為 100 的數值向量"
   ]
  },
  {
   "cell_type": "code",
   "execution_count": 1,
   "metadata": {},
   "outputs": [],
   "source": [
    "one_to_hundred <- function() {\n",
    "    # length(one_to_hundred())\n",
    "    # 100\n",
    "    # sum(one_to_hundred())\n",
    "    # 5050\n",
    "    ### BEGIN SOLUTION\n",
    "    \n",
    "    ### END SOLUTION\n",
    "}"
   ]
  },
  {
   "cell_type": "markdown",
   "metadata": {},
   "source": [
    "## 自訂一個函數 `a_to_b` 能夠回傳一個長度不定的數值向量，含有介於 a 到 b 之間的整數，其中 $a \\leq b$。\n",
    "\n",
    "- 預期輸入：兩個數值向量\n",
    "- 預期輸出：一個數值向量"
   ]
  },
  {
   "cell_type": "code",
   "execution_count": 2,
   "metadata": {},
   "outputs": [],
   "source": [
    "a_to_b <- function(a, b) {\n",
    "    # a_to_b(1, 1)\n",
    "    # [1] 1\n",
    "    # a_to_b(1, 3)\n",
    "    # [1] 1 2 3\n",
    "    # a_to_b(1, 5)\n",
    "    # [1] 1 2 3 4 5\n",
    "    ### BEGIN SOLUTION\n",
    "    \n",
    "    ### END SOLUTION\n",
    "}"
   ]
  },
  {
   "cell_type": "markdown",
   "metadata": {},
   "source": [
    "## 自訂一個函數 `find_positives`，給定一個數值向量能夠回傳其中的正數。\n",
    "\n",
    "- 預期輸入：一個數值向量\n",
    "- 預期輸出：一個數值向量"
   ]
  },
  {
   "cell_type": "code",
   "execution_count": 3,
   "metadata": {},
   "outputs": [],
   "source": [
    "find_positives <- function(x) {\n",
    "    # find_positives(-3:3)\n",
    "    # [1] 0 1 2 3\n",
    "    # find_positives(c(-1, 1, -2, 2, -3, 3))\n",
    "    # [1] 1 2 3\n",
    "    ### BEGIN SOLUTION\n",
    "    \n",
    "    ### END SOLUTION\n",
    "}"
   ]
  },
  {
   "cell_type": "markdown",
   "metadata": {},
   "source": [
    "## 自訂一個函數 `find_odds`，給定一個數值向量能夠回傳其中的奇數。\n",
    "\n",
    "- 預期輸入：一個數值向量\n",
    "- 預期輸出：一個數值向量"
   ]
  },
  {
   "cell_type": "code",
   "execution_count": 4,
   "metadata": {},
   "outputs": [],
   "source": [
    "find_odds <- function(x) {\n",
    "    # find_odds(1:3)\n",
    "    # [1] 1 3\n",
    "    # find_odds(10:15)\n",
    "    # [1] 11 13 15\n",
    "    # find_odds(2:6)\n",
    "    # [1] 3 5\n",
    "    ### BEGIN SOLUTION\n",
    "    \n",
    "    ### END SOLUTION\n",
    "}"
   ]
  },
  {
   "cell_type": "markdown",
   "metadata": {},
   "source": [
    "## 自訂一個函數 `find_evens`，給定起點 a 到終點 b 之間的數值向量，其中 $a \\leq b$，回傳其中的偶數。\n",
    "\n",
    "- 預期輸入：兩個數值向量\n",
    "- 預期輸出：一個數值向量"
   ]
  },
  {
   "cell_type": "code",
   "execution_count": 5,
   "metadata": {},
   "outputs": [],
   "source": [
    "find_evens <- function(a, b) {\n",
    "    # find_evens(1, 3)\n",
    "    # 2\n",
    "    # find_evens(10:15)\n",
    "    # [1] 10 12 14\n",
    "    # find_evens(2:6)\n",
    "    # [1] 2 4 6\n",
    "    ### BEGIN SOLUTION\n",
    "    \n",
    "    ### END SOLUTION\n",
    "}"
   ]
  },
  {
   "cell_type": "markdown",
   "metadata": {
    "deletable": false,
    "editable": false
   },
   "source": [
    "## 執行測試\n",
    "\n",
    "Kernel -> Restart & Run All."
   ]
  },
  {
   "cell_type": "code",
   "execution_count": 6,
   "metadata": {
    "deletable": false,
    "editable": false
   },
   "outputs": [
    {
     "name": "stdout",
     "output_type": "stream",
     "text": [
      "── \u001b[1m\u001b[38;5;214mFailure\u001b[39m (<text>:5:9): test_one_to_hundred\u001b[22m ─────────────────────────────────\n",
      "length(one_to_hundred()) not equal to 100.\n",
      "1/1 mismatches\n",
      "[1] 0 - 100 == -100\n",
      "\n",
      "── \u001b[1m\u001b[38;5;214mFailure\u001b[39m (<text>:6:9): test_one_to_hundred\u001b[22m ─────────────────────────────────\n",
      "sum(one_to_hundred()) not equal to 5050.\n",
      "1/1 mismatches\n",
      "[1] 0 - 5050 == -5050\n",
      "\n",
      "── \u001b[1m\u001b[38;5;214mFailure\u001b[39m (<text>:13:9): test_a_to_b\u001b[22m ────────────────────────────────────────\n",
      "a_to_b(1, 1) not equal to 1.\n",
      "target is NULL, current is numeric\n",
      "\n",
      "── \u001b[1m\u001b[38;5;214mFailure\u001b[39m (<text>:14:9): test_a_to_b\u001b[22m ────────────────────────────────────────\n",
      "a_to_b(1, 3) not equal to c(1, 2, 3).\n",
      "target is NULL, current is numeric\n",
      "\n",
      "── \u001b[1m\u001b[38;5;214mFailure\u001b[39m (<text>:15:9): test_a_to_b\u001b[22m ────────────────────────────────────────\n",
      "a_to_b(1, 5) not equal to c(1, 2, 3, 4, 5).\n",
      "target is NULL, current is numeric\n",
      "\n",
      "── \u001b[1m\u001b[38;5;214mFailure\u001b[39m (<text>:22:9): test_find_positives\u001b[22m ────────────────────────────────\n",
      "find_positives(-3:3) not equal to c(0, 1, 2, 3).\n",
      "target is NULL, current is numeric\n",
      "\n",
      "── \u001b[1m\u001b[38;5;214mFailure\u001b[39m (<text>:23:9): test_find_positives\u001b[22m ────────────────────────────────\n",
      "find_positives(c(-1, 1, -2, 2, -3, 3)) not equal to c(1, 2, 3).\n",
      "target is NULL, current is numeric\n",
      "\n",
      "── \u001b[1m\u001b[38;5;214mFailure\u001b[39m (<text>:30:9): test_find_odds\u001b[22m ─────────────────────────────────────\n",
      "find_odds(1:3) not equal to c(1, 3).\n",
      "target is NULL, current is numeric\n",
      "\n",
      "── \u001b[1m\u001b[38;5;214mFailure\u001b[39m (<text>:31:9): test_find_odds\u001b[22m ─────────────────────────────────────\n",
      "find_odds(10:15) not equal to c(11, 13, 15).\n",
      "target is NULL, current is numeric\n",
      "\n",
      "── \u001b[1m\u001b[38;5;214mFailure\u001b[39m (<text>:32:9): test_find_odds\u001b[22m ─────────────────────────────────────\n",
      "find_odds(2:6) not equal to c(3, 5).\n",
      "target is NULL, current is numeric\n",
      "\n",
      "── \u001b[1m\u001b[38;5;214mFailure\u001b[39m (<text>:39:9): test_find_evens\u001b[22m ────────────────────────────────────\n",
      "find_evens(1, 3) not equal to 2.\n",
      "target is NULL, current is numeric\n",
      "\n",
      "── \u001b[1m\u001b[38;5;214mFailure\u001b[39m (<text>:40:9): test_find_evens\u001b[22m ────────────────────────────────────\n",
      "find_evens(10, 15) not equal to c(10, 12, 14).\n",
      "target is NULL, current is numeric\n",
      "\n",
      "── \u001b[1m\u001b[38;5;214mFailure\u001b[39m (<text>:41:9): test_find_evens\u001b[22m ────────────────────────────────────\n",
      "find_evens(2, 6) not equal to c(2, 4, 6).\n",
      "target is NULL, current is numeric\n",
      "\n"
     ]
    }
   ],
   "source": [
    "library(testthat)\n",
    "\n",
    "test_one_to_hundred <- tryCatch({\n",
    "    test_that(\"test_one_to_hundred\", {\n",
    "        expect_equal(length(one_to_hundred()), 100)\n",
    "        expect_equal(sum(one_to_hundred()), 5050)\n",
    "    })\n",
    "    }, error = function(e) {\n",
    "        FALSE\n",
    "})\n",
    "test_a_to_b <- tryCatch({\n",
    "    test_that(\"test_a_to_b\", {\n",
    "        expect_equal(a_to_b(1, 1), 1)\n",
    "        expect_equal(a_to_b(1, 3), c(1, 2, 3))\n",
    "        expect_equal(a_to_b(1, 5), c(1, 2, 3, 4, 5))\n",
    "    })\n",
    "    }, error = function(e) {\n",
    "        FALSE\n",
    "})\n",
    "test_find_positives <- tryCatch({\n",
    "    test_that(\"test_find_positives\", {\n",
    "        expect_equal(find_positives(-3:3), c(0, 1, 2, 3))\n",
    "        expect_equal(find_positives(c(-1, 1, -2, 2, -3, 3)), c(1, 2, 3))\n",
    "    })\n",
    "    }, error = function(e) {\n",
    "        FALSE\n",
    "})\n",
    "test_find_odds <- tryCatch({\n",
    "    test_that(\"test_find_odds\", {\n",
    "        expect_equal(find_odds(1:3), c(1, 3))\n",
    "        expect_equal(find_odds(10:15), c(11, 13, 15))\n",
    "        expect_equal(find_odds(2:6), c(3, 5))\n",
    "    })\n",
    "    }, error = function(e) {\n",
    "        FALSE\n",
    "})\n",
    "test_find_evens <- tryCatch({\n",
    "    test_that(\"test_find_evens\", {\n",
    "        expect_equal(find_evens(1, 3), 2)\n",
    "        expect_equal(find_evens(10, 15), c(10, 12, 14))\n",
    "        expect_equal(find_evens(2, 6), c(2, 4, 6))\n",
    "    })\n",
    "    }, error = function(e) {\n",
    "        FALSE\n",
    "})"
   ]
  },
  {
   "cell_type": "code",
   "execution_count": 7,
   "metadata": {
    "deletable": false,
    "editable": false
   },
   "outputs": [
    {
     "data": {
      "text/html": [
       "'在 5 題中，您總共答對了 0 題。'"
      ],
      "text/latex": [
       "'在 5 題中，您總共答對了 0 題。'"
      ],
      "text/markdown": [
       "'在 5 題中，您總共答對了 0 題。'"
      ],
      "text/plain": [
       "[1] \"在 5 題中，您總共答對了 0 題。\""
      ]
     },
     "metadata": {},
     "output_type": "display_data"
    }
   ],
   "source": [
    "all_tests <- c(test_one_to_hundred, test_a_to_b, test_find_positives, test_find_odds, test_find_evens)\n",
    "passed_tests <- sum(all_tests)\n",
    "sprintf(\"在 %s 題中，您總共答對了 %s 題。\", length(all_tests), passed_tests)"
   ]
  }
 ],
 "metadata": {
  "kernelspec": {
   "display_name": "R",
   "language": "R",
   "name": "ir403"
  },
  "language_info": {
   "codemirror_mode": "r",
   "file_extension": ".r",
   "mimetype": "text/x-r-source",
   "name": "R",
   "pygments_lexer": "r",
   "version": "4.0.3"
  }
 },
 "nbformat": 4,
 "nbformat_minor": 4
}
