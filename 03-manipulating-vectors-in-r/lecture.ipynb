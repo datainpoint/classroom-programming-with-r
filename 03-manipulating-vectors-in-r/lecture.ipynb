{
 "cells": [
  {
   "cell_type": "markdown",
   "metadata": {
    "slideshow": {
     "slide_type": "slide"
    }
   },
   "source": [
    "# R 程式設計\n",
    "\n",
    "> 操作向量\n",
    "\n",
    "[數據交點](https://www.datainpoint.com/) | 郭耀仁 <yaojenkuo@datainpoint.com>"
   ]
  },
  {
   "cell_type": "markdown",
   "metadata": {
    "slideshow": {
     "slide_type": "subslide"
    }
   },
   "source": [
    "> Doug: Remember, there’s no \"I\" in team.\n",
    ">\n",
    "> Chandler: Yes, but there’s two in martini, so everybody back to my office!\n",
    "> \n",
    "> Friends"
   ]
  },
  {
   "cell_type": "markdown",
   "metadata": {
    "slideshow": {
     "slide_type": "subslide"
    }
   },
   "source": [
    "## 截至目前為止，我們都在面對長度為 1 的向量\n",
    "\n",
    "為什麼在 Console 印資料前面都會顯示 `[1]`？"
   ]
  },
  {
   "cell_type": "code",
   "execution_count": 1,
   "metadata": {},
   "outputs": [
    {
     "name": "stdout",
     "output_type": "stream",
     "text": [
      "[1] \"Hello world\"\n"
     ]
    }
   ],
   "source": [
    "print(\"Hello world\")"
   ]
  },
  {
   "cell_type": "markdown",
   "metadata": {
    "slideshow": {
     "slide_type": "subslide"
    }
   },
   "source": [
    "## 對於 R 來說，最小的資料單位是長度為 1 的向量，而不是純量"
   ]
  },
  {
   "cell_type": "markdown",
   "metadata": {
    "slideshow": {
     "slide_type": "slide"
    }
   },
   "source": [
    "## 創建"
   ]
  },
  {
   "cell_type": "markdown",
   "metadata": {
    "slideshow": {
     "slide_type": "subslide"
    }
   },
   "source": [
    "## 使用 `c()` 函數來創建長度大於 1 的向量"
   ]
  },
  {
   "cell_type": "code",
   "execution_count": 2,
   "metadata": {
    "slideshow": {
     "slide_type": "-"
    }
   },
   "outputs": [
    {
     "data": {
      "text/html": [
       "<style>\n",
       ".list-inline {list-style: none; margin:0; padding: 0}\n",
       ".list-inline>li {display: inline-block}\n",
       ".list-inline>li:not(:last-child)::after {content: \"\\00b7\"; padding: 0 .5ex}\n",
       "</style>\n",
       "<ol class=list-inline><li>'The Avengers'</li><li>'Avengers: Age of Ultron'</li><li>'Avengers: Infinity War'</li><li>'Avengers: Endgame'</li></ol>\n"
      ],
      "text/latex": [
       "\\begin{enumerate*}\n",
       "\\item 'The Avengers'\n",
       "\\item 'Avengers: Age of Ultron'\n",
       "\\item 'Avengers: Infinity War'\n",
       "\\item 'Avengers: Endgame'\n",
       "\\end{enumerate*}\n"
      ],
      "text/markdown": [
       "1. 'The Avengers'\n",
       "2. 'Avengers: Age of Ultron'\n",
       "3. 'Avengers: Infinity War'\n",
       "4. 'Avengers: Endgame'\n",
       "\n",
       "\n"
      ],
      "text/plain": [
       "[1] \"The Avengers\"            \"Avengers: Age of Ultron\"\n",
       "[3] \"Avengers: Infinity War\"  \"Avengers: Endgame\"      "
      ]
     },
     "metadata": {},
     "output_type": "display_data"
    },
    {
     "data": {
      "text/html": [
       "<style>\n",
       ".list-inline {list-style: none; margin:0; padding: 0}\n",
       ".list-inline>li {display: inline-block}\n",
       ".list-inline>li:not(:last-child)::after {content: \"\\00b7\"; padding: 0 .5ex}\n",
       "</style>\n",
       "<ol class=list-inline><li>8</li><li>7.3</li><li>8.4</li><li>8.4</li></ol>\n"
      ],
      "text/latex": [
       "\\begin{enumerate*}\n",
       "\\item 8\n",
       "\\item 7.3\n",
       "\\item 8.4\n",
       "\\item 8.4\n",
       "\\end{enumerate*}\n"
      ],
      "text/markdown": [
       "1. 8\n",
       "2. 7.3\n",
       "3. 8.4\n",
       "4. 8.4\n",
       "\n",
       "\n"
      ],
      "text/plain": [
       "[1] 8.0 7.3 8.4 8.4"
      ]
     },
     "metadata": {},
     "output_type": "display_data"
    }
   ],
   "source": [
    "avengers <- c(\"The Avengers\", \"Avengers: Age of Ultron\", \"Avengers: Infinity War\", \"Avengers: Endgame\")\n",
    "avengers_ratings <- c(8.0, 7.3, 8.4, 8.4)\n",
    "avengers\n",
    "avengers_ratings"
   ]
  },
  {
   "cell_type": "markdown",
   "metadata": {
    "slideshow": {
     "slide_type": "subslide"
    }
   },
   "source": [
    "## 快速創建數值向量的函數\n",
    "\n",
    "- `seq()`\n",
    "- `rep()`"
   ]
  },
  {
   "cell_type": "code",
   "execution_count": 3,
   "metadata": {
    "slideshow": {
     "slide_type": "subslide"
    }
   },
   "outputs": [
    {
     "data": {
      "text/html": [
       "<style>\n",
       ".list-inline {list-style: none; margin:0; padding: 0}\n",
       ".list-inline>li {display: inline-block}\n",
       ".list-inline>li:not(:last-child)::after {content: \"\\00b7\"; padding: 0 .5ex}\n",
       "</style>\n",
       "<ol class=list-inline><li>11</li><li>12</li><li>13</li><li>14</li><li>15</li><li>16</li><li>17</li><li>18</li><li>19</li><li>20</li><li>21</li></ol>\n"
      ],
      "text/latex": [
       "\\begin{enumerate*}\n",
       "\\item 11\n",
       "\\item 12\n",
       "\\item 13\n",
       "\\item 14\n",
       "\\item 15\n",
       "\\item 16\n",
       "\\item 17\n",
       "\\item 18\n",
       "\\item 19\n",
       "\\item 20\n",
       "\\item 21\n",
       "\\end{enumerate*}\n"
      ],
      "text/markdown": [
       "1. 11\n",
       "2. 12\n",
       "3. 13\n",
       "4. 14\n",
       "5. 15\n",
       "6. 16\n",
       "7. 17\n",
       "8. 18\n",
       "9. 19\n",
       "10. 20\n",
       "11. 21\n",
       "\n",
       "\n"
      ],
      "text/plain": [
       " [1] 11 12 13 14 15 16 17 18 19 20 21"
      ]
     },
     "metadata": {},
     "output_type": "display_data"
    },
    {
     "data": {
      "text/html": [
       "<style>\n",
       ".list-inline {list-style: none; margin:0; padding: 0}\n",
       ".list-inline>li {display: inline-block}\n",
       ".list-inline>li:not(:last-child)::after {content: \"\\00b7\"; padding: 0 .5ex}\n",
       "</style>\n",
       "<ol class=list-inline><li>11</li><li>13</li><li>15</li><li>17</li><li>19</li><li>21</li></ol>\n"
      ],
      "text/latex": [
       "\\begin{enumerate*}\n",
       "\\item 11\n",
       "\\item 13\n",
       "\\item 15\n",
       "\\item 17\n",
       "\\item 19\n",
       "\\item 21\n",
       "\\end{enumerate*}\n"
      ],
      "text/markdown": [
       "1. 11\n",
       "2. 13\n",
       "3. 15\n",
       "4. 17\n",
       "5. 19\n",
       "6. 21\n",
       "\n",
       "\n"
      ],
      "text/plain": [
       "[1] 11 13 15 17 19 21"
      ]
     },
     "metadata": {},
     "output_type": "display_data"
    },
    {
     "data": {
      "text/html": [
       "<style>\n",
       ".list-inline {list-style: none; margin:0; padding: 0}\n",
       ".list-inline>li {display: inline-block}\n",
       ".list-inline>li:not(:last-child)::after {content: \"\\00b7\"; padding: 0 .5ex}\n",
       "</style>\n",
       "<ol class=list-inline><li>11</li><li>13</li><li>15</li><li>17</li><li>19</li><li>21</li></ol>\n"
      ],
      "text/latex": [
       "\\begin{enumerate*}\n",
       "\\item 11\n",
       "\\item 13\n",
       "\\item 15\n",
       "\\item 17\n",
       "\\item 19\n",
       "\\item 21\n",
       "\\end{enumerate*}\n"
      ],
      "text/markdown": [
       "1. 11\n",
       "2. 13\n",
       "3. 15\n",
       "4. 17\n",
       "5. 19\n",
       "6. 21\n",
       "\n",
       "\n"
      ],
      "text/plain": [
       "[1] 11 13 15 17 19 21"
      ]
     },
     "metadata": {},
     "output_type": "display_data"
    }
   ],
   "source": [
    "seq(from = 11, to = 21) # same as 11:21\n",
    "seq(from = 11, to = 21, by = 2)\n",
    "seq(from = 11, to = 21, length.out = 6)"
   ]
  },
  {
   "cell_type": "code",
   "execution_count": 4,
   "metadata": {
    "slideshow": {
     "slide_type": "subslide"
    }
   },
   "outputs": [
    {
     "data": {
      "text/html": [
       "<style>\n",
       ".list-inline {list-style: none; margin:0; padding: 0}\n",
       ".list-inline>li {display: inline-block}\n",
       ".list-inline>li:not(:last-child)::after {content: \"\\00b7\"; padding: 0 .5ex}\n",
       "</style>\n",
       "<ol class=list-inline><li>5</li><li>5</li><li>5</li><li>5</li><li>5</li><li>5</li></ol>\n"
      ],
      "text/latex": [
       "\\begin{enumerate*}\n",
       "\\item 5\n",
       "\\item 5\n",
       "\\item 5\n",
       "\\item 5\n",
       "\\item 5\n",
       "\\item 5\n",
       "\\end{enumerate*}\n"
      ],
      "text/markdown": [
       "1. 5\n",
       "2. 5\n",
       "3. 5\n",
       "4. 5\n",
       "5. 5\n",
       "6. 5\n",
       "\n",
       "\n"
      ],
      "text/plain": [
       "[1] 5 5 5 5 5 5"
      ]
     },
     "metadata": {},
     "output_type": "display_data"
    },
    {
     "data": {
      "text/html": [
       "<style>\n",
       ".list-inline {list-style: none; margin:0; padding: 0}\n",
       ".list-inline>li {display: inline-block}\n",
       ".list-inline>li:not(:last-child)::after {content: \"\\00b7\"; padding: 0 .5ex}\n",
       "</style>\n",
       "<ol class=list-inline><li>'5566'</li><li>'5566'</li><li>'5566'</li><li>'5566'</li><li>'5566'</li></ol>\n"
      ],
      "text/latex": [
       "\\begin{enumerate*}\n",
       "\\item '5566'\n",
       "\\item '5566'\n",
       "\\item '5566'\n",
       "\\item '5566'\n",
       "\\item '5566'\n",
       "\\end{enumerate*}\n"
      ],
      "text/markdown": [
       "1. '5566'\n",
       "2. '5566'\n",
       "3. '5566'\n",
       "4. '5566'\n",
       "5. '5566'\n",
       "\n",
       "\n"
      ],
      "text/plain": [
       "[1] \"5566\" \"5566\" \"5566\" \"5566\" \"5566\""
      ]
     },
     "metadata": {},
     "output_type": "display_data"
    },
    {
     "data": {
      "text/html": [
       "<style>\n",
       ".list-inline {list-style: none; margin:0; padding: 0}\n",
       ".list-inline>li {display: inline-block}\n",
       ".list-inline>li:not(:last-child)::after {content: \"\\00b7\"; padding: 0 .5ex}\n",
       "</style>\n",
       "<ol class=list-inline><li>TRUE</li><li>TRUE</li><li>TRUE</li><li>TRUE</li></ol>\n"
      ],
      "text/latex": [
       "\\begin{enumerate*}\n",
       "\\item TRUE\n",
       "\\item TRUE\n",
       "\\item TRUE\n",
       "\\item TRUE\n",
       "\\end{enumerate*}\n"
      ],
      "text/markdown": [
       "1. TRUE\n",
       "2. TRUE\n",
       "3. TRUE\n",
       "4. TRUE\n",
       "\n",
       "\n"
      ],
      "text/plain": [
       "[1] TRUE TRUE TRUE TRUE"
      ]
     },
     "metadata": {},
     "output_type": "display_data"
    }
   ],
   "source": [
    "rep(5, times = 6)\n",
    "rep(\"5566\", times = 5)\n",
    "rep(TRUE, times = 4)"
   ]
  },
  {
   "cell_type": "markdown",
   "metadata": {
    "slideshow": {
     "slide_type": "slide"
    }
   },
   "source": [
    "## 索引與切割"
   ]
  },
  {
   "cell_type": "markdown",
   "metadata": {
    "slideshow": {
     "slide_type": "subslide"
    }
   },
   "source": [
    "## 使用 `length()` 函數得知向量長度"
   ]
  },
  {
   "cell_type": "code",
   "execution_count": 5,
   "metadata": {},
   "outputs": [
    {
     "data": {
      "text/html": [
       "4"
      ],
      "text/latex": [
       "4"
      ],
      "text/markdown": [
       "4"
      ],
      "text/plain": [
       "[1] 4"
      ]
     },
     "metadata": {},
     "output_type": "display_data"
    }
   ],
   "source": [
    "avengers <- c(\"The Avengers\", \"Avengers: Age of Ultron\", \"Avengers: Infinity War\", \"Avengers: Endgame\")\n",
    "length(avengers)"
   ]
  },
  {
   "cell_type": "markdown",
   "metadata": {
    "slideshow": {
     "slide_type": "subslide"
    }
   },
   "source": [
    "## 使用 `[INDEX]` 進行索引"
   ]
  },
  {
   "cell_type": "code",
   "execution_count": 6,
   "metadata": {},
   "outputs": [
    {
     "data": {
      "text/html": [
       "'The Avengers'"
      ],
      "text/latex": [
       "'The Avengers'"
      ],
      "text/markdown": [
       "'The Avengers'"
      ],
      "text/plain": [
       "[1] \"The Avengers\""
      ]
     },
     "metadata": {},
     "output_type": "display_data"
    },
    {
     "data": {
      "text/html": [
       "'Avengers: Age of Ultron'"
      ],
      "text/latex": [
       "'Avengers: Age of Ultron'"
      ],
      "text/markdown": [
       "'Avengers: Age of Ultron'"
      ],
      "text/plain": [
       "[1] \"Avengers: Age of Ultron\""
      ]
     },
     "metadata": {},
     "output_type": "display_data"
    },
    {
     "data": {
      "text/html": [
       "'Avengers: Infinity War'"
      ],
      "text/latex": [
       "'Avengers: Infinity War'"
      ],
      "text/markdown": [
       "'Avengers: Infinity War'"
      ],
      "text/plain": [
       "[1] \"Avengers: Infinity War\""
      ]
     },
     "metadata": {},
     "output_type": "display_data"
    },
    {
     "data": {
      "text/html": [
       "'Avengers: Endgame'"
      ],
      "text/latex": [
       "'Avengers: Endgame'"
      ],
      "text/markdown": [
       "'Avengers: Endgame'"
      ],
      "text/plain": [
       "[1] \"Avengers: Endgame\""
      ]
     },
     "metadata": {},
     "output_type": "display_data"
    }
   ],
   "source": [
    "avengers <- c(\"The Avengers\", \"Avengers: Age of Ultron\", \"Avengers: Infinity War\", \"Avengers: Endgame\")\n",
    "avengers[1]\n",
    "avengers[2]\n",
    "avengers[3]\n",
    "avengers[length(avengers)] # in case we have a long vector"
   ]
  },
  {
   "cell_type": "markdown",
   "metadata": {
    "slideshow": {
     "slide_type": "subslide"
    }
   },
   "source": [
    "## 使用 `[c(INDICES)]` 進行切割"
   ]
  },
  {
   "cell_type": "code",
   "execution_count": 7,
   "metadata": {},
   "outputs": [
    {
     "data": {
      "text/html": [
       "<style>\n",
       ".list-inline {list-style: none; margin:0; padding: 0}\n",
       ".list-inline>li {display: inline-block}\n",
       ".list-inline>li:not(:last-child)::after {content: \"\\00b7\"; padding: 0 .5ex}\n",
       "</style>\n",
       "<ol class=list-inline><li>'The Avengers'</li><li>'Avengers: Age of Ultron'</li><li>'Avengers: Infinity War'</li><li>'Avengers: Endgame'</li></ol>\n"
      ],
      "text/latex": [
       "\\begin{enumerate*}\n",
       "\\item 'The Avengers'\n",
       "\\item 'Avengers: Age of Ultron'\n",
       "\\item 'Avengers: Infinity War'\n",
       "\\item 'Avengers: Endgame'\n",
       "\\end{enumerate*}\n"
      ],
      "text/markdown": [
       "1. 'The Avengers'\n",
       "2. 'Avengers: Age of Ultron'\n",
       "3. 'Avengers: Infinity War'\n",
       "4. 'Avengers: Endgame'\n",
       "\n",
       "\n"
      ],
      "text/plain": [
       "[1] \"The Avengers\"            \"Avengers: Age of Ultron\"\n",
       "[3] \"Avengers: Infinity War\"  \"Avengers: Endgame\"      "
      ]
     },
     "metadata": {},
     "output_type": "display_data"
    },
    {
     "data": {
      "text/html": [
       "<style>\n",
       ".list-inline {list-style: none; margin:0; padding: 0}\n",
       ".list-inline>li {display: inline-block}\n",
       ".list-inline>li:not(:last-child)::after {content: \"\\00b7\"; padding: 0 .5ex}\n",
       "</style>\n",
       "<ol class=list-inline><li>'The Avengers'</li><li>'Avengers: Infinity War'</li><li>'Avengers: Endgame'</li></ol>\n"
      ],
      "text/latex": [
       "\\begin{enumerate*}\n",
       "\\item 'The Avengers'\n",
       "\\item 'Avengers: Infinity War'\n",
       "\\item 'Avengers: Endgame'\n",
       "\\end{enumerate*}\n"
      ],
      "text/markdown": [
       "1. 'The Avengers'\n",
       "2. 'Avengers: Infinity War'\n",
       "3. 'Avengers: Endgame'\n",
       "\n",
       "\n"
      ],
      "text/plain": [
       "[1] \"The Avengers\"           \"Avengers: Infinity War\" \"Avengers: Endgame\"     "
      ]
     },
     "metadata": {},
     "output_type": "display_data"
    }
   ],
   "source": [
    "avengers <- c(\"The Avengers\", \"Avengers: Age of Ultron\", \"Avengers: Infinity War\", \"Avengers: Endgame\")\n",
    "avengers\n",
    "avengers[c(1, 3, 4)]"
   ]
  },
  {
   "cell_type": "markdown",
   "metadata": {
    "slideshow": {
     "slide_type": "slide"
    }
   },
   "source": [
    "## 更新與刪除"
   ]
  },
  {
   "cell_type": "markdown",
   "metadata": {
    "slideshow": {
     "slide_type": "subslide"
    }
   },
   "source": [
    "## 修正向量資料"
   ]
  },
  {
   "cell_type": "code",
   "execution_count": 8,
   "metadata": {},
   "outputs": [
    {
     "data": {
      "text/html": [
       "<style>\n",
       ".list-inline {list-style: none; margin:0; padding: 0}\n",
       ".list-inline>li {display: inline-block}\n",
       ".list-inline>li:not(:last-child)::after {content: \"\\00b7\"; padding: 0 .5ex}\n",
       "</style>\n",
       "<ol class=list-inline><li>'the avengers'</li><li>'Avengers: Age of Ultron'</li><li>'Avengers: Infinity War'</li><li>'Avengers: Endgame'</li></ol>\n"
      ],
      "text/latex": [
       "\\begin{enumerate*}\n",
       "\\item 'the avengers'\n",
       "\\item 'Avengers: Age of Ultron'\n",
       "\\item 'Avengers: Infinity War'\n",
       "\\item 'Avengers: Endgame'\n",
       "\\end{enumerate*}\n"
      ],
      "text/markdown": [
       "1. 'the avengers'\n",
       "2. 'Avengers: Age of Ultron'\n",
       "3. 'Avengers: Infinity War'\n",
       "4. 'Avengers: Endgame'\n",
       "\n",
       "\n"
      ],
      "text/plain": [
       "[1] \"the avengers\"            \"Avengers: Age of Ultron\"\n",
       "[3] \"Avengers: Infinity War\"  \"Avengers: Endgame\"      "
      ]
     },
     "metadata": {},
     "output_type": "display_data"
    },
    {
     "data": {
      "text/html": [
       "<style>\n",
       ".list-inline {list-style: none; margin:0; padding: 0}\n",
       ".list-inline>li {display: inline-block}\n",
       ".list-inline>li:not(:last-child)::after {content: \"\\00b7\"; padding: 0 .5ex}\n",
       "</style>\n",
       "<ol class=list-inline><li>'The Avengers'</li><li>'Avengers: Age of Ultron'</li><li>'Avengers: Infinity War'</li><li>'Avengers: Endgame'</li></ol>\n"
      ],
      "text/latex": [
       "\\begin{enumerate*}\n",
       "\\item 'The Avengers'\n",
       "\\item 'Avengers: Age of Ultron'\n",
       "\\item 'Avengers: Infinity War'\n",
       "\\item 'Avengers: Endgame'\n",
       "\\end{enumerate*}\n"
      ],
      "text/markdown": [
       "1. 'The Avengers'\n",
       "2. 'Avengers: Age of Ultron'\n",
       "3. 'Avengers: Infinity War'\n",
       "4. 'Avengers: Endgame'\n",
       "\n",
       "\n"
      ],
      "text/plain": [
       "[1] \"The Avengers\"            \"Avengers: Age of Ultron\"\n",
       "[3] \"Avengers: Infinity War\"  \"Avengers: Endgame\"      "
      ]
     },
     "metadata": {},
     "output_type": "display_data"
    }
   ],
   "source": [
    "avengers <- c(\"the avengers\", \"Avengers: Age of Ultron\", \"Avengers: Infinity War\", \"Avengers: Endgame\")\n",
    "avengers\n",
    "avengers[1] <- \"The Avengers\"\n",
    "avengers"
   ]
  },
  {
   "cell_type": "markdown",
   "metadata": {
    "slideshow": {
     "slide_type": "subslide"
    }
   },
   "source": [
    "## 新增向量資料"
   ]
  },
  {
   "cell_type": "code",
   "execution_count": 9,
   "metadata": {},
   "outputs": [
    {
     "data": {
      "text/html": [
       "<style>\n",
       ".list-inline {list-style: none; margin:0; padding: 0}\n",
       ".list-inline>li {display: inline-block}\n",
       ".list-inline>li:not(:last-child)::after {content: \"\\00b7\"; padding: 0 .5ex}\n",
       "</style>\n",
       "<ol class=list-inline><li>'The Avengers'</li><li>'Avengers: Age of Ultron'</li><li>'Avengers: Infinity War'</li></ol>\n"
      ],
      "text/latex": [
       "\\begin{enumerate*}\n",
       "\\item 'The Avengers'\n",
       "\\item 'Avengers: Age of Ultron'\n",
       "\\item 'Avengers: Infinity War'\n",
       "\\end{enumerate*}\n"
      ],
      "text/markdown": [
       "1. 'The Avengers'\n",
       "2. 'Avengers: Age of Ultron'\n",
       "3. 'Avengers: Infinity War'\n",
       "\n",
       "\n"
      ],
      "text/plain": [
       "[1] \"The Avengers\"            \"Avengers: Age of Ultron\"\n",
       "[3] \"Avengers: Infinity War\" "
      ]
     },
     "metadata": {},
     "output_type": "display_data"
    },
    {
     "data": {
      "text/html": [
       "<style>\n",
       ".list-inline {list-style: none; margin:0; padding: 0}\n",
       ".list-inline>li {display: inline-block}\n",
       ".list-inline>li:not(:last-child)::after {content: \"\\00b7\"; padding: 0 .5ex}\n",
       "</style>\n",
       "<ol class=list-inline><li>'The Avengers'</li><li>'Avengers: Age of Ultron'</li><li>'Avengers: Infinity War'</li><li>'Avengers: Endgame'</li></ol>\n"
      ],
      "text/latex": [
       "\\begin{enumerate*}\n",
       "\\item 'The Avengers'\n",
       "\\item 'Avengers: Age of Ultron'\n",
       "\\item 'Avengers: Infinity War'\n",
       "\\item 'Avengers: Endgame'\n",
       "\\end{enumerate*}\n"
      ],
      "text/markdown": [
       "1. 'The Avengers'\n",
       "2. 'Avengers: Age of Ultron'\n",
       "3. 'Avengers: Infinity War'\n",
       "4. 'Avengers: Endgame'\n",
       "\n",
       "\n"
      ],
      "text/plain": [
       "[1] \"The Avengers\"            \"Avengers: Age of Ultron\"\n",
       "[3] \"Avengers: Infinity War\"  \"Avengers: Endgame\"      "
      ]
     },
     "metadata": {},
     "output_type": "display_data"
    }
   ],
   "source": [
    "avengers <- c(\"The Avengers\", \"Avengers: Age of Ultron\", \"Avengers: Infinity War\")\n",
    "avengers\n",
    "avengers <- c(avengers, \"Avengers: Endgame\")\n",
    "avengers"
   ]
  },
  {
   "cell_type": "markdown",
   "metadata": {
    "slideshow": {
     "slide_type": "subslide"
    }
   },
   "source": [
    "## 使用負的索引值刪除向量資料"
   ]
  },
  {
   "cell_type": "code",
   "execution_count": 10,
   "metadata": {},
   "outputs": [
    {
     "data": {
      "text/html": [
       "<style>\n",
       ".list-inline {list-style: none; margin:0; padding: 0}\n",
       ".list-inline>li {display: inline-block}\n",
       ".list-inline>li:not(:last-child)::after {content: \"\\00b7\"; padding: 0 .5ex}\n",
       "</style>\n",
       "<ol class=list-inline><li>'The Avengers'</li><li>'Avengers: Age of Ultron'</li><li>'Avengers: Infinity War'</li><li>'Avengers: Endgame'</li></ol>\n"
      ],
      "text/latex": [
       "\\begin{enumerate*}\n",
       "\\item 'The Avengers'\n",
       "\\item 'Avengers: Age of Ultron'\n",
       "\\item 'Avengers: Infinity War'\n",
       "\\item 'Avengers: Endgame'\n",
       "\\end{enumerate*}\n"
      ],
      "text/markdown": [
       "1. 'The Avengers'\n",
       "2. 'Avengers: Age of Ultron'\n",
       "3. 'Avengers: Infinity War'\n",
       "4. 'Avengers: Endgame'\n",
       "\n",
       "\n"
      ],
      "text/plain": [
       "[1] \"The Avengers\"            \"Avengers: Age of Ultron\"\n",
       "[3] \"Avengers: Infinity War\"  \"Avengers: Endgame\"      "
      ]
     },
     "metadata": {},
     "output_type": "display_data"
    },
    {
     "data": {
      "text/html": [
       "<style>\n",
       ".list-inline {list-style: none; margin:0; padding: 0}\n",
       ".list-inline>li {display: inline-block}\n",
       ".list-inline>li:not(:last-child)::after {content: \"\\00b7\"; padding: 0 .5ex}\n",
       "</style>\n",
       "<ol class=list-inline><li>'The Avengers'</li><li>'Avengers: Infinity War'</li><li>'Avengers: Endgame'</li></ol>\n"
      ],
      "text/latex": [
       "\\begin{enumerate*}\n",
       "\\item 'The Avengers'\n",
       "\\item 'Avengers: Infinity War'\n",
       "\\item 'Avengers: Endgame'\n",
       "\\end{enumerate*}\n"
      ],
      "text/markdown": [
       "1. 'The Avengers'\n",
       "2. 'Avengers: Infinity War'\n",
       "3. 'Avengers: Endgame'\n",
       "\n",
       "\n"
      ],
      "text/plain": [
       "[1] \"The Avengers\"           \"Avengers: Infinity War\" \"Avengers: Endgame\"     "
      ]
     },
     "metadata": {},
     "output_type": "display_data"
    }
   ],
   "source": [
    "avengers <- c(\"The Avengers\", \"Avengers: Age of Ultron\", \"Avengers: Infinity War\", \"Avengers: Endgame\")\n",
    "avengers\n",
    "avengers <- avengers[-2]\n",
    "avengers"
   ]
  },
  {
   "cell_type": "markdown",
   "metadata": {
    "slideshow": {
     "slide_type": "subslide"
    }
   },
   "source": [
    "## 亦可以選擇「不要刪除」的向量資料"
   ]
  },
  {
   "cell_type": "code",
   "execution_count": 11,
   "metadata": {},
   "outputs": [
    {
     "data": {
      "text/html": [
       "<style>\n",
       ".list-inline {list-style: none; margin:0; padding: 0}\n",
       ".list-inline>li {display: inline-block}\n",
       ".list-inline>li:not(:last-child)::after {content: \"\\00b7\"; padding: 0 .5ex}\n",
       "</style>\n",
       "<ol class=list-inline><li>'The Avengers'</li><li>'Avengers: Age of Ultron'</li><li>'Avengers: Infinity War'</li><li>'Avengers: Endgame'</li></ol>\n"
      ],
      "text/latex": [
       "\\begin{enumerate*}\n",
       "\\item 'The Avengers'\n",
       "\\item 'Avengers: Age of Ultron'\n",
       "\\item 'Avengers: Infinity War'\n",
       "\\item 'Avengers: Endgame'\n",
       "\\end{enumerate*}\n"
      ],
      "text/markdown": [
       "1. 'The Avengers'\n",
       "2. 'Avengers: Age of Ultron'\n",
       "3. 'Avengers: Infinity War'\n",
       "4. 'Avengers: Endgame'\n",
       "\n",
       "\n"
      ],
      "text/plain": [
       "[1] \"The Avengers\"            \"Avengers: Age of Ultron\"\n",
       "[3] \"Avengers: Infinity War\"  \"Avengers: Endgame\"      "
      ]
     },
     "metadata": {},
     "output_type": "display_data"
    },
    {
     "data": {
      "text/html": [
       "<style>\n",
       ".list-inline {list-style: none; margin:0; padding: 0}\n",
       ".list-inline>li {display: inline-block}\n",
       ".list-inline>li:not(:last-child)::after {content: \"\\00b7\"; padding: 0 .5ex}\n",
       "</style>\n",
       "<ol class=list-inline><li>'The Avengers'</li><li>'Avengers: Infinity War'</li><li>'Avengers: Endgame'</li></ol>\n"
      ],
      "text/latex": [
       "\\begin{enumerate*}\n",
       "\\item 'The Avengers'\n",
       "\\item 'Avengers: Infinity War'\n",
       "\\item 'Avengers: Endgame'\n",
       "\\end{enumerate*}\n"
      ],
      "text/markdown": [
       "1. 'The Avengers'\n",
       "2. 'Avengers: Infinity War'\n",
       "3. 'Avengers: Endgame'\n",
       "\n",
       "\n"
      ],
      "text/plain": [
       "[1] \"The Avengers\"           \"Avengers: Infinity War\" \"Avengers: Endgame\"     "
      ]
     },
     "metadata": {},
     "output_type": "display_data"
    }
   ],
   "source": [
    "avengers <- c(\"The Avengers\", \"Avengers: Age of Ultron\", \"Avengers: Infinity War\", \"Avengers: Endgame\")\n",
    "avengers\n",
    "avengers <- avengers[c(1, 3, 4)]\n",
    "avengers"
   ]
  },
  {
   "cell_type": "markdown",
   "metadata": {
    "slideshow": {
     "slide_type": "slide"
    }
   },
   "source": [
    "## 向量特性"
   ]
  },
  {
   "cell_type": "markdown",
   "metadata": {
    "slideshow": {
     "slide_type": "subslide"
    }
   },
   "source": [
    "## 向量有這幾個值得注意的特性\n",
    "\n",
    "- 元素級別（element-wise）的運算\n",
    "- 同樣的 `class`\n",
    "- 支援 `logical` 的資料篩選"
   ]
  },
  {
   "cell_type": "markdown",
   "metadata": {
    "slideshow": {
     "slide_type": "subslide"
    }
   },
   "source": [
    "## 元素級別（element-wise）的運算"
   ]
  },
  {
   "cell_type": "code",
   "execution_count": 12,
   "metadata": {},
   "outputs": [
    {
     "data": {
      "text/html": [
       "<style>\n",
       ".list-inline {list-style: none; margin:0; padding: 0}\n",
       ".list-inline>li {display: inline-block}\n",
       ".list-inline>li:not(:last-child)::after {content: \"\\00b7\"; padding: 0 .5ex}\n",
       "</style>\n",
       "<ol class=list-inline><li>FALSE</li><li>FALSE</li><li>TRUE</li><li>TRUE</li></ol>\n"
      ],
      "text/latex": [
       "\\begin{enumerate*}\n",
       "\\item FALSE\n",
       "\\item FALSE\n",
       "\\item TRUE\n",
       "\\item TRUE\n",
       "\\end{enumerate*}\n"
      ],
      "text/markdown": [
       "1. FALSE\n",
       "2. FALSE\n",
       "3. TRUE\n",
       "4. TRUE\n",
       "\n",
       "\n"
      ],
      "text/plain": [
       "[1] FALSE FALSE  TRUE  TRUE"
      ]
     },
     "metadata": {},
     "output_type": "display_data"
    }
   ],
   "source": [
    "avengers_ratings <- c(8.0, 7.3, 8.4, 8.4)\n",
    "avengers_ratings > 8"
   ]
  },
  {
   "cell_type": "markdown",
   "metadata": {
    "slideshow": {
     "slide_type": "subslide"
    }
   },
   "source": [
    "## 同樣的 `class`"
   ]
  },
  {
   "cell_type": "code",
   "execution_count": 13,
   "metadata": {},
   "outputs": [
    {
     "data": {
      "text/html": [
       "'character'"
      ],
      "text/latex": [
       "'character'"
      ],
      "text/markdown": [
       "'character'"
      ],
      "text/plain": [
       "[1] \"character\""
      ]
     },
     "metadata": {},
     "output_type": "display_data"
    },
    {
     "data": {
      "text/html": [
       "<style>\n",
       ".list-inline {list-style: none; margin:0; padding: 0}\n",
       ".list-inline>li {display: inline-block}\n",
       ".list-inline>li:not(:last-child)::after {content: \"\\00b7\"; padding: 0 .5ex}\n",
       "</style>\n",
       "<ol class=list-inline><li>'8.4'</li><li>'Avengers: Endgame'</li></ol>\n"
      ],
      "text/latex": [
       "\\begin{enumerate*}\n",
       "\\item '8.4'\n",
       "\\item 'Avengers: Endgame'\n",
       "\\end{enumerate*}\n"
      ],
      "text/markdown": [
       "1. '8.4'\n",
       "2. 'Avengers: Endgame'\n",
       "\n",
       "\n"
      ],
      "text/plain": [
       "[1] \"8.4\"               \"Avengers: Endgame\""
      ]
     },
     "metadata": {},
     "output_type": "display_data"
    }
   ],
   "source": [
    "endgame <- c(8.4, \"Avengers: Endgame\")\n",
    "class(endgame)\n",
    "endgame"
   ]
  },
  {
   "cell_type": "markdown",
   "metadata": {
    "slideshow": {
     "slide_type": "subslide"
    }
   },
   "source": [
    "## 支援 `logical` 的資料篩選"
   ]
  },
  {
   "cell_type": "code",
   "execution_count": 14,
   "metadata": {},
   "outputs": [
    {
     "data": {
      "text/html": [
       "<style>\n",
       ".list-inline {list-style: none; margin:0; padding: 0}\n",
       ".list-inline>li {display: inline-block}\n",
       ".list-inline>li:not(:last-child)::after {content: \"\\00b7\"; padding: 0 .5ex}\n",
       "</style>\n",
       "<ol class=list-inline><li>FALSE</li><li>FALSE</li><li>TRUE</li><li>TRUE</li></ol>\n"
      ],
      "text/latex": [
       "\\begin{enumerate*}\n",
       "\\item FALSE\n",
       "\\item FALSE\n",
       "\\item TRUE\n",
       "\\item TRUE\n",
       "\\end{enumerate*}\n"
      ],
      "text/markdown": [
       "1. FALSE\n",
       "2. FALSE\n",
       "3. TRUE\n",
       "4. TRUE\n",
       "\n",
       "\n"
      ],
      "text/plain": [
       "[1] FALSE FALSE  TRUE  TRUE"
      ]
     },
     "metadata": {},
     "output_type": "display_data"
    },
    {
     "data": {
      "text/html": [
       "<style>\n",
       ".list-inline {list-style: none; margin:0; padding: 0}\n",
       ".list-inline>li {display: inline-block}\n",
       ".list-inline>li:not(:last-child)::after {content: \"\\00b7\"; padding: 0 .5ex}\n",
       "</style>\n",
       "<ol class=list-inline><li>'Avengers: Infinity War'</li><li>'Avengers: Endgame'</li></ol>\n"
      ],
      "text/latex": [
       "\\begin{enumerate*}\n",
       "\\item 'Avengers: Infinity War'\n",
       "\\item 'Avengers: Endgame'\n",
       "\\end{enumerate*}\n"
      ],
      "text/markdown": [
       "1. 'Avengers: Infinity War'\n",
       "2. 'Avengers: Endgame'\n",
       "\n",
       "\n"
      ],
      "text/plain": [
       "[1] \"Avengers: Infinity War\" \"Avengers: Endgame\"     "
      ]
     },
     "metadata": {},
     "output_type": "display_data"
    }
   ],
   "source": [
    "avengers <- c(\"The Avengers\", \"Avengers: Age of Ultron\", \"Avengers: Infinity War\", \"Avengers: Endgame\")\n",
    "avengers_ratings <- c(8.0, 7.3, 8.4, 8.4)\n",
    "avengers_ratings > 8\n",
    "avengers[avengers_ratings > 8]"
   ]
  }
 ],
 "metadata": {
  "celltoolbar": "Slideshow",
  "kernelspec": {
   "display_name": "R",
   "language": "R",
   "name": "ir403"
  },
  "language_info": {
   "codemirror_mode": "r",
   "file_extension": ".r",
   "mimetype": "text/x-r-source",
   "name": "R",
   "pygments_lexer": "r",
   "version": "4.0.3"
  }
 },
 "nbformat": 4,
 "nbformat_minor": 2
}
