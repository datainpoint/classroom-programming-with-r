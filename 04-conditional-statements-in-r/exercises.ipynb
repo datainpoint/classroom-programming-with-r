{
 "cells": [
  {
   "cell_type": "markdown",
   "metadata": {
    "deletable": false,
    "editable": false
   },
   "source": [
    "# R 程式設計\n",
    "\n",
    "> 條件判斷\n",
    "\n",
    "[數據交點](https://www.datainpoint.com/) | 郭耀仁 <yaojenkuo@datainpoint.com>"
   ]
  },
  {
   "cell_type": "markdown",
   "metadata": {},
   "source": [
    "## 自訂一個函數 `calculate_circle` 能夠將輸入的半徑依照參數 `to` 計算為面積或周長，使用 $\\pi = 3.14$。\n",
    "\n",
    "\\begin{equation}\n",
    "Area = \\pi r^2 \\\\\n",
    "Perimeter = 2 \\pi r \\\\\n",
    "\\text{where} \\; \\pi = 3.14\n",
    "\\end{equation}\n",
    "\n",
    "- 預期輸入：一個數值向量、一個文字向量\n",
    "- 預期輸出：一個文字向量"
   ]
  },
  {
   "cell_type": "code",
   "execution_count": 1,
   "metadata": {},
   "outputs": [],
   "source": [
    "calculate_circle <- function(r, to) {\n",
    "    # calculate_circle(3, to='area')\n",
    "    # 28.26\n",
    "    # calculate_circle(3, to='perimeter')\n",
    "    # 18.84\n",
    "    # calculate_circle(4, to='area')\n",
    "    # 50.24\n",
    "    # calculate_circle(4, to='perimeter')\n",
    "    # 25.12\n",
    "    ### BEGIN SOLUTION\n",
    "    \n",
    "    ### END SOLUTION\n",
    "}"
   ]
  },
  {
   "cell_type": "markdown",
   "metadata": {},
   "source": [
    "## 自訂一個函數 `convert_degree` 能夠將輸入的溫度度數依照參數 `from` 與 `to` 在攝氏與華氏之間轉換。\n",
    "\n",
    "\\begin{equation}\n",
    "Fahrenheit_{(°F)} = Celsius_{(°C)} \\times \\frac{9}{5} + 32 \\\\\n",
    "Celsius_{(°C)} =  (Fahrenheit_{(°F)} - 32) \\times \\frac{5}{9}\n",
    "\\end{equation}\n",
    "\n",
    "- 預期輸入：一個數值向量、兩個文字向量\n",
    "- 預期輸出：一個數值向量"
   ]
  },
  {
   "cell_type": "code",
   "execution_count": 2,
   "metadata": {},
   "outputs": [],
   "source": [
    "convert_degree <- function(x, from, to) {\n",
    "    # convert_degree(100, from='Celsius', to='Fahrenheit')\n",
    "    # 212.0\n",
    "    # convert_degree(0, from='Celsius', to='Fahrenheit')\n",
    "    # 32.0\n",
    "    # convert_degree(212, from='Fahrenheit', to='Celsius')\n",
    "    # 100.0\n",
    "    # convert_degree(32, from='Fahrenheit', to='Celsius')\n",
    "    # 0.0\n",
    "    ### BEGIN SOLUTION\n",
    "    \n",
    "    ### END SOLUTION\n",
    "}"
   ]
  },
  {
   "cell_type": "markdown",
   "metadata": {},
   "source": [
    "## 自訂一個函數 `get_bmi_category` 能夠將輸入的身高（公分）、體重（公斤）換算為 BMI 類別。\n",
    "\n",
    "\\begin{equation}\n",
    "BMI = \\frac{weight_{kg}}{height_{m}^2}\n",
    "\\end{equation}\n",
    "\n",
    "<https://en.wikipedia.org/wiki/Body_mass_index>\n",
    "\n",
    "- 預期輸入：兩個數值向量\n",
    "- 預期輸出：一個文字向量"
   ]
  },
  {
   "cell_type": "code",
   "execution_count": 3,
   "metadata": {},
   "outputs": [],
   "source": [
    "get_bmi_category <- function(height, weight) {\n",
    "    # get_bmi_category(170, 50)\n",
    "    # 'Underweight'\n",
    "    # get_bmi_category(170, 60)\n",
    "    # 'Normal'\n",
    "    # get_bmi_category(206, 113)\n",
    "    # 'Overweight'\n",
    "    # get_bmi_category(216, 147)\n",
    "    # 'Obese'\n",
    "    ### BEGIN SOLUTION\n",
    "    \n",
    "    ### END SOLUTION\n",
    "}"
   ]
  },
  {
   "cell_type": "markdown",
   "metadata": {},
   "source": [
    "## 自訂一個函數 `fizz` 依據是否為 3 的倍數回傳對應文字向量，如果是 3 的倍數輸出 `\"Fizz\"`，否則將輸入的數字直接輸出。\n",
    "\n",
    "- 預期輸入：一個數值向量\n",
    "- 預期輸出：一個文字向量或一個數值向量"
   ]
  },
  {
   "cell_type": "code",
   "execution_count": 4,
   "metadata": {},
   "outputs": [],
   "source": [
    "fizz <- function(x) {\n",
    "    # fizz(3)\n",
    "    # 'Fizz'\n",
    "    # fizz(6)\n",
    "    # 'Fizz'\n",
    "    # fizz(7)\n",
    "    # 7\n",
    "    # fizz(8)\n",
    "    # 8\n",
    "    ### BEGIN SOLUTION\n",
    "    \n",
    "    ### END SOLUTION\n",
    "}"
   ]
  },
  {
   "cell_type": "markdown",
   "metadata": {},
   "source": [
    "## 自訂一個函數 `fizz_buzz` 依據是否為 3、5 或 15 的倍數回傳對應文字向量，如果是 3 的倍數輸出 `\"Fizz\"`，如果是 5 的倍數輸出 `\"Buzz\"`，如果是 15 的倍數輸出 `\"Fizz Buzz\"`，否則將輸入的數字直接輸出。\n",
    "\n",
    "- 預期輸入：一個數值向量\n",
    "- 預期輸出：一個文字向量或一個數值向量"
   ]
  },
  {
   "cell_type": "code",
   "execution_count": 5,
   "metadata": {},
   "outputs": [],
   "source": [
    "fizz_buzz <- function(x) {\n",
    "    # fizz_buzz(3)\n",
    "    # 'Fizz'\n",
    "    # fizz_buzz(5)\n",
    "    # 'Buzz'\n",
    "    # fizz_buzz(15)\n",
    "    # 'Fizz Buzz'\n",
    "    # fizz_buzz(16)\n",
    "    # 16\n",
    "    ### BEGIN SOLUTION\n",
    "    \n",
    "    ### END SOLUTION\n",
    "}"
   ]
  },
  {
   "cell_type": "markdown",
   "metadata": {
    "deletable": false,
    "editable": false
   },
   "source": [
    "## 執行測試\n",
    "\n",
    "Kernel -> Restart & Run All."
   ]
  },
  {
   "cell_type": "code",
   "execution_count": 6,
   "metadata": {
    "deletable": false,
    "editable": false
   },
   "outputs": [
    {
     "name": "stdout",
     "output_type": "stream",
     "text": [
      "── \u001b[1m\u001b[38;5;214mFailure\u001b[39m (<text>:5:9): test_calculate_circle\u001b[22m ───────────────────────────────\n",
      "calculate_circle(3, to = \"area\") not equal to 28.26.\n",
      "target is NULL, current is numeric\n",
      "\n",
      "── \u001b[1m\u001b[38;5;214mFailure\u001b[39m (<text>:6:9): test_calculate_circle\u001b[22m ───────────────────────────────\n",
      "calculate_circle(3, to = \"perimeter\") not equal to 18.84.\n",
      "target is NULL, current is numeric\n",
      "\n",
      "── \u001b[1m\u001b[38;5;214mFailure\u001b[39m (<text>:7:9): test_calculate_circle\u001b[22m ───────────────────────────────\n",
      "calculate_circle(4, to = \"area\") not equal to 50.24.\n",
      "target is NULL, current is numeric\n",
      "\n",
      "── \u001b[1m\u001b[38;5;214mFailure\u001b[39m (<text>:8:9): test_calculate_circle\u001b[22m ───────────────────────────────\n",
      "calculate_circle(4, to = \"perimeter\") not equal to 25.12.\n",
      "target is NULL, current is numeric\n",
      "\n",
      "── \u001b[1m\u001b[38;5;214mFailure\u001b[39m (<text>:15:9): test_convert_degree\u001b[22m ────────────────────────────────\n",
      "convert_degree(100, from = \"Celsius\", to = \"Fahrenheit\") not equal to 212.\n",
      "target is NULL, current is numeric\n",
      "\n",
      "── \u001b[1m\u001b[38;5;214mFailure\u001b[39m (<text>:16:9): test_convert_degree\u001b[22m ────────────────────────────────\n",
      "convert_degree(0, from = \"Celsius\", to = \"Fahrenheit\") not equal to 32.\n",
      "target is NULL, current is numeric\n",
      "\n",
      "── \u001b[1m\u001b[38;5;214mFailure\u001b[39m (<text>:17:9): test_convert_degree\u001b[22m ────────────────────────────────\n",
      "convert_degree(212, from = \"Fahrenheit\", to = \"Celsius\") not equal to 100.\n",
      "target is NULL, current is numeric\n",
      "\n",
      "── \u001b[1m\u001b[38;5;214mFailure\u001b[39m (<text>:18:9): test_convert_degree\u001b[22m ────────────────────────────────\n",
      "convert_degree(32, from = \"Fahrenheit\", to = \"Celsius\") not equal to 0.\n",
      "target is NULL, current is numeric\n",
      "\n",
      "── \u001b[1m\u001b[38;5;214mFailure\u001b[39m (<text>:25:9): test_get_bmi_category\u001b[22m ──────────────────────────────\n",
      "get_bmi_category(170, 50) not equal to \"Underweight\".\n",
      "target is NULL, current is character\n",
      "\n",
      "── \u001b[1m\u001b[38;5;214mFailure\u001b[39m (<text>:26:9): test_get_bmi_category\u001b[22m ──────────────────────────────\n",
      "get_bmi_category(170, 60) not equal to \"Normal\".\n",
      "target is NULL, current is character\n",
      "\n",
      "── \u001b[1m\u001b[38;5;214mFailure\u001b[39m (<text>:27:9): test_get_bmi_category\u001b[22m ──────────────────────────────\n",
      "get_bmi_category(206, 113) not equal to \"Overweight\".\n",
      "target is NULL, current is character\n",
      "\n",
      "── \u001b[1m\u001b[38;5;214mFailure\u001b[39m (<text>:28:9): test_get_bmi_category\u001b[22m ──────────────────────────────\n",
      "get_bmi_category(216, 147) not equal to \"Obese\".\n",
      "target is NULL, current is character\n",
      "\n",
      "── \u001b[1m\u001b[38;5;214mFailure\u001b[39m (<text>:35:9): test_fizz\u001b[22m ──────────────────────────────────────────\n",
      "fizz(3) not equal to \"Fizz\".\n",
      "target is NULL, current is character\n",
      "\n",
      "── \u001b[1m\u001b[38;5;214mFailure\u001b[39m (<text>:36:9): test_fizz\u001b[22m ──────────────────────────────────────────\n",
      "fizz(6) not equal to \"Fizz\".\n",
      "target is NULL, current is character\n",
      "\n",
      "── \u001b[1m\u001b[38;5;214mFailure\u001b[39m (<text>:37:9): test_fizz\u001b[22m ──────────────────────────────────────────\n",
      "fizz(7) not equal to 7.\n",
      "target is NULL, current is numeric\n",
      "\n",
      "── \u001b[1m\u001b[38;5;214mFailure\u001b[39m (<text>:38:9): test_fizz\u001b[22m ──────────────────────────────────────────\n",
      "fizz(8) not equal to 8.\n",
      "target is NULL, current is numeric\n",
      "\n",
      "── \u001b[1m\u001b[38;5;214mFailure\u001b[39m (<text>:45:9): test_fizz\u001b[22m ──────────────────────────────────────────\n",
      "fizz_buzz(3) not equal to \"Fizz\".\n",
      "target is NULL, current is character\n",
      "\n",
      "── \u001b[1m\u001b[38;5;214mFailure\u001b[39m (<text>:46:9): test_fizz\u001b[22m ──────────────────────────────────────────\n",
      "fizz_buzz(5) not equal to \"Buzz\".\n",
      "target is NULL, current is character\n",
      "\n",
      "── \u001b[1m\u001b[38;5;214mFailure\u001b[39m (<text>:47:9): test_fizz\u001b[22m ──────────────────────────────────────────\n",
      "fizz_buzz(15) not equal to \"Fizz Buzz\".\n",
      "target is NULL, current is character\n",
      "\n",
      "── \u001b[1m\u001b[38;5;214mFailure\u001b[39m (<text>:48:9): test_fizz\u001b[22m ──────────────────────────────────────────\n",
      "fizz_buzz(16) not equal to 16.\n",
      "target is NULL, current is numeric\n",
      "\n"
     ]
    }
   ],
   "source": [
    "library(testthat)\n",
    "\n",
    "test_calculate_circle <- tryCatch({\n",
    "    test_that(\"test_calculate_circle\", {\n",
    "        expect_equal(calculate_circle(3, to='area'), 28.26)\n",
    "        expect_equal(calculate_circle(3, to='perimeter'), 18.84)\n",
    "        expect_equal(calculate_circle(4, to='area'), 50.24)\n",
    "        expect_equal(calculate_circle(4, to='perimeter'), 25.12)\n",
    "    })\n",
    "    }, error = function(e) {\n",
    "        FALSE\n",
    "})\n",
    "test_convert_degree <- tryCatch({\n",
    "    test_that(\"test_convert_degree\", {\n",
    "        expect_equal(convert_degree(100, from='Celsius', to='Fahrenheit'), 212.0)\n",
    "        expect_equal(convert_degree(0, from='Celsius', to='Fahrenheit'), 32.0)\n",
    "        expect_equal(convert_degree(212, from='Fahrenheit', to='Celsius'), 100.0)\n",
    "        expect_equal(convert_degree(32, from='Fahrenheit', to='Celsius'), 0.0)\n",
    "    })\n",
    "    }, error = function(e) {\n",
    "        FALSE\n",
    "})\n",
    "test_get_bmi_category <- tryCatch({\n",
    "    test_that(\"test_get_bmi_category\", {\n",
    "        expect_equal(get_bmi_category(170, 50), 'Underweight')\n",
    "        expect_equal(get_bmi_category(170, 60), 'Normal')\n",
    "        expect_equal(get_bmi_category(206, 113), 'Overweight')\n",
    "        expect_equal(get_bmi_category(216, 147), 'Obese')\n",
    "    })\n",
    "    }, error = function(e) {\n",
    "        FALSE\n",
    "})\n",
    "test_fizz <- tryCatch({\n",
    "    test_that(\"test_fizz\", {\n",
    "        expect_equal(fizz(3), 'Fizz')\n",
    "        expect_equal(fizz(6), 'Fizz')\n",
    "        expect_equal(fizz(7), 7)\n",
    "        expect_equal(fizz(8), 8)\n",
    "    })\n",
    "    }, error = function(e) {\n",
    "        FALSE\n",
    "})\n",
    "test_fizz_buzz <- tryCatch({\n",
    "    test_that(\"test_fizz\", {\n",
    "        expect_equal(fizz_buzz(3), 'Fizz')\n",
    "        expect_equal(fizz_buzz(5), 'Buzz')\n",
    "        expect_equal(fizz_buzz(15), 'Fizz Buzz')\n",
    "        expect_equal(fizz_buzz(16), 16)\n",
    "    })\n",
    "    }, error = function(e) {\n",
    "        FALSE\n",
    "})"
   ]
  },
  {
   "cell_type": "code",
   "execution_count": 7,
   "metadata": {
    "deletable": false,
    "editable": false
   },
   "outputs": [
    {
     "data": {
      "text/html": [
       "'在 5 題中，您總共答對了 0 題。'"
      ],
      "text/latex": [
       "'在 5 題中，您總共答對了 0 題。'"
      ],
      "text/markdown": [
       "'在 5 題中，您總共答對了 0 題。'"
      ],
      "text/plain": [
       "[1] \"在 5 題中，您總共答對了 0 題。\""
      ]
     },
     "metadata": {},
     "output_type": "display_data"
    }
   ],
   "source": [
    "all_tests <- c(test_calculate_circle, test_convert_degree, test_get_bmi_category, test_fizz, test_fizz_buzz)\n",
    "passed_tests <- sum(all_tests)\n",
    "sprintf(\"在 %s 題中，您總共答對了 %s 題。\", length(all_tests), passed_tests)"
   ]
  }
 ],
 "metadata": {
  "kernelspec": {
   "display_name": "R",
   "language": "R",
   "name": "ir403"
  },
  "language_info": {
   "codemirror_mode": "r",
   "file_extension": ".r",
   "mimetype": "text/x-r-source",
   "name": "R",
   "pygments_lexer": "r",
   "version": "4.0.3"
  }
 },
 "nbformat": 4,
 "nbformat_minor": 4
}
