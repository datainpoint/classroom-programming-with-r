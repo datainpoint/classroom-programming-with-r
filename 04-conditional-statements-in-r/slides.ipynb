{
 "cells": [
  {
   "cell_type": "markdown",
   "metadata": {
    "slideshow": {
     "slide_type": "slide"
    }
   },
   "source": [
    "# R 程式設計\n",
    "\n",
    "> 條件判斷\n",
    "\n",
    "[數據交點](https://www.datainpoint.com/) | 郭耀仁 <yaojenkuo@datainpoint.com>"
   ]
  },
  {
   "cell_type": "markdown",
   "metadata": {
    "slideshow": {
     "slide_type": "subslide"
    }
   },
   "source": [
    "> Write a program that prints the numbers from 1 to 100. But for multiples of three print “Fizz” instead of the number and for the multiples of five print “Buzz”. For numbers which are multiples of both three and five print “FizzBuzz”.\n",
    ">\n",
    "> Fizz-Buzz Test"
   ]
  },
  {
   "cell_type": "markdown",
   "metadata": {
    "slideshow": {
     "slide_type": "slide"
    }
   },
   "source": [
    "## `if` 條件判斷"
   ]
  },
  {
   "cell_type": "markdown",
   "metadata": {
    "slideshow": {
     "slide_type": "subslide"
    }
   },
   "source": [
    "## `if` 做單一程式分支的區塊\n",
    "\n",
    "- `if` 保留字\n",
    "- `CONDITION` 是一段能產生邏輯值向量的敘述"
   ]
  },
  {
   "cell_type": "markdown",
   "metadata": {
    "slideshow": {
     "slide_type": "-"
    }
   },
   "source": [
    "```r\n",
    "# single branch\n",
    "if (CONDITION) {\n",
    "  # do something when CONDITION is evaluated as TRUE\n",
    "}\n",
    "```"
   ]
  },
  {
   "cell_type": "markdown",
   "metadata": {
    "slideshow": {
     "slide_type": "subslide"
    }
   },
   "source": [
    "## 如果一個整數除以 2 的餘數為 1 就是奇數，否則是偶數"
   ]
  },
  {
   "cell_type": "code",
   "execution_count": 2,
   "metadata": {
    "slideshow": {
     "slide_type": "-"
    }
   },
   "outputs": [
    {
     "data": {
      "text/html": [
       "'5是奇數'"
      ],
      "text/latex": [
       "'5是奇數'"
      ],
      "text/markdown": [
       "'5是奇數'"
      ],
      "text/plain": [
       "[1] \"5是奇數\""
      ]
     },
     "metadata": {},
     "output_type": "display_data"
    }
   ],
   "source": [
    "an_integer <- 5\n",
    "if (an_integer %% 2 == 1) {\n",
    "    sprintf(\"%s是奇數\", an_integer)\n",
    "}\n",
    "if (an_integer %% 2 == 0) {\n",
    "    sprintf(\"%s是偶數\", an_integer)\n",
    "}"
   ]
  },
  {
   "cell_type": "code",
   "execution_count": 3,
   "metadata": {
    "slideshow": {
     "slide_type": "subslide"
    }
   },
   "outputs": [
    {
     "data": {
      "text/html": [
       "'0是偶數'"
      ],
      "text/latex": [
       "'0是偶數'"
      ],
      "text/markdown": [
       "'0是偶數'"
      ],
      "text/plain": [
       "[1] \"0是偶數\""
      ]
     },
     "metadata": {},
     "output_type": "display_data"
    }
   ],
   "source": [
    "an_integer <- 0\n",
    "if (an_integer %% 2 == 1) {\n",
    "    sprintf(\"%s是奇數\", an_integer)\n",
    "}\n",
    "if (an_integer %% 2 == 0) {\n",
    "    sprintf(\"%s是偶數\", an_integer)\n",
    "}"
   ]
  },
  {
   "cell_type": "markdown",
   "metadata": {
    "slideshow": {
     "slide_type": "subslide"
    }
   },
   "source": [
    "## `if else` 做兩個程式分支的區塊\n",
    "\n",
    "- `if`, `else` 保留字\n",
    "- `CONDITION` 是一段能產生邏輯值向量的敘述"
   ]
  },
  {
   "cell_type": "markdown",
   "metadata": {
    "slideshow": {
     "slide_type": "-"
    }
   },
   "source": [
    "```r\n",
    "# 2 branches\n",
    "if (CONDITION) {\n",
    "  # do something when CONDITION is evaluated as TRUE\n",
    "} else {\n",
    "  # do something when CONDITION is evaluated as FALSE\n",
    "}\n",
    "```"
   ]
  },
  {
   "cell_type": "markdown",
   "metadata": {
    "slideshow": {
     "slide_type": "subslide"
    }
   },
   "source": [
    "## 如果一個整數除以 2 的餘數為 1 就是奇數，否則是偶數"
   ]
  },
  {
   "cell_type": "code",
   "execution_count": 4,
   "metadata": {},
   "outputs": [
    {
     "data": {
      "text/html": [
       "'5是奇數'"
      ],
      "text/latex": [
       "'5是奇數'"
      ],
      "text/markdown": [
       "'5是奇數'"
      ],
      "text/plain": [
       "[1] \"5是奇數\""
      ]
     },
     "metadata": {},
     "output_type": "display_data"
    }
   ],
   "source": [
    "an_integer <- 5\n",
    "if (an_integer %% 2 == 1) {\n",
    "    sprintf(\"%s是奇數\", an_integer)\n",
    "} else {\n",
    "    sprintf(\"%s是偶數\", an_integer)\n",
    "}"
   ]
  },
  {
   "cell_type": "code",
   "execution_count": 5,
   "metadata": {
    "slideshow": {
     "slide_type": "subslide"
    }
   },
   "outputs": [
    {
     "data": {
      "text/html": [
       "'0是偶數'"
      ],
      "text/latex": [
       "'0是偶數'"
      ],
      "text/markdown": [
       "'0是偶數'"
      ],
      "text/plain": [
       "[1] \"0是偶數\""
      ]
     },
     "metadata": {},
     "output_type": "display_data"
    }
   ],
   "source": [
    "an_integer <- 0\n",
    "if (an_integer %% 2 == 1) {\n",
    "    sprintf(\"%s是奇數\", an_integer)\n",
    "} else {\n",
    "    sprintf(\"%s是偶數\", an_integer)\n",
    "}"
   ]
  },
  {
   "cell_type": "markdown",
   "metadata": {
    "slideshow": {
     "slide_type": "subslide"
    }
   },
   "source": [
    "## `if-else if-else` 做三個以上程式分支的區塊\n",
    "\n",
    "- `if`, `else if`, `else` 保留字\n",
    "- `CONDITION_1`、`CONDITION_2` 皆是能產生邏輯值向量的敘述"
   ]
  },
  {
   "cell_type": "markdown",
   "metadata": {
    "slideshow": {
     "slide_type": "-"
    }
   },
   "source": [
    "```r\n",
    "# 3 branches\n",
    "if (CONDITION_1) {\n",
    "  # do something when CONDITION_1 is evaluated as TRUE\n",
    "} else if (CONDITION_2) {\n",
    "  # do something when CONDITION_2 is evaluated as TRUE\n",
    "} else {\n",
    "  # do something when CONDITION_1 & CONDITION_2 are both evaluated as FALSE\n",
    "}\n",
    "```"
   ]
  },
  {
   "cell_type": "markdown",
   "metadata": {
    "slideshow": {
     "slide_type": "subslide"
    }
   },
   "source": [
    "## 一個整數除以 3 的餘數可能為 0、1 或 2"
   ]
  },
  {
   "cell_type": "code",
   "execution_count": 7,
   "metadata": {},
   "outputs": [
    {
     "data": {
      "text/html": [
       "'3除以3的餘數為0'"
      ],
      "text/latex": [
       "'3除以3的餘數為0'"
      ],
      "text/markdown": [
       "'3除以3的餘數為0'"
      ],
      "text/plain": [
       "[1] \"3除以3的餘數為0\""
      ]
     },
     "metadata": {},
     "output_type": "display_data"
    }
   ],
   "source": [
    "an_integer <- 3\n",
    "if (an_integer %% 3 == 0) {\n",
    "    sprintf(\"%s除以3的餘數為0\", an_integer)\n",
    "} else if (an_integer %% 3 == 1) {\n",
    "    sprintf(\"%s除以3的餘數為1\", an_integer)\n",
    "} else {\n",
    "    sprintf(\"%s除以3的餘數為2\", an_integer)\n",
    "}"
   ]
  },
  {
   "cell_type": "code",
   "execution_count": 8,
   "metadata": {
    "slideshow": {
     "slide_type": "subslide"
    }
   },
   "outputs": [
    {
     "data": {
      "text/html": [
       "'4除以3的餘數為1'"
      ],
      "text/latex": [
       "'4除以3的餘數為1'"
      ],
      "text/markdown": [
       "'4除以3的餘數為1'"
      ],
      "text/plain": [
       "[1] \"4除以3的餘數為1\""
      ]
     },
     "metadata": {},
     "output_type": "display_data"
    }
   ],
   "source": [
    "an_integer <- 4\n",
    "if (an_integer %% 3 == 0) {\n",
    "    sprintf(\"%s除以3的餘數為0\", an_integer)\n",
    "} else if (an_integer %% 3 == 1) {\n",
    "    sprintf(\"%s除以3的餘數為1\", an_integer)\n",
    "} else {\n",
    "    sprintf(\"%s除以3的餘數為2\", an_integer)\n",
    "}"
   ]
  },
  {
   "cell_type": "code",
   "execution_count": 9,
   "metadata": {
    "slideshow": {
     "slide_type": "subslide"
    }
   },
   "outputs": [
    {
     "data": {
      "text/html": [
       "'5除以3的餘數為2'"
      ],
      "text/latex": [
       "'5除以3的餘數為2'"
      ],
      "text/markdown": [
       "'5除以3的餘數為2'"
      ],
      "text/plain": [
       "[1] \"5除以3的餘數為2\""
      ]
     },
     "metadata": {},
     "output_type": "display_data"
    }
   ],
   "source": [
    "an_integer <- 5\n",
    "if (an_integer %% 3 == 0) {\n",
    "    sprintf(\"%s除以3的餘數為0\", an_integer)\n",
    "} else if (an_integer %% 3 == 1) {\n",
    "    sprintf(\"%s除以3的餘數為1\", an_integer)\n",
    "} else {\n",
    "    sprintf(\"%s除以3的餘數為2\", an_integer)\n",
    "}"
   ]
  }
 ],
 "metadata": {
  "celltoolbar": "Slideshow",
  "kernelspec": {
   "display_name": "R",
   "language": "R",
   "name": "ir403"
  },
  "language_info": {
   "codemirror_mode": "r",
   "file_extension": ".r",
   "mimetype": "text/x-r-source",
   "name": "R",
   "pygments_lexer": "r",
   "version": "4.0.3"
  }
 },
 "nbformat": 4,
 "nbformat_minor": 2
}
