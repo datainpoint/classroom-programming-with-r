{
 "cells": [
  {
   "cell_type": "markdown",
   "metadata": {
    "deletable": false,
    "editable": false
   },
   "source": [
    "# R 程式設計\n",
    "\n",
    "> 迭代資料\n",
    "\n",
    "[數據交點](https://www.datainpoint.com/) | 郭耀仁 <yaojenkuo@datainpoint.com>"
   ]
  },
  {
   "cell_type": "markdown",
   "metadata": {},
   "source": [
    "## 自訂一個函式 `filter_even_and_sum` 能將介於 `a` 與 `b` 之間的偶數挑出來加總後輸出，其中 $a \\leq b$。\n",
    "\n",
    "- 預期輸入：兩個 `numeric`\n",
    "- 預期輸出：一個 `numeric`"
   ]
  },
  {
   "cell_type": "code",
   "execution_count": 1,
   "metadata": {},
   "outputs": [],
   "source": [
    "filter_even_and_sum <- function(a, b) {\n",
    "    # filter_even_and_sum(2, 4)\n",
    "    # 6\n",
    "    # filter_even_and_sum(1, 5)\n",
    "    # 6\n",
    "    # filter_even_and_sum(2, 10)\n",
    "    # 30\n",
    "    # filter_even_and_sum(1, 11)\n",
    "    # 30\n",
    "    ### BEGIN SOLUTION\n",
    "    \n",
    "    ### END SOLUTION\n",
    "}"
   ]
  },
  {
   "cell_type": "markdown",
   "metadata": {},
   "source": [
    "## 自訂一個函式 `filter_negative_and_sum` 能將 `list` 中的負數挑出來加總後輸出。\n",
    "\n",
    "- 預期輸入：一個 `list`\n",
    "- 預期輸出：一個 `numeric`"
   ]
  },
  {
   "cell_type": "code",
   "execution_count": 2,
   "metadata": {},
   "outputs": [],
   "source": [
    "filter_negative_and_sum <- function(x) {\n",
    "    # filter_negative_and_sum(list(-5, 5, -6, 6))\n",
    "    # -11\n",
    "    # filter_negative_and_sum(list(-5,-5, -6, -6))\n",
    "    # -22\n",
    "    # filter_negative_and_sum(list(5, 5, 6, 6))\n",
    "    # 0\n",
    "    # filter_negative_and_sum(list(-5, -5, 6, 6))\n",
    "    # -10\n",
    "    # filter_negative_and_sum(list(5, 5, -6, -6))\n",
    "    # -12\n",
    "    ### BEGIN SOLUTION\n",
    "    \n",
    "    ### END SOLUTION\n",
    "}"
   ]
  },
  {
   "cell_type": "markdown",
   "metadata": {},
   "source": [
    "## 自訂一個函式 `get_factors` 能夠輸出一個正整數的所有因數。\n",
    "\n",
    "- 預期輸入：一個 `numeric`\n",
    "- 預期輸出：一個 `numeric`"
   ]
  },
  {
   "cell_type": "code",
   "execution_count": 3,
   "metadata": {},
   "outputs": [],
   "source": [
    "get_factors <- function(x) {\n",
    "    # get_factors(1)\n",
    "    # 1\n",
    "    # get_factors(2)\n",
    "    # 1 2\n",
    "    # get_factors(3)\n",
    "    # 1 3\n",
    "    # get_factors(4)\n",
    "    # 1 2 4\n",
    "    # get_factors(5)\n",
    "    # 1 5\n",
    "    ### BEGIN SOLUTION\n",
    "    \n",
    "    ### END SOLUTION\n",
    "}"
   ]
  },
  {
   "cell_type": "markdown",
   "metadata": {},
   "source": [
    "## 自訂一個函式 `is_prime` 能夠判斷輸入的正整數是否為質數（恰好有兩個因數 1 與自身的正整數）。\n",
    "\n",
    "- 預期輸入：一個 `numeric`\n",
    "- 預期輸出：一個 `logical`"
   ]
  },
  {
   "cell_type": "code",
   "execution_count": 4,
   "metadata": {},
   "outputs": [],
   "source": [
    "is_prime <- function(x) {\n",
    "    # is_prime(1)\n",
    "    # FALSE\n",
    "    # is_prime(2)\n",
    "    # TRUE\n",
    "    # is_prime(3)\n",
    "    # TRUE\n",
    "    # is_prime(4)\n",
    "    # FALSE\n",
    "    # is_prime(5)\n",
    "    # TRUE\n",
    "    ### BEGIN SOLUTION\n",
    "    \n",
    "    ### END SOLUTION\n",
    "}"
   ]
  },
  {
   "cell_type": "markdown",
   "metadata": {},
   "source": [
    "## 自訂一個函式 `uppercase_firstname` 能夠將輸入人名轉換為大寫輸出。\n",
    "\n",
    "提示：本題可能需要使用到 `strsplit` 與 `toupper` 函式。\n",
    "\n",
    "- 預期輸入：一個 `character`\n",
    "- 預期輸出：一個 `character`"
   ]
  },
  {
   "cell_type": "code",
   "execution_count": 5,
   "metadata": {},
   "outputs": [],
   "source": [
    "uppercase_firstname <- function(x) {\n",
    "    # uppercase_firstname('Luke Skywalker')\n",
    "    # 'LUKE'\n",
    "    # uppercase_firstname('Anakin Skywalker')\n",
    "    # 'ANAKIN'\n",
    "    # uppercase_firstname(c('Luke Skywalker', 'Anakin Skywalker'))\n",
    "    # 'LUKE' 'ANAKIN'\n",
    "    # uppercase_firstname(c('Luke Skywalker', 'Anakin Skywalker', 'Darth Vadar'))\n",
    "    # 'LUKE' 'ANAKIN' 'DARTH'\n",
    "    ### BEGIN SOLUTION\n",
    "    \n",
    "    ### END SOLUTION\n",
    "}"
   ]
  },
  {
   "cell_type": "markdown",
   "metadata": {
    "deletable": false,
    "editable": false
   },
   "source": [
    "## 執行測試\n",
    "\n",
    "Kernel -> Restart & Run All."
   ]
  },
  {
   "cell_type": "code",
   "execution_count": 6,
   "metadata": {
    "deletable": false,
    "editable": false
   },
   "outputs": [
    {
     "name": "stdout",
     "output_type": "stream",
     "text": [
      "── \u001b[1m\u001b[38;5;214mFailure\u001b[39m (<text>:5:9): test_filter_even_and_sum\u001b[22m ────────────────────────────\n",
      "filter_even_and_sum(2, 4) not equal to 6.\n",
      "target is NULL, current is numeric\n",
      "\n",
      "── \u001b[1m\u001b[38;5;214mFailure\u001b[39m (<text>:6:9): test_filter_even_and_sum\u001b[22m ────────────────────────────\n",
      "filter_even_and_sum(1, 5) not equal to 6.\n",
      "target is NULL, current is numeric\n",
      "\n",
      "── \u001b[1m\u001b[38;5;214mFailure\u001b[39m (<text>:7:9): test_filter_even_and_sum\u001b[22m ────────────────────────────\n",
      "filter_even_and_sum(2, 10) not equal to 30.\n",
      "target is NULL, current is numeric\n",
      "\n",
      "── \u001b[1m\u001b[38;5;214mFailure\u001b[39m (<text>:8:9): test_filter_even_and_sum\u001b[22m ────────────────────────────\n",
      "filter_even_and_sum(1, 11) not equal to 30.\n",
      "target is NULL, current is numeric\n",
      "\n",
      "── \u001b[1m\u001b[38;5;214mFailure\u001b[39m (<text>:16:9): test_filter_negative_and_sum\u001b[22m ───────────────────────\n",
      "filter_negative_and_sum(list(-5, 5, -6, 6)) not equal to -11.\n",
      "target is NULL, current is numeric\n",
      "\n",
      "── \u001b[1m\u001b[38;5;214mFailure\u001b[39m (<text>:17:9): test_filter_negative_and_sum\u001b[22m ───────────────────────\n",
      "filter_negative_and_sum(list(-5, -5, -6, -6)) not equal to -22.\n",
      "target is NULL, current is numeric\n",
      "\n",
      "── \u001b[1m\u001b[38;5;214mFailure\u001b[39m (<text>:18:9): test_filter_negative_and_sum\u001b[22m ───────────────────────\n",
      "filter_negative_and_sum(list(5, 5, 6, 6)) not equal to 0.\n",
      "target is NULL, current is numeric\n",
      "\n",
      "── \u001b[1m\u001b[38;5;214mFailure\u001b[39m (<text>:19:9): test_filter_negative_and_sum\u001b[22m ───────────────────────\n",
      "filter_negative_and_sum(list(-5, -5, 6, 6)) not equal to -10.\n",
      "target is NULL, current is numeric\n",
      "\n",
      "── \u001b[1m\u001b[38;5;214mFailure\u001b[39m (<text>:20:9): test_filter_negative_and_sum\u001b[22m ───────────────────────\n",
      "filter_negative_and_sum(list(5, 5, -6, -6)) not equal to -12.\n",
      "target is NULL, current is numeric\n",
      "\n",
      "── \u001b[1m\u001b[38;5;214mFailure\u001b[39m (<text>:27:9): test_get_factors\u001b[22m ───────────────────────────────────\n",
      "get_factors(1) not equal to 1.\n",
      "target is NULL, current is numeric\n",
      "\n",
      "── \u001b[1m\u001b[38;5;214mFailure\u001b[39m (<text>:28:9): test_get_factors\u001b[22m ───────────────────────────────────\n",
      "get_factors(2) not equal to c(1, 2).\n",
      "target is NULL, current is numeric\n",
      "\n",
      "── \u001b[1m\u001b[38;5;214mFailure\u001b[39m (<text>:29:9): test_get_factors\u001b[22m ───────────────────────────────────\n",
      "get_factors(3) not equal to c(1, 3).\n",
      "target is NULL, current is numeric\n",
      "\n",
      "── \u001b[1m\u001b[38;5;214mFailure\u001b[39m (<text>:30:9): test_get_factors\u001b[22m ───────────────────────────────────\n",
      "get_factors(4) not equal to c(1, 2, 4).\n",
      "target is NULL, current is numeric\n",
      "\n",
      "── \u001b[1m\u001b[38;5;214mFailure\u001b[39m (<text>:31:9): test_get_factors\u001b[22m ───────────────────────────────────\n",
      "get_factors(5) not equal to c(1, 5).\n",
      "target is NULL, current is numeric\n",
      "\n",
      "── \u001b[1m\u001b[38;5;214mFailure\u001b[39m (<text>:38:9): test_is_prime\u001b[22m ──────────────────────────────────────\n",
      "is_prime(1) is not FALSE\n",
      "\n",
      "`actual` is \u001b[32mNULL\u001b[39m\n",
      "`expected` is \u001b[32ma logical vector\u001b[39m (FALSE)\n",
      "\n",
      "── \u001b[1m\u001b[38;5;214mFailure\u001b[39m (<text>:39:9): test_is_prime\u001b[22m ──────────────────────────────────────\n",
      "is_prime(2) is not TRUE\n",
      "\n",
      "`actual` is \u001b[32mNULL\u001b[39m\n",
      "`expected` is \u001b[32ma logical vector\u001b[39m (TRUE)\n",
      "\n",
      "── \u001b[1m\u001b[38;5;214mFailure\u001b[39m (<text>:40:9): test_is_prime\u001b[22m ──────────────────────────────────────\n",
      "is_prime(3) is not TRUE\n",
      "\n",
      "`actual` is \u001b[32mNULL\u001b[39m\n",
      "`expected` is \u001b[32ma logical vector\u001b[39m (TRUE)\n",
      "\n",
      "── \u001b[1m\u001b[38;5;214mFailure\u001b[39m (<text>:41:9): test_is_prime\u001b[22m ──────────────────────────────────────\n",
      "is_prime(4) is not FALSE\n",
      "\n",
      "`actual` is \u001b[32mNULL\u001b[39m\n",
      "`expected` is \u001b[32ma logical vector\u001b[39m (FALSE)\n",
      "\n",
      "── \u001b[1m\u001b[38;5;214mFailure\u001b[39m (<text>:42:9): test_is_prime\u001b[22m ──────────────────────────────────────\n",
      "is_prime(5) is not TRUE\n",
      "\n",
      "`actual` is \u001b[32mNULL\u001b[39m\n",
      "`expected` is \u001b[32ma logical vector\u001b[39m (TRUE)\n",
      "\n",
      "── \u001b[1m\u001b[38;5;214mFailure\u001b[39m (<text>:49:9): test_uppercase_firstname\u001b[22m ───────────────────────────\n",
      "uppercase_firstname(\"Luke Skywalker\") not equal to \"LUKE\".\n",
      "target is NULL, current is character\n",
      "\n",
      "── \u001b[1m\u001b[38;5;214mFailure\u001b[39m (<text>:50:9): test_uppercase_firstname\u001b[22m ───────────────────────────\n",
      "uppercase_firstname(\"Anakin Skywalker\") not equal to \"ANAKIN\".\n",
      "target is NULL, current is character\n",
      "\n",
      "── \u001b[1m\u001b[38;5;214mFailure\u001b[39m (<text>:51:9): test_uppercase_firstname\u001b[22m ───────────────────────────\n",
      "uppercase_firstname(c(\"Luke Skywalker\", \"Anakin Skywalker\")) not equal to c(\"LUKE\", \"ANAKIN\").\n",
      "target is NULL, current is character\n",
      "\n",
      "── \u001b[1m\u001b[38;5;214mFailure\u001b[39m (<text>:52:9): test_uppercase_firstname\u001b[22m ───────────────────────────\n",
      "uppercase_firstname(c(\"Luke Skywalker\", \"Anakin Skywalker\", \"Darth Vadar\")) not equal to c(\"LUKE\", \"ANAKIN\", \"DARTH\").\n",
      "target is NULL, current is character\n",
      "\n"
     ]
    }
   ],
   "source": [
    "library(testthat)\n",
    "\n",
    "test_filter_even_and_sum <- tryCatch({\n",
    "    test_that(\"test_filter_even_and_sum\", {\n",
    "        expect_equal(filter_even_and_sum(2, 4), 6)\n",
    "        expect_equal(filter_even_and_sum(1, 5), 6)\n",
    "        expect_equal(filter_even_and_sum(2, 10), 30)\n",
    "        expect_equal(filter_even_and_sum(1, 11), 30)\n",
    "    })\n",
    "    }, error = function(e) {\n",
    "        FALSE\n",
    "})\n",
    "\n",
    "test_filter_negative_and_sum <- tryCatch({\n",
    "    test_that(\"test_filter_negative_and_sum\", {\n",
    "        expect_equal(filter_negative_and_sum(list(-5, 5, -6, 6)), -11)\n",
    "        expect_equal(filter_negative_and_sum(list(-5,-5, -6, -6)), -22)\n",
    "        expect_equal(filter_negative_and_sum(list(5, 5, 6, 6)), 0)\n",
    "        expect_equal(filter_negative_and_sum(list(-5, -5, 6, 6)), -10)\n",
    "        expect_equal(filter_negative_and_sum(list(5, 5, -6, -6)), -12)\n",
    "    })\n",
    "    }, error = function(e) {\n",
    "        FALSE\n",
    "})\n",
    "test_get_factors <- tryCatch({\n",
    "    test_that(\"test_get_factors\", {\n",
    "        expect_equal(get_factors(1), 1)\n",
    "        expect_equal(get_factors(2), c(1, 2))\n",
    "        expect_equal(get_factors(3), c(1, 3))\n",
    "        expect_equal(get_factors(4), c(1, 2, 4))\n",
    "        expect_equal(get_factors(5), c(1, 5))\n",
    "    })\n",
    "    }, error = function(e) {\n",
    "        FALSE\n",
    "})\n",
    "test_is_prime <- tryCatch({\n",
    "    test_that(\"test_is_prime\", {\n",
    "        expect_false(is_prime(1))\n",
    "        expect_true(is_prime(2))\n",
    "        expect_true(is_prime(3))\n",
    "        expect_false(is_prime(4))\n",
    "        expect_true(is_prime(5))\n",
    "    })\n",
    "    }, error = function(e) {\n",
    "        FALSE\n",
    "})\n",
    "test_uppercase_firstname <- tryCatch({\n",
    "    test_that(\"test_uppercase_firstname\", {\n",
    "        expect_equal(uppercase_firstname('Luke Skywalker'), 'LUKE')\n",
    "        expect_equal(uppercase_firstname('Anakin Skywalker'), 'ANAKIN')\n",
    "        expect_equal(uppercase_firstname(c('Luke Skywalker', 'Anakin Skywalker')), c('LUKE', 'ANAKIN'))\n",
    "        expect_equal(uppercase_firstname(c('Luke Skywalker', 'Anakin Skywalker', 'Darth Vadar')), c('LUKE', 'ANAKIN', 'DARTH'))\n",
    "    })\n",
    "    }, error = function(e) {\n",
    "        FALSE\n",
    "})"
   ]
  },
  {
   "cell_type": "code",
   "execution_count": 7,
   "metadata": {
    "deletable": false,
    "editable": false
   },
   "outputs": [
    {
     "data": {
      "text/html": [
       "'在 5 題中，您總共答對了 0 題。'"
      ],
      "text/latex": [
       "'在 5 題中，您總共答對了 0 題。'"
      ],
      "text/markdown": [
       "'在 5 題中，您總共答對了 0 題。'"
      ],
      "text/plain": [
       "[1] \"在 5 題中，您總共答對了 0 題。\""
      ]
     },
     "metadata": {},
     "output_type": "display_data"
    }
   ],
   "source": [
    "all_tests <- c(test_filter_even_and_sum, test_filter_negative_and_sum, test_get_factors, test_is_prime, test_uppercase_firstname)\n",
    "passed_tests <- sum(all_tests)\n",
    "sprintf(\"在 %s 題中，您總共答對了 %s 題。\", length(all_tests), passed_tests)"
   ]
  }
 ],
 "metadata": {
  "kernelspec": {
   "display_name": "R",
   "language": "R",
   "name": "ir403"
  },
  "language_info": {
   "codemirror_mode": "r",
   "file_extension": ".r",
   "mimetype": "text/x-r-source",
   "name": "R",
   "pygments_lexer": "r",
   "version": "4.0.3"
  }
 },
 "nbformat": 4,
 "nbformat_minor": 4
}
