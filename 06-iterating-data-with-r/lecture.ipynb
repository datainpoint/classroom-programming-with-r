{
 "cells": [
  {
   "cell_type": "markdown",
   "metadata": {
    "slideshow": {
     "slide_type": "slide"
    }
   },
   "source": [
    "# R 程式設計\n",
    "\n",
    "> 迭代資料\n",
    "\n",
    "[數據交點](https://www.datainpoint.com/) | 郭耀仁 <yaojenkuo@datainpoint.com>"
   ]
  },
  {
   "cell_type": "markdown",
   "metadata": {
    "slideshow": {
     "slide_type": "subslide"
    }
   },
   "source": [
    "> When you’ve given the same in-person advice 3 times, write a blog post.\n",
    ">\n",
    "> David Robinson"
   ]
  },
  {
   "cell_type": "markdown",
   "metadata": {
    "slideshow": {
     "slide_type": "subslide"
    }
   },
   "source": [
    "## 迭代\n",
    "\n",
    "> 程式語言中用來解決需要反覆執行、大量手動複製貼上程式碼的語法結構。"
   ]
  },
  {
   "cell_type": "markdown",
   "metadata": {
    "slideshow": {
     "slide_type": "subslide"
    }
   },
   "source": [
    "## 迭代能夠幫我們將資料結構中的資料一筆一筆取出來\n",
    "\n",
    "- `while` 迴圈\n",
    "- `for` 迴圈"
   ]
  },
  {
   "cell_type": "markdown",
   "metadata": {
    "slideshow": {
     "slide_type": "subslide"
    }
   },
   "source": [
    "## 組成迴圈的三個要件\n",
    "\n",
    "- 起始值（start）：迭代資料的起點在哪裡？\n",
    "- 終止值（stop）：迭代資料的終點在哪裡？\n",
    "- 間隔（step）：從起點移動到終點的步幅為多少？"
   ]
  },
  {
   "cell_type": "markdown",
   "metadata": {
    "slideshow": {
     "slide_type": "subslide"
    }
   },
   "source": [
    "## `while` 迴圈的程式區塊\n",
    "\n",
    "- 保留字 `while`\n",
    "- 起始值（start）\n",
    "- 終止值（stop）：被評估為邏輯值向量的敘述 `CONDITION`\n",
    "- 間隔（step）"
   ]
  },
  {
   "cell_type": "markdown",
   "metadata": {
    "slideshow": {
     "slide_type": "subslide"
    }
   },
   "source": [
    "```r\n",
    "i <- start # start\n",
    "while (CONDITION) {  # stop\n",
    "  # Codes written here will be ran repeatedly\n",
    "  # until EXPR is evaluated as FALSE\n",
    "  i <- i + step # step\n",
    "}\n",
    "```"
   ]
  },
  {
   "cell_type": "markdown",
   "metadata": {
    "slideshow": {
     "slide_type": "subslide"
    }
   },
   "source": [
    "## `for` 迴圈的程式區塊\n",
    "\n",
    "- 保留字 `for` 與 `in`\n",
    "- ITERATOR 迭代子\n",
    "- ITERABLE 可迭代的物件（指派了 start、stop 與 step）\n",
    "- 重複任務"
   ]
  },
  {
   "cell_type": "markdown",
   "metadata": {
    "slideshow": {
     "slide_type": "subslide"
    }
   },
   "source": [
    "```r\n",
    "for (i in ITERABLE) { # start/stop/step\n",
    "  # Codes written here will be ran repeatedly\n",
    "  # until i reaches the end of ITERABLE\n",
    "}\n",
    "```"
   ]
  },
  {
   "cell_type": "markdown",
   "metadata": {
    "slideshow": {
     "slide_type": "subslide"
    }
   },
   "source": [
    "## 常見的迴圈任務\n",
    "\n",
    "- `print()`\n",
    "- 加總（Summation）\n",
    "- 計數（Counter）\n",
    "- 乘積（Product）\n",
    "- 合併（Combine）"
   ]
  },
  {
   "cell_type": "markdown",
   "metadata": {
    "slideshow": {
     "slide_type": "subslide"
    }
   },
   "source": [
    "## 嚴格說來，如果我們面對的是向量，多數的任務不需要撰寫迴圈\n",
    "\n",
    "- 加總（Summation）\n",
    "- 計數（Counter）\n",
    "- 乘積（Product）"
   ]
  },
  {
   "cell_type": "markdown",
   "metadata": {
    "slideshow": {
     "slide_type": "subslide"
    }
   },
   "source": [
    "## 面對向量，我們尋找的是函數"
   ]
  },
  {
   "cell_type": "code",
   "execution_count": 1,
   "metadata": {
    "slideshow": {
     "slide_type": "-"
    }
   },
   "outputs": [
    {
     "data": {
      "text/html": [
       "40"
      ],
      "text/latex": [
       "40"
      ],
      "text/markdown": [
       "40"
      ],
      "text/plain": [
       "[1] 40"
      ]
     },
     "metadata": {},
     "output_type": "display_data"
    }
   ],
   "source": [
    "# 加總（Summation）\n",
    "vec <- 6:10\n",
    "sum(vec)"
   ]
  },
  {
   "cell_type": "code",
   "execution_count": 2,
   "metadata": {
    "slideshow": {
     "slide_type": "-"
    }
   },
   "outputs": [
    {
     "data": {
      "text/html": [
       "5"
      ],
      "text/latex": [
       "5"
      ],
      "text/markdown": [
       "5"
      ],
      "text/plain": [
       "[1] 5"
      ]
     },
     "metadata": {},
     "output_type": "display_data"
    }
   ],
   "source": [
    "# 計數（Counter）\n",
    "vec <- 6:10\n",
    "length(vec)"
   ]
  },
  {
   "cell_type": "code",
   "execution_count": 3,
   "metadata": {
    "slideshow": {
     "slide_type": "-"
    }
   },
   "outputs": [
    {
     "data": {
      "text/html": [
       "30240"
      ],
      "text/latex": [
       "30240"
      ],
      "text/markdown": [
       "30240"
      ],
      "text/plain": [
       "[1] 30240"
      ]
     },
     "metadata": {},
     "output_type": "display_data"
    }
   ],
   "source": [
    "# 乘積（Product）\n",
    "vec <- 6:10\n",
    "prod(vec)"
   ]
  },
  {
   "cell_type": "markdown",
   "metadata": {
    "slideshow": {
     "slide_type": "subslide"
    }
   },
   "source": [
    "## 多數的情況下，需要我們去迭代的對象是\n",
    "\n",
    "- `list`\n",
    "- `data.frame`"
   ]
  },
  {
   "cell_type": "markdown",
   "metadata": {
    "slideshow": {
     "slide_type": "subslide"
    }
   },
   "source": [
    "## 如何以 `while` 迭代一個 `list`"
   ]
  },
  {
   "cell_type": "code",
   "execution_count": 4,
   "metadata": {
    "slideshow": {
     "slide_type": "-"
    }
   },
   "outputs": [
    {
     "name": "stdout",
     "output_type": "stream",
     "text": [
      "[1] 6\n",
      "[1] 7\n",
      "[1] 8\n",
      "[1] 9\n",
      "[1] 10\n"
     ]
    }
   ],
   "source": [
    "a_list <- list(6, 7, 8, 9, 10)\n",
    "i <- 1\n",
    "while (i <= length(a_list)) {\n",
    "    print(a_list[[i]])\n",
    "    i <- i + 1\n",
    "}"
   ]
  },
  {
   "cell_type": "markdown",
   "metadata": {
    "slideshow": {
     "slide_type": "subslide"
    }
   },
   "source": [
    "## 如何以 `for` 迭代一個 `list`"
   ]
  },
  {
   "cell_type": "code",
   "execution_count": 5,
   "metadata": {},
   "outputs": [
    {
     "name": "stdout",
     "output_type": "stream",
     "text": [
      "[1] 6\n",
      "[1] 7\n",
      "[1] 8\n",
      "[1] 9\n",
      "[1] 10\n"
     ]
    }
   ],
   "source": [
    "a_list <- list(6, 7, 8, 9, 10)\n",
    "for (item in a_list) {\n",
    "    print(item)\n",
    "}"
   ]
  },
  {
   "cell_type": "markdown",
   "metadata": {
    "slideshow": {
     "slide_type": "subslide"
    }
   },
   "source": [
    "## 如何以 `while` 迭代一個 `data.frame` 的列（rows）"
   ]
  },
  {
   "cell_type": "code",
   "execution_count": 6,
   "metadata": {},
   "outputs": [],
   "source": [
    "avengers <- c(\"The Avengers\", \"Avengers: Age of Ultron\", \"Avengers: Infinity War\", \"Avengers: Endgame\")\n",
    "ratings <- c(8.0, 7.3, 8.4, 8.4)\n",
    "release_year <- c(2012, 2015, 2018, 2019)\n",
    "is_good <- ratings >= 8\n",
    "avengers_df <- data.frame(title = avengers, rating = ratings, release_year, is_good)"
   ]
  },
  {
   "cell_type": "code",
   "execution_count": 7,
   "metadata": {
    "slideshow": {
     "slide_type": "subslide"
    }
   },
   "outputs": [
    {
     "name": "stdout",
     "output_type": "stream",
     "text": [
      "         title rating release_year is_good\n",
      "1 The Avengers      8         2012    TRUE\n",
      "                    title rating release_year is_good\n",
      "2 Avengers: Age of Ultron    7.3         2015   FALSE\n",
      "                   title rating release_year is_good\n",
      "3 Avengers: Infinity War    8.4         2018    TRUE\n",
      "              title rating release_year is_good\n",
      "4 Avengers: Endgame    8.4         2019    TRUE\n"
     ]
    }
   ],
   "source": [
    "i <- 1\n",
    "while (i <= nrow(avengers_df)) {\n",
    "    print(avengers_df[i, ])\n",
    "    i <- i + 1\n",
    "}"
   ]
  },
  {
   "cell_type": "markdown",
   "metadata": {
    "slideshow": {
     "slide_type": "subslide"
    }
   },
   "source": [
    "## 如何以 `while` 迭代一個 `data.frame` 的欄（columns）"
   ]
  },
  {
   "cell_type": "code",
   "execution_count": 8,
   "metadata": {},
   "outputs": [
    {
     "name": "stdout",
     "output_type": "stream",
     "text": [
      "[1] \"The Avengers\"            \"Avengers: Age of Ultron\"\n",
      "[3] \"Avengers: Infinity War\"  \"Avengers: Endgame\"      \n",
      "[1] 8.0 7.3 8.4 8.4\n",
      "[1] 2012 2015 2018 2019\n",
      "[1]  TRUE FALSE  TRUE  TRUE\n"
     ]
    }
   ],
   "source": [
    "i <- 1\n",
    "while (i <= ncol(avengers_df)) {\n",
    "    print(avengers_df[, i])\n",
    "    i <- i + 1\n",
    "}"
   ]
  },
  {
   "cell_type": "markdown",
   "metadata": {
    "slideshow": {
     "slide_type": "subslide"
    }
   },
   "source": [
    "## 如何以 `for` 迭代一個 `data.frame` 的列"
   ]
  },
  {
   "cell_type": "code",
   "execution_count": 9,
   "metadata": {},
   "outputs": [
    {
     "name": "stdout",
     "output_type": "stream",
     "text": [
      "         title rating release_year is_good\n",
      "1 The Avengers      8         2012    TRUE\n",
      "                    title rating release_year is_good\n",
      "2 Avengers: Age of Ultron    7.3         2015   FALSE\n",
      "                   title rating release_year is_good\n",
      "3 Avengers: Infinity War    8.4         2018    TRUE\n",
      "              title rating release_year is_good\n",
      "4 Avengers: Endgame    8.4         2019    TRUE\n"
     ]
    }
   ],
   "source": [
    "for (i in 1:nrow(avengers_df)) {\n",
    "    print(avengers_df[i, ])\n",
    "}"
   ]
  },
  {
   "cell_type": "markdown",
   "metadata": {
    "slideshow": {
     "slide_type": "subslide"
    }
   },
   "source": [
    "## 如何以 `for` 迭代一個 `data.frame` 的欄"
   ]
  },
  {
   "cell_type": "code",
   "execution_count": 10,
   "metadata": {},
   "outputs": [
    {
     "name": "stdout",
     "output_type": "stream",
     "text": [
      "[1] \"The Avengers\"            \"Avengers: Age of Ultron\"\n",
      "[3] \"Avengers: Infinity War\"  \"Avengers: Endgame\"      \n",
      "[1] 8.0 7.3 8.4 8.4\n",
      "[1] 2012 2015 2018 2019\n",
      "[1]  TRUE FALSE  TRUE  TRUE\n"
     ]
    }
   ],
   "source": [
    "for (i in 1:ncol(avengers_df)) {\n",
    "    print(avengers_df[, i])\n",
    "}"
   ]
  },
  {
   "cell_type": "markdown",
   "metadata": {
    "slideshow": {
     "slide_type": "subslide"
    }
   },
   "source": [
    "## 所有的 `for` 都可以用 `while` 重現，但反之不然\n",
    "\n",
    "- 確定重複運行次數的情境：採用 `for`\n",
    "- 不確定重複運行次數的情境：採用 `while`"
   ]
  },
  {
   "cell_type": "markdown",
   "metadata": {
    "slideshow": {
     "slide_type": "subslide"
    }
   },
   "source": [
    "## 不確定重複運行次數的情境，包含\n",
    "\n",
    "- 不確定性（Uncertainty）\n",
    "- 隨機性（Randomness）"
   ]
  }
 ],
 "metadata": {
  "celltoolbar": "Slideshow",
  "kernelspec": {
   "display_name": "R",
   "language": "R",
   "name": "ir403"
  },
  "language_info": {
   "codemirror_mode": "r",
   "file_extension": ".r",
   "mimetype": "text/x-r-source",
   "name": "R",
   "pygments_lexer": "r",
   "version": "4.0.3"
  }
 },
 "nbformat": 4,
 "nbformat_minor": 2
}
