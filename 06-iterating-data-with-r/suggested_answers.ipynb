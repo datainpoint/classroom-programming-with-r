{
 "cells": [
  {
   "cell_type": "markdown",
   "metadata": {
    "deletable": false,
    "editable": false
   },
   "source": [
    "# R 程式設計\n",
    "\n",
    "> 迭代資料\n",
    "\n",
    "[數據交點](https://www.datainpoint.com/) | 郭耀仁 <yaojenkuo@datainpoint.com>"
   ]
  },
  {
   "cell_type": "markdown",
   "metadata": {},
   "source": [
    "## 自訂一個函數 `filter_even_and_sum` 能將介於 `a` 與 `b` 之間的偶數挑出來加總後輸出，其中 $a \\leq b$。\n",
    "\n",
    "- 預期輸入：兩個 `numeric`\n",
    "- 預期輸出：一個 `numeric`"
   ]
  },
  {
   "cell_type": "code",
   "execution_count": 1,
   "metadata": {},
   "outputs": [],
   "source": [
    "filter_even_and_sum <- function(a, b) {\n",
    "    # filter_even_and_sum(2, 4)\n",
    "    # 6\n",
    "    # filter_even_and_sum(1, 5)\n",
    "    # 6\n",
    "    # filter_even_and_sum(2, 10)\n",
    "    # 30\n",
    "    # filter_even_and_sum(1, 11)\n",
    "    # 30\n",
    "    ### BEGIN SOLUTION\n",
    "    x <- a:b\n",
    "    evens <- x[x %% 2 == 0]\n",
    "    return(sum(evens))\n",
    "    ### END SOLUTION\n",
    "}"
   ]
  },
  {
   "cell_type": "markdown",
   "metadata": {},
   "source": [
    "## 自訂一個函數 `filter_negative_and_sum` 能將 `list` 中的負數挑出來加總後輸出。\n",
    "\n",
    "- 預期輸入：一個 `list`\n",
    "- 預期輸出：一個 `numeric`"
   ]
  },
  {
   "cell_type": "code",
   "execution_count": 2,
   "metadata": {},
   "outputs": [],
   "source": [
    "filter_negative_and_sum <- function(x) {\n",
    "    # filter_negative_and_sum(list(-5, 5, -6, 6))\n",
    "    # -11\n",
    "    # filter_negative_and_sum(list(-5,-5, -6, -6))\n",
    "    # -22\n",
    "    # filter_negative_and_sum(list(5, 5, 6, 6))\n",
    "    # 0\n",
    "    # filter_negative_and_sum(list(-5, -5, 6, 6))\n",
    "    # -10\n",
    "    # filter_negative_and_sum(list(5, 5, -6, -6))\n",
    "    # -12\n",
    "    ### BEGIN SOLUTION\n",
    "    negatives_sum <- 0\n",
    "    for (item in x) {\n",
    "        if (item < 0) {\n",
    "            negatives_sum <- negatives_sum + item\n",
    "        }\n",
    "    }\n",
    "    return(negatives_sum)\n",
    "    ### END SOLUTION\n",
    "}"
   ]
  },
  {
   "cell_type": "markdown",
   "metadata": {},
   "source": [
    "## 自訂一個函數 `get_factors` 能夠輸出一個正整數的所有因數。\n",
    "\n",
    "- 預期輸入：一個 `numeric`\n",
    "- 預期輸出：一個 `numeric`"
   ]
  },
  {
   "cell_type": "code",
   "execution_count": 3,
   "metadata": {},
   "outputs": [],
   "source": [
    "get_factors <- function(x) {\n",
    "    # get_factors(1)\n",
    "    # 1\n",
    "    # get_factors(2)\n",
    "    # 1 2\n",
    "    # get_factors(3)\n",
    "    # 1 3\n",
    "    # get_factors(4)\n",
    "    # 1 2 4\n",
    "    # get_factors(5)\n",
    "    # 1 5\n",
    "    ### BEGIN SOLUTION\n",
    "    possible_factors <- 1:x\n",
    "    is_factor <- x %% possible_factors == 0\n",
    "    factors <- possible_factors[is_factor]\n",
    "    return(factors)\n",
    "    ### END SOLUTION\n",
    "}"
   ]
  },
  {
   "cell_type": "markdown",
   "metadata": {},
   "source": [
    "## 自訂一個函數 `is_prime` 能夠判斷輸入的正整數是否為質數（恰好有兩個因數 1 與自身的正整數）。\n",
    "\n",
    "- 預期輸入：一個 `numeric`\n",
    "- 預期輸出：一個 `logical`"
   ]
  },
  {
   "cell_type": "code",
   "execution_count": 4,
   "metadata": {},
   "outputs": [],
   "source": [
    "is_prime <- function(x) {\n",
    "    # is_prime(1)\n",
    "    # FALSE\n",
    "    # is_prime(2)\n",
    "    # TRUE\n",
    "    # is_prime(3)\n",
    "    # TRUE\n",
    "    # is_prime(4)\n",
    "    # FALSE\n",
    "    # is_prime(5)\n",
    "    # TRUE\n",
    "    ### BEGIN SOLUTION\n",
    "    factors <- get_factors(x)\n",
    "    n_factors <- length(factors)\n",
    "    return(n_factors == 2)\n",
    "    ### END SOLUTION\n",
    "}"
   ]
  },
  {
   "cell_type": "markdown",
   "metadata": {},
   "source": [
    "## 自訂一個函數 `uppercase_firstname` 能夠將輸入人名轉換為大寫輸出。\n",
    "\n",
    "註：本題可能需要使用到 `strsplit` 與 `toupper` 函數。\n",
    "\n",
    "- 預期輸入：一個 `character`\n",
    "- 預期輸出：一個 `character`"
   ]
  },
  {
   "cell_type": "code",
   "execution_count": 5,
   "metadata": {},
   "outputs": [],
   "source": [
    "uppercase_firstname <- function(x) {\n",
    "    # uppercase_firstname('Luke Skywalker')\n",
    "    # 'LUKE'\n",
    "    # uppercase_firstname('Anakin Skywalker')\n",
    "    # 'ANAKIN'\n",
    "    # uppercase_firstname(c('Luke Skywalker', 'Anakin Skywalker'))\n",
    "    # 'LUKE' 'ANAKIN'\n",
    "    # uppercase_firstname(c('Luke Skywalker', 'Anakin Skywalker', 'Darth Vadar'))\n",
    "    # 'LUKE' 'ANAKIN' 'DARTH'\n",
    "    ### BEGIN SOLUTION\n",
    "    split_names <- strsplit(x, split = \" \")\n",
    "    split_firstnames <- sapply(split_names, FUN = function(x) x[[1]][1])\n",
    "    return(toupper(split_firstnames))\n",
    "    ### END SOLUTION\n",
    "}"
   ]
  },
  {
   "cell_type": "markdown",
   "metadata": {
    "deletable": false,
    "editable": false
   },
   "source": [
    "## 執行測試\n",
    "\n",
    "Kernel -> Restart & Run All."
   ]
  },
  {
   "cell_type": "code",
   "execution_count": 6,
   "metadata": {
    "deletable": false,
    "editable": false
   },
   "outputs": [
    {
     "name": "stdout",
     "output_type": "stream",
     "text": [
      "\u001b[32mTest passed\u001b[39m 🥇\n",
      "\u001b[32mTest passed\u001b[39m 🥳\n",
      "\u001b[32mTest passed\u001b[39m 😸\n",
      "\u001b[32mTest passed\u001b[39m 😸\n",
      "\u001b[32mTest passed\u001b[39m 😸\n"
     ]
    }
   ],
   "source": [
    "library(testthat)\n",
    "\n",
    "test_filter_even_and_sum <- tryCatch({\n",
    "    test_that(\"test_filter_even_and_sum\", {\n",
    "        expect_equal(filter_even_and_sum(2, 4), 6)\n",
    "        expect_equal(filter_even_and_sum(1, 5), 6)\n",
    "        expect_equal(filter_even_and_sum(2, 10), 30)\n",
    "        expect_equal(filter_even_and_sum(1, 11), 30)\n",
    "    })\n",
    "    }, error = function(e) {\n",
    "        FALSE\n",
    "})\n",
    "\n",
    "test_filter_negative_and_sum <- tryCatch({\n",
    "    test_that(\"test_filter_negative_and_sum\", {\n",
    "        expect_equal(filter_negative_and_sum(list(-5, 5, -6, 6)), -11)\n",
    "        expect_equal(filter_negative_and_sum(list(-5,-5, -6, -6)), -22)\n",
    "        expect_equal(filter_negative_and_sum(list(5, 5, 6, 6)), 0)\n",
    "        expect_equal(filter_negative_and_sum(list(-5, -5, 6, 6)), -10)\n",
    "        expect_equal(filter_negative_and_sum(list(5, 5, -6, -6)), -12)\n",
    "    })\n",
    "    }, error = function(e) {\n",
    "        FALSE\n",
    "})\n",
    "test_get_factors <- tryCatch({\n",
    "    test_that(\"test_get_factors\", {\n",
    "        expect_equal(get_factors(1), 1)\n",
    "        expect_equal(get_factors(2), c(1, 2))\n",
    "        expect_equal(get_factors(3), c(1, 3))\n",
    "        expect_equal(get_factors(4), c(1, 2, 4))\n",
    "        expect_equal(get_factors(5), c(1, 5))\n",
    "    })\n",
    "    }, error = function(e) {\n",
    "        FALSE\n",
    "})\n",
    "test_is_prime <- tryCatch({\n",
    "    test_that(\"test_is_prime\", {\n",
    "        expect_false(is_prime(1))\n",
    "        expect_true(is_prime(2))\n",
    "        expect_true(is_prime(3))\n",
    "        expect_false(is_prime(4))\n",
    "        expect_true(is_prime(5))\n",
    "    })\n",
    "    }, error = function(e) {\n",
    "        FALSE\n",
    "})\n",
    "test_uppercase_firstname <- tryCatch({\n",
    "    test_that(\"test_uppercase_firstname\", {\n",
    "        expect_equal(uppercase_firstname('Luke Skywalker'), 'LUKE')\n",
    "        expect_equal(uppercase_firstname('Anakin Skywalker'), 'ANAKIN')\n",
    "        expect_equal(uppercase_firstname(c('Luke Skywalker', 'Anakin Skywalker')), c('LUKE', 'ANAKIN'))\n",
    "        expect_equal(uppercase_firstname(c('Luke Skywalker', 'Anakin Skywalker', 'Darth Vadar')), c('LUKE', 'ANAKIN', 'DARTH'))\n",
    "    })\n",
    "    }, error = function(e) {\n",
    "        FALSE\n",
    "})"
   ]
  },
  {
   "cell_type": "code",
   "execution_count": 7,
   "metadata": {
    "deletable": false,
    "editable": false
   },
   "outputs": [
    {
     "data": {
      "text/html": [
       "'在 5 題中，您總共答對了 5 題。'"
      ],
      "text/latex": [
       "'在 5 題中，您總共答對了 5 題。'"
      ],
      "text/markdown": [
       "'在 5 題中，您總共答對了 5 題。'"
      ],
      "text/plain": [
       "[1] \"在 5 題中，您總共答對了 5 題。\""
      ]
     },
     "metadata": {},
     "output_type": "display_data"
    }
   ],
   "source": [
    "all_tests <- c(test_filter_even_and_sum, test_filter_negative_and_sum, test_get_factors, test_is_prime, test_uppercase_firstname)\n",
    "passed_tests <- sum(all_tests)\n",
    "sprintf(\"在 %s 題中，您總共答對了 %s 題。\", length(all_tests), passed_tests)"
   ]
  }
 ],
 "metadata": {
  "kernelspec": {
   "display_name": "R",
   "language": "R",
   "name": "ir403"
  },
  "language_info": {
   "codemirror_mode": "r",
   "file_extension": ".r",
   "mimetype": "text/x-r-source",
   "name": "R",
   "pygments_lexer": "r",
   "version": "4.0.3"
  }
 },
 "nbformat": 4,
 "nbformat_minor": 4
}
